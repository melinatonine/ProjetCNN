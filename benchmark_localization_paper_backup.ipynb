{
 "cells": [
  {
   "cell_type": "code",
   "execution_count": 1,
   "metadata": {},
   "outputs": [],
   "source": [
    "%load_ext autoreload\n",
    "%autoreload 2\n",
    "%matplotlib inline"
   ]
  },
  {
   "cell_type": "markdown",
   "metadata": {},
   "source": [
    "# Notebook to investigate the performance of spike interface in localizing neurons "
   ]
  },
  {
   "cell_type": "code",
   "execution_count": 2,
   "metadata": {},
   "outputs": [],
   "source": [
    "import MEArec as mr # what we will use to create a synthetic recording\n",
    "import spikeinterface.full as si  # what we will use to sort the spikes\n",
    "\n",
    "import warnings\n",
    "from probeinterface.plotting import plot_probe\n",
    "from matplotlib import cm\n",
    "from probeinterface import read_prb\n",
    "\n",
    "import time\n",
    "import numpy as np\n",
    "\n",
    "job_kwargs = {'n_jobs' : -1, 'chunk_memory' : '10M', 'verbose': True, 'progress_bar': True}"
   ]
  },
  {
   "cell_type": "code",
   "execution_count": 3,
   "metadata": {},
   "outputs": [],
   "source": [
    "rec = mr.load_recordings('recordings.h5')\n",
    "positions = np.hstack((rec.template_locations[:, 1:3], rec.template_locations[:, 0][:, np.newaxis]))\n",
    "\n",
    "from spikeinterface.sortingcomponents.benchmark.benchmark_peak_localization import BenchmarkPeakLocalization, plot_comparison_positions\n",
    "recording, gt_sorting = si.read_mearec('recordings.h5')\n",
    "recording_f = si.bandpass_filter(recording)\n",
    "recording_f = si.common_reference(recording_f)\n",
    "recording_f = si.zscore(recording_f)"
   ]
  },
  {
   "cell_type": "code",
   "execution_count": 6,
   "metadata": {},
   "outputs": [
    {
     "name": "stdout",
     "output_type": "stream",
     "text": [
      "extract waveforms shared_memory multi buffer with n_jobs = 72 and chunk_size = 9765\n"
     ]
    },
    {
     "data": {
      "application/vnd.jupyter.widget-view+json": {
       "model_id": "69165ed3c6ba4982bb3fbcc7bca0e45d",
       "version_major": 2,
       "version_minor": 0
      },
      "text/plain": [
       "extract waveforms shared_memory multi buffer:   0%|          | 0/33 [00:00<?, ?it/s]"
      ]
     },
     "metadata": {},
     "output_type": "display_data"
    },
    {
     "name": "stdout",
     "output_type": "stream",
     "text": [
      "extract waveforms shared_memory multi buffer with n_jobs = 72 and chunk_size = 9765\n"
     ]
    },
    {
     "data": {
      "application/vnd.jupyter.widget-view+json": {
       "model_id": "37fe43d7423844d6b19b6fc2a2266b1b",
       "version_major": 2,
       "version_minor": 0
      },
      "text/plain": [
       "extract waveforms shared_memory multi buffer:   0%|          | 0/33 [00:00<?, ?it/s]"
      ]
     },
     "metadata": {},
     "output_type": "display_data"
    },
    {
     "name": "stdout",
     "output_type": "stream",
     "text": [
      "extract waveforms shared_memory multi buffer with n_jobs = 72 and chunk_size = 9765\n"
     ]
    },
    {
     "data": {
      "application/vnd.jupyter.widget-view+json": {
       "model_id": "307bb6693f5b45559017d716750e97b0",
       "version_major": 2,
       "version_minor": 0
      },
      "text/plain": [
       "extract waveforms shared_memory multi buffer:   0%|          | 0/33 [00:00<?, ?it/s]"
      ]
     },
     "metadata": {},
     "output_type": "display_data"
    },
    {
     "name": "stdout",
     "output_type": "stream",
     "text": [
      "localize peaks using center_of_mass with n_jobs = 72 and chunk_size = 9765\n"
     ]
    },
    {
     "data": {
      "application/vnd.jupyter.widget-view+json": {
       "model_id": "5633c06d18f74d368e54253b937138ad",
       "version_major": 2,
       "version_minor": 0
      },
      "text/plain": [
       "localize peaks using center_of_mass:   0%|          | 0/33 [00:00<?, ?it/s]"
      ]
     },
     "metadata": {},
     "output_type": "display_data"
    },
    {
     "name": "stdout",
     "output_type": "stream",
     "text": [
      "localize peaks using center_of_mass with n_jobs = 72 and chunk_size = 9765\n"
     ]
    },
    {
     "data": {
      "application/vnd.jupyter.widget-view+json": {
       "model_id": "ee37e17fe545432381f659ead2bc50cb",
       "version_major": 2,
       "version_minor": 0
      },
      "text/plain": [
       "localize peaks using center_of_mass:   0%|          | 0/33 [00:00<?, ?it/s]"
      ]
     },
     "metadata": {},
     "output_type": "display_data"
    },
    {
     "name": "stdout",
     "output_type": "stream",
     "text": [
      "localize peaks using center_of_mass with n_jobs = 72 and chunk_size = 9765\n"
     ]
    },
    {
     "data": {
      "application/vnd.jupyter.widget-view+json": {
       "model_id": "facc2b251ce243bebff13888910d4353",
       "version_major": 2,
       "version_minor": 0
      },
      "text/plain": [
       "localize peaks using center_of_mass:   0%|          | 0/33 [00:00<?, ?it/s]"
      ]
     },
     "metadata": {},
     "output_type": "display_data"
    },
    {
     "name": "stdout",
     "output_type": "stream",
     "text": [
      "localize peaks using monopolar_triangulation with n_jobs = 72 and chunk_size = 9765\n"
     ]
    },
    {
     "data": {
      "application/vnd.jupyter.widget-view+json": {
       "model_id": "e2aef3b22b944aeebb47fd5d6640feac",
       "version_major": 2,
       "version_minor": 0
      },
      "text/plain": [
       "localize peaks using monopolar_triangulation:   0%|          | 0/33 [00:00<?, ?it/s]"
      ]
     },
     "metadata": {},
     "output_type": "display_data"
    },
    {
     "name": "stdout",
     "output_type": "stream",
     "text": [
      "localize peaks using monopolar_triangulation with n_jobs = 72 and chunk_size = 9765\n"
     ]
    },
    {
     "data": {
      "application/vnd.jupyter.widget-view+json": {
       "model_id": "7828b43d8df84e46915833da1d352bed",
       "version_major": 2,
       "version_minor": 0
      },
      "text/plain": [
       "localize peaks using monopolar_triangulation:   0%|          | 0/33 [00:00<?, ?it/s]"
      ]
     },
     "metadata": {},
     "output_type": "display_data"
    },
    {
     "name": "stdout",
     "output_type": "stream",
     "text": [
      "localize peaks using monopolar_triangulation with n_jobs = 72 and chunk_size = 9765\n"
     ]
    },
    {
     "data": {
      "application/vnd.jupyter.widget-view+json": {
       "model_id": "4fc32175f232483886b231833bff6f87",
       "version_major": 2,
       "version_minor": 0
      },
      "text/plain": [
       "localize peaks using monopolar_triangulation:   0%|          | 0/33 [00:00<?, ?it/s]"
      ]
     },
     "metadata": {},
     "output_type": "display_data"
    },
    {
     "data": {
      "application/vnd.jupyter.widget-view+json": {
       "model_id": "e1f31bcff53d475d9dddc79790745e00",
       "version_major": 2,
       "version_minor": 0
      },
      "text/plain": [
       "extract waveforms shared_memory mono buffer:   0%|          | 0/10 [00:00<?, ?it/s]"
      ]
     },
     "metadata": {},
     "output_type": "display_data"
    },
    {
     "name": "stderr",
     "output_type": "stream",
     "text": [
      "/media/cure/Secondary/pierre/softwares/spikeinterface/src/spikeinterface/sortingcomponents/tools.py:70: RuntimeWarning: invalid value encountered in divide\n",
      "  prototype = np.nanmedian(waveforms[:, :, 0] / (np.abs(waveforms[:, nbefore, 0][:, np.newaxis])), axis=0)\n"
     ]
    },
    {
     "data": {
      "application/vnd.jupyter.widget-view+json": {
       "model_id": "1b97522d093a479fb626572b9e5681e1",
       "version_major": 2,
       "version_minor": 0
      },
      "text/plain": [
       "extract waveforms shared_memory mono buffer:   0%|          | 0/10 [00:00<?, ?it/s]"
      ]
     },
     "metadata": {},
     "output_type": "display_data"
    },
    {
     "name": "stdout",
     "output_type": "stream",
     "text": [
      "localize peaks using grid_convolution with n_jobs = 72 and chunk_size = 9765\n"
     ]
    },
    {
     "data": {
      "application/vnd.jupyter.widget-view+json": {
       "model_id": "0707658e1b8d40fb8f76a047a4f730f4",
       "version_major": 2,
       "version_minor": 0
      },
      "text/plain": [
       "localize peaks using grid_convolution:   0%|          | 0/33 [00:00<?, ?it/s]"
      ]
     },
     "metadata": {},
     "output_type": "display_data"
    }
   ],
   "source": [
    "benchmarks = []\n",
    "waveforms = None\n",
    "for method in ['center_of_mass', 'monopolar_triangulation', 'grid_convolution']:\n",
    "    if method == 'center_of_mass':\n",
    "        for feature in ['ptp', 'energy', 'peak_voltage']:\n",
    "            title = f'CoM ({feature})'\n",
    "            params = {'feature' : feature}\n",
    "            bench = BenchmarkPeakLocalization(recording_f, gt_sorting, positions, job_kwargs=job_kwargs, title=title)\n",
    "            if waveforms is not None:\n",
    "                bench.waveforms = waveforms\n",
    "            bench.run(method, params)\n",
    "            waveforms = bench.waveforms\n",
    "            benchmarks.append(bench)\n",
    "    elif method == 'monopolar_triangulation':\n",
    "        for feature in ['ptp', 'energy', 'peak_voltage']:\n",
    "            title = f'Monopolar ({feature})'\n",
    "            params = {'enforce_decrease': True, 'feature' : feature}\n",
    "            bench = BenchmarkPeakLocalization(recording_f, gt_sorting, positions, job_kwargs=job_kwargs, title=title)\n",
    "            if waveforms is not None:\n",
    "                bench.waveforms = waveforms\n",
    "            bench.run(method, params)\n",
    "            waveforms = bench.waveforms\n",
    "            benchmarks.append(bench)\n",
    "    elif method == 'grid_convolution':\n",
    "        title = 'Grid'\n",
    "        params = {}\n",
    "        bench = BenchmarkPeakLocalization(recording_f, gt_sorting, positions, job_kwargs=job_kwargs, title=title)\n",
    "        if waveforms is not None:\n",
    "            bench.waveforms = waveforms\n",
    "        bench.run(method, params)\n",
    "        waveforms = bench.waveforms\n",
    "        benchmarks.append(bench)\n",
    "    \n",
    "    "
   ]
  },
  {
   "cell_type": "code",
   "execution_count": 7,
   "metadata": {},
   "outputs": [
    {
     "name": "stdout",
     "output_type": "stream",
     "text": [
      "GridSpec(4, 3)\n"
     ]
    },
    {
     "data": {
      "image/png": "[encoded data removed]",
      "text/plain": [
       "<Figure size 1080x720 with 8 Axes>"
      ]
     },
     "metadata": {
      "needs_background": "light"
     },
     "output_type": "display_data"
    }
   ],
   "source": [
    "colors = {}\n",
    "\n",
    "import matplotlib as mpl\n",
    "\n",
    "cmap = mpl.cm.tab20c\n",
    "norm = mpl.colors.Normalize(vmin=0, vmax=1)\n",
    "\n",
    "for value, bench in zip([0,0.05,0.1, 0.4,0.45,0.5, 0.8], benchmarks):    \n",
    "    colors[bench.title] = mpl.cm.ScalarMappable(norm=norm, cmap=cmap).to_rgba(value)\n",
    "    \n",
    "plot_comparison_positions(benchmarks, colors=colors)\n",
    "import pylab as plt\n",
    "plt.savefig('comparison.pdf')"
   ]
  },
  {
   "cell_type": "code",
   "execution_count": 6,
   "metadata": {
    "scrolled": true
   },
   "outputs": [
    {
     "name": "stdout",
     "output_type": "stream",
     "text": [
      "ZScoreRecording: 256 channels - 32.0kHz - 1 segments - 320,000 samples - 10.00s - float32 dtype \n",
      "                 312.50 MiB\n",
      "extract waveforms shared_memory multi buffer with n_jobs = 72 and chunk_size = 9765\n"
     ]
    },
    {
     "data": {
      "application/vnd.jupyter.widget-view+json": {
       "model_id": "bf851267daf0459d965e0c586689d62b",
       "version_major": 2,
       "version_minor": 0
      },
      "text/plain": [
       "extract waveforms shared_memory multi buffer:   0%|          | 0/33 [00:00<?, ?it/s]"
      ]
     },
     "metadata": {},
     "output_type": "display_data"
    },
    {
     "name": "stdout",
     "output_type": "stream",
     "text": [
      "extract waveforms shared_memory multi buffer with n_jobs = 72 and chunk_size = 9765\n"
     ]
    },
    {
     "data": {
      "application/vnd.jupyter.widget-view+json": {
       "model_id": "2a81039853ee428fabf0e1f21666551e",
       "version_major": 2,
       "version_minor": 0
      },
      "text/plain": [
       "extract waveforms shared_memory multi buffer:   0%|          | 0/33 [00:00<?, ?it/s]"
      ]
     },
     "metadata": {},
     "output_type": "display_data"
    },
    {
     "name": "stdout",
     "output_type": "stream",
     "text": [
      "extract waveforms shared_memory multi buffer with n_jobs = 72 and chunk_size = 9765\n"
     ]
    },
    {
     "data": {
      "application/vnd.jupyter.widget-view+json": {
       "model_id": "40c6d61d4a27420eab2f98449578283f",
       "version_major": 2,
       "version_minor": 0
      },
      "text/plain": [
       "extract waveforms shared_memory multi buffer:   0%|          | 0/33 [00:00<?, ?it/s]"
      ]
     },
     "metadata": {},
     "output_type": "display_data"
    },
    {
     "name": "stdout",
     "output_type": "stream",
     "text": [
      "ZScoreRecording: 256 channels - 32.0kHz - 1 segments - 320,000 samples - 10.00s - float32 dtype \n",
      "                 312.50 MiB\n"
     ]
    },
    {
     "name": "stderr",
     "output_type": "stream",
     "text": [
      "/media/cure/Secondary/pierre/softwares/spikeinterface/src/spikeinterface/widgets/widget_list.py:146: UserWarning: plot_timeseries() is now plot_traces()\n",
      "  warnings.warn(\"plot_timeseries() is now plot_traces()\")\n",
      "/media/cure/Secondary/pierre/softwares/spikeinterface/src/spikeinterface/sortingcomponents/benchmark/benchmark_peak_localization.py:557: UserWarning: *c* argument looks like a single numeric RGB or RGBA sequence, which should be avoided as value-mapping will have precedence in case its length matches with *x* & *y*.  Please use the *color* keyword-argument or provide a 2D array with a single row if you intend to specify the same RGB or RGBA value for all points.\n",
      "  axs[0, 2].scatter(benchmark_1.template_positions[cell_ind, 0], benchmark_1.template_positions[cell_ind, 1], c=colors[benchmark_1.title], s=100)\n"
     ]
    },
    {
     "data": {
      "image/png": "[encoded data removed]",
      "text/plain": [
       "<Figure size 1080x720 with 6 Axes>"
      ]
     },
     "metadata": {
      "needs_background": "light"
     },
     "output_type": "display_data"
    }
   ],
   "source": [
    "from spikeinterface.sortingcomponents.benchmark.benchmark_peak_localization import BenchmarkPeakLocalization, plot_figure_1\n",
    "plot_figure_1(benchmarks, colors=colors)\n",
    "plt.savefig('illustration.pdf')"
   ]
  },
  {
   "cell_type": "code",
   "execution_count": 7,
   "metadata": {},
   "outputs": [],
   "source": [
    "from spikeinterface.sortingcomponents.benchmark.benchmark_peak_localization import plot_comparison_precision"
   ]
  },
  {
   "cell_type": "code",
   "execution_count": 8,
   "metadata": {
    "scrolled": true
   },
   "outputs": [
    {
     "name": "stdout",
     "output_type": "stream",
     "text": [
      "extract waveforms shared_memory multi buffer with n_jobs = 72 and chunk_size = 9765\n"
     ]
    },
    {
     "data": {
      "application/vnd.jupyter.widget-view+json": {
       "model_id": "f32f0355ddf54b19ba3e2562359e3af3",
       "version_major": 2,
       "version_minor": 0
      },
      "text/plain": [
       "extract waveforms shared_memory multi buffer:   0%|          | 0/33 [00:00<?, ?it/s]"
      ]
     },
     "metadata": {},
     "output_type": "display_data"
    },
    {
     "name": "stdout",
     "output_type": "stream",
     "text": [
      "extract waveforms shared_memory multi buffer with n_jobs = 72 and chunk_size = 9765\n"
     ]
    },
    {
     "data": {
      "application/vnd.jupyter.widget-view+json": {
       "model_id": "a02e6500f51444c3add0dd2f4b588ef4",
       "version_major": 2,
       "version_minor": 0
      },
      "text/plain": [
       "extract waveforms shared_memory multi buffer:   0%|          | 0/33 [00:00<?, ?it/s]"
      ]
     },
     "metadata": {},
     "output_type": "display_data"
    },
    {
     "name": "stdout",
     "output_type": "stream",
     "text": [
      "extract waveforms memmap multi buffer with n_jobs = 72 and chunk_size = 9765\n"
     ]
    },
    {
     "data": {
      "application/vnd.jupyter.widget-view+json": {
       "model_id": "fbb9e81bc8ef40fdb2f28b44b8f11f62",
       "version_major": 2,
       "version_minor": 0
      },
      "text/plain": [
       "extract waveforms memmap multi buffer:   0%|          | 0/33 [00:00<?, ?it/s]"
      ]
     },
     "metadata": {},
     "output_type": "display_data"
    },
    {
     "name": "stdout",
     "output_type": "stream",
     "text": [
      "localize peaks using monopolar_triangulation with n_jobs = 72 and chunk_size = 9765\n"
     ]
    },
    {
     "data": {
      "application/vnd.jupyter.widget-view+json": {
       "model_id": "f56c5313d6fa429093a6d535fc91efac",
       "version_major": 2,
       "version_minor": 0
      },
      "text/plain": [
       "localize peaks using monopolar_triangulation:   0%|          | 0/33 [00:00<?, ?it/s]"
      ]
     },
     "metadata": {},
     "output_type": "display_data"
    },
    {
     "name": "stdout",
     "output_type": "stream",
     "text": [
      "localize peaks using monopolar_triangulation with n_jobs = 72 and chunk_size = 9765\n"
     ]
    },
    {
     "data": {
      "application/vnd.jupyter.widget-view+json": {
       "model_id": "7805045be6c44d25ba9d17f0acba27e3",
       "version_major": 2,
       "version_minor": 0
      },
      "text/plain": [
       "localize peaks using monopolar_triangulation:   0%|          | 0/33 [00:00<?, ?it/s]"
      ]
     },
     "metadata": {},
     "output_type": "display_data"
    },
    {
     "name": "stdout",
     "output_type": "stream",
     "text": [
      "localize peaks using monopolar_triangulation with n_jobs = 72 and chunk_size = 9765\n"
     ]
    },
    {
     "data": {
      "application/vnd.jupyter.widget-view+json": {
       "model_id": "7fa137b2302d4ad69cc9b1161f320453",
       "version_major": 2,
       "version_minor": 0
      },
      "text/plain": [
       "localize peaks using monopolar_triangulation:   0%|          | 0/33 [00:00<?, ?it/s]"
      ]
     },
     "metadata": {},
     "output_type": "display_data"
    },
    {
     "name": "stdout",
     "output_type": "stream",
     "text": [
      "localize peaks using monopolar_triangulation with n_jobs = 72 and chunk_size = 9765\n"
     ]
    },
    {
     "data": {
      "application/vnd.jupyter.widget-view+json": {
       "model_id": "16f32ea8836c4a01b6ac5a0b64b59560",
       "version_major": 2,
       "version_minor": 0
      },
      "text/plain": [
       "localize peaks using monopolar_triangulation:   0%|          | 0/33 [00:00<?, ?it/s]"
      ]
     },
     "metadata": {},
     "output_type": "display_data"
    },
    {
     "name": "stdout",
     "output_type": "stream",
     "text": [
      "localize peaks using monopolar_triangulation with n_jobs = 72 and chunk_size = 9765\n"
     ]
    },
    {
     "data": {
      "application/vnd.jupyter.widget-view+json": {
       "model_id": "9e87d3fc23f744b4b605723f47678b01",
       "version_major": 2,
       "version_minor": 0
      },
      "text/plain": [
       "localize peaks using monopolar_triangulation:   0%|          | 0/33 [00:00<?, ?it/s]"
      ]
     },
     "metadata": {},
     "output_type": "display_data"
    },
    {
     "name": "stdout",
     "output_type": "stream",
     "text": [
      "localize peaks using monopolar_triangulation with n_jobs = 72 and chunk_size = 9765\n"
     ]
    },
    {
     "data": {
      "application/vnd.jupyter.widget-view+json": {
       "model_id": "ca6d9a20e20943b084e56f69150a381c",
       "version_major": 2,
       "version_minor": 0
      },
      "text/plain": [
       "localize peaks using monopolar_triangulation:   0%|          | 0/33 [00:00<?, ?it/s]"
      ]
     },
     "metadata": {},
     "output_type": "display_data"
    },
    {
     "name": "stdout",
     "output_type": "stream",
     "text": [
      "localize peaks using monopolar_triangulation with n_jobs = 72 and chunk_size = 9765\n"
     ]
    },
    {
     "data": {
      "application/vnd.jupyter.widget-view+json": {
       "model_id": "b2d09f2e8b06445b9b0bc00375c576a5",
       "version_major": 2,
       "version_minor": 0
      },
      "text/plain": [
       "localize peaks using monopolar_triangulation:   0%|          | 0/33 [00:00<?, ?it/s]"
      ]
     },
     "metadata": {},
     "output_type": "display_data"
    },
    {
     "name": "stdout",
     "output_type": "stream",
     "text": [
      "localize peaks using monopolar_triangulation with n_jobs = 72 and chunk_size = 9765\n"
     ]
    },
    {
     "data": {
      "application/vnd.jupyter.widget-view+json": {
       "model_id": "dc8f6a65325546db86f113c6f4dd7eeb",
       "version_major": 2,
       "version_minor": 0
      },
      "text/plain": [
       "localize peaks using monopolar_triangulation:   0%|          | 0/33 [00:00<?, ?it/s]"
      ]
     },
     "metadata": {},
     "output_type": "display_data"
    },
    {
     "name": "stdout",
     "output_type": "stream",
     "text": [
      "localize peaks using monopolar_triangulation with n_jobs = 72 and chunk_size = 9765\n"
     ]
    },
    {
     "data": {
      "application/vnd.jupyter.widget-view+json": {
       "model_id": "54ba4dd6847544ada8739cc898bb588e",
       "version_major": 2,
       "version_minor": 0
      },
      "text/plain": [
       "localize peaks using monopolar_triangulation:   0%|          | 0/33 [00:00<?, ?it/s]"
      ]
     },
     "metadata": {},
     "output_type": "display_data"
    },
    {
     "name": "stdout",
     "output_type": "stream",
     "text": [
      "localize peaks using monopolar_triangulation with n_jobs = 72 and chunk_size = 9765\n"
     ]
    },
    {
     "data": {
      "application/vnd.jupyter.widget-view+json": {
       "model_id": "457eb0c88284471aad4251daff7b6076",
       "version_major": 2,
       "version_minor": 0
      },
      "text/plain": [
       "localize peaks using monopolar_triangulation:   0%|          | 0/33 [00:00<?, ?it/s]"
      ]
     },
     "metadata": {},
     "output_type": "display_data"
    },
    {
     "name": "stdout",
     "output_type": "stream",
     "text": [
      "localize peaks using monopolar_triangulation with n_jobs = 72 and chunk_size = 9765\n"
     ]
    },
    {
     "data": {
      "application/vnd.jupyter.widget-view+json": {
       "model_id": "cd878de14c4d41abaff5c23c7e15509d",
       "version_major": 2,
       "version_minor": 0
      },
      "text/plain": [
       "localize peaks using monopolar_triangulation:   0%|          | 0/33 [00:00<?, ?it/s]"
      ]
     },
     "metadata": {},
     "output_type": "display_data"
    },
    {
     "name": "stdout",
     "output_type": "stream",
     "text": [
      "localize peaks using monopolar_triangulation with n_jobs = 72 and chunk_size = 9765\n"
     ]
    },
    {
     "data": {
      "application/vnd.jupyter.widget-view+json": {
       "model_id": "0ed170f44cbe439693156cf9a5cb887c",
       "version_major": 2,
       "version_minor": 0
      },
      "text/plain": [
       "localize peaks using monopolar_triangulation:   0%|          | 0/33 [00:00<?, ?it/s]"
      ]
     },
     "metadata": {},
     "output_type": "display_data"
    },
    {
     "name": "stdout",
     "output_type": "stream",
     "text": [
      "localize peaks using monopolar_triangulation with n_jobs = 72 and chunk_size = 9765\n"
     ]
    },
    {
     "data": {
      "application/vnd.jupyter.widget-view+json": {
       "model_id": "edc2bf76babe48369662d364d1819e58",
       "version_major": 2,
       "version_minor": 0
      },
      "text/plain": [
       "localize peaks using monopolar_triangulation:   0%|          | 0/33 [00:00<?, ?it/s]"
      ]
     },
     "metadata": {},
     "output_type": "display_data"
    },
    {
     "name": "stdout",
     "output_type": "stream",
     "text": [
      "localize peaks using monopolar_triangulation with n_jobs = 72 and chunk_size = 9765\n"
     ]
    },
    {
     "data": {
      "application/vnd.jupyter.widget-view+json": {
       "model_id": "615b703aadde4f83b29e02340d8f9c70",
       "version_major": 2,
       "version_minor": 0
      },
      "text/plain": [
       "localize peaks using monopolar_triangulation:   0%|          | 0/33 [00:00<?, ?it/s]"
      ]
     },
     "metadata": {},
     "output_type": "display_data"
    },
    {
     "name": "stdout",
     "output_type": "stream",
     "text": [
      "localize peaks using monopolar_triangulation with n_jobs = 72 and chunk_size = 9765\n"
     ]
    },
    {
     "data": {
      "application/vnd.jupyter.widget-view+json": {
       "model_id": "e09bb3f1da58449aa8c693599a2a550c",
       "version_major": 2,
       "version_minor": 0
      },
      "text/plain": [
       "localize peaks using monopolar_triangulation:   0%|          | 0/33 [00:00<?, ?it/s]"
      ]
     },
     "metadata": {},
     "output_type": "display_data"
    },
    {
     "name": "stdout",
     "output_type": "stream",
     "text": [
      "localize peaks using monopolar_triangulation with n_jobs = 72 and chunk_size = 9765\n"
     ]
    },
    {
     "data": {
      "application/vnd.jupyter.widget-view+json": {
       "model_id": "08712a7d23a1437b8f968c15ae95db14",
       "version_major": 2,
       "version_minor": 0
      },
      "text/plain": [
       "localize peaks using monopolar_triangulation:   0%|          | 0/33 [00:00<?, ?it/s]"
      ]
     },
     "metadata": {},
     "output_type": "display_data"
    },
    {
     "name": "stdout",
     "output_type": "stream",
     "text": [
      "localize peaks using monopolar_triangulation with n_jobs = 72 and chunk_size = 9765\n"
     ]
    },
    {
     "data": {
      "application/vnd.jupyter.widget-view+json": {
       "model_id": "67406b79008b4aeca51bd557acb244b1",
       "version_major": 2,
       "version_minor": 0
      },
      "text/plain": [
       "localize peaks using monopolar_triangulation:   0%|          | 0/33 [00:00<?, ?it/s]"
      ]
     },
     "metadata": {},
     "output_type": "display_data"
    },
    {
     "name": "stdout",
     "output_type": "stream",
     "text": [
      "localize peaks using monopolar_triangulation with n_jobs = 72 and chunk_size = 9765\n"
     ]
    },
    {
     "data": {
      "application/vnd.jupyter.widget-view+json": {
       "model_id": "237673c85c2f4dc6981df1dbd84d4a45",
       "version_major": 2,
       "version_minor": 0
      },
      "text/plain": [
       "localize peaks using monopolar_triangulation:   0%|          | 0/33 [00:00<?, ?it/s]"
      ]
     },
     "metadata": {},
     "output_type": "display_data"
    },
    {
     "name": "stdout",
     "output_type": "stream",
     "text": [
      "localize peaks using center_of_mass with n_jobs = 72 and chunk_size = 9765\n"
     ]
    },
    {
     "data": {
      "application/vnd.jupyter.widget-view+json": {
       "model_id": "421ecdff35a0426ebf717f11ee50a0db",
       "version_major": 2,
       "version_minor": 0
      },
      "text/plain": [
       "localize peaks using center_of_mass:   0%|          | 0/33 [00:00<?, ?it/s]"
      ]
     },
     "metadata": {},
     "output_type": "display_data"
    },
    {
     "name": "stdout",
     "output_type": "stream",
     "text": [
      "localize peaks using center_of_mass with n_jobs = 72 and chunk_size = 9765\n"
     ]
    },
    {
     "data": {
      "application/vnd.jupyter.widget-view+json": {
       "model_id": "05169373192b40089af6aa178304627f",
       "version_major": 2,
       "version_minor": 0
      },
      "text/plain": [
       "localize peaks using center_of_mass:   0%|          | 0/33 [00:00<?, ?it/s]"
      ]
     },
     "metadata": {},
     "output_type": "display_data"
    },
    {
     "name": "stdout",
     "output_type": "stream",
     "text": [
      "localize peaks using center_of_mass with n_jobs = 72 and chunk_size = 9765\n"
     ]
    },
    {
     "data": {
      "application/vnd.jupyter.widget-view+json": {
       "model_id": "a2070bb4bea1435f88a66ffb6c720da6",
       "version_major": 2,
       "version_minor": 0
      },
      "text/plain": [
       "localize peaks using center_of_mass:   0%|          | 0/33 [00:00<?, ?it/s]"
      ]
     },
     "metadata": {},
     "output_type": "display_data"
    },
    {
     "name": "stdout",
     "output_type": "stream",
     "text": [
      "localize peaks using center_of_mass with n_jobs = 72 and chunk_size = 9765\n"
     ]
    },
    {
     "data": {
      "application/vnd.jupyter.widget-view+json": {
       "model_id": "d4861daab6954507a8428d52c7ec4b5c",
       "version_major": 2,
       "version_minor": 0
      },
      "text/plain": [
       "localize peaks using center_of_mass:   0%|          | 0/33 [00:00<?, ?it/s]"
      ]
     },
     "metadata": {},
     "output_type": "display_data"
    },
    {
     "name": "stdout",
     "output_type": "stream",
     "text": [
      "localize peaks using center_of_mass with n_jobs = 72 and chunk_size = 9765\n"
     ]
    },
    {
     "data": {
      "application/vnd.jupyter.widget-view+json": {
       "model_id": "5136c2f0cd224404a99d25baf6760e29",
       "version_major": 2,
       "version_minor": 0
      },
      "text/plain": [
       "localize peaks using center_of_mass:   0%|          | 0/33 [00:00<?, ?it/s]"
      ]
     },
     "metadata": {},
     "output_type": "display_data"
    },
    {
     "name": "stdout",
     "output_type": "stream",
     "text": [
      "localize peaks using center_of_mass with n_jobs = 72 and chunk_size = 9765\n"
     ]
    },
    {
     "data": {
      "application/vnd.jupyter.widget-view+json": {
       "model_id": "1a807ab684de4b149ad4a9b0d75bd08e",
       "version_major": 2,
       "version_minor": 0
      },
      "text/plain": [
       "localize peaks using center_of_mass:   0%|          | 0/33 [00:00<?, ?it/s]"
      ]
     },
     "metadata": {},
     "output_type": "display_data"
    },
    {
     "name": "stdout",
     "output_type": "stream",
     "text": [
      "localize peaks using center_of_mass with n_jobs = 72 and chunk_size = 9765\n"
     ]
    },
    {
     "data": {
      "application/vnd.jupyter.widget-view+json": {
       "model_id": "80ca04cdc171404b8ef3d6a8f63e8686",
       "version_major": 2,
       "version_minor": 0
      },
      "text/plain": [
       "localize peaks using center_of_mass:   0%|          | 0/33 [00:00<?, ?it/s]"
      ]
     },
     "metadata": {},
     "output_type": "display_data"
    },
    {
     "name": "stdout",
     "output_type": "stream",
     "text": [
      "localize peaks using center_of_mass with n_jobs = 72 and chunk_size = 9765\n"
     ]
    },
    {
     "data": {
      "application/vnd.jupyter.widget-view+json": {
       "model_id": "70373016da084febb767b03327561546",
       "version_major": 2,
       "version_minor": 0
      },
      "text/plain": [
       "localize peaks using center_of_mass:   0%|          | 0/33 [00:00<?, ?it/s]"
      ]
     },
     "metadata": {},
     "output_type": "display_data"
    },
    {
     "name": "stdout",
     "output_type": "stream",
     "text": [
      "localize peaks using center_of_mass with n_jobs = 72 and chunk_size = 9765\n"
     ]
    },
    {
     "data": {
      "application/vnd.jupyter.widget-view+json": {
       "model_id": "a9f45a3b961b42429e0575187b5258c5",
       "version_major": 2,
       "version_minor": 0
      },
      "text/plain": [
       "localize peaks using center_of_mass:   0%|          | 0/33 [00:00<?, ?it/s]"
      ]
     },
     "metadata": {},
     "output_type": "display_data"
    },
    {
     "name": "stdout",
     "output_type": "stream",
     "text": [
      "localize peaks using center_of_mass with n_jobs = 72 and chunk_size = 9765\n"
     ]
    },
    {
     "data": {
      "application/vnd.jupyter.widget-view+json": {
       "model_id": "a3106c00150a420ba07a5da13284772a",
       "version_major": 2,
       "version_minor": 0
      },
      "text/plain": [
       "localize peaks using center_of_mass:   0%|          | 0/33 [00:00<?, ?it/s]"
      ]
     },
     "metadata": {},
     "output_type": "display_data"
    },
    {
     "name": "stdout",
     "output_type": "stream",
     "text": [
      "localize peaks using center_of_mass with n_jobs = 72 and chunk_size = 9765\n"
     ]
    },
    {
     "data": {
      "application/vnd.jupyter.widget-view+json": {
       "model_id": "f50439a340804e63b83f88b1ef9cea35",
       "version_major": 2,
       "version_minor": 0
      },
      "text/plain": [
       "localize peaks using center_of_mass:   0%|          | 0/33 [00:00<?, ?it/s]"
      ]
     },
     "metadata": {},
     "output_type": "display_data"
    },
    {
     "name": "stdout",
     "output_type": "stream",
     "text": [
      "localize peaks using center_of_mass with n_jobs = 72 and chunk_size = 9765\n"
     ]
    },
    {
     "data": {
      "application/vnd.jupyter.widget-view+json": {
       "model_id": "ada09bb4be1c4506951d88132a7c46df",
       "version_major": 2,
       "version_minor": 0
      },
      "text/plain": [
       "localize peaks using center_of_mass:   0%|          | 0/33 [00:00<?, ?it/s]"
      ]
     },
     "metadata": {},
     "output_type": "display_data"
    },
    {
     "name": "stdout",
     "output_type": "stream",
     "text": [
      "localize peaks using center_of_mass with n_jobs = 72 and chunk_size = 9765\n"
     ]
    },
    {
     "data": {
      "application/vnd.jupyter.widget-view+json": {
       "model_id": "5e5dbc98f2954d87a9ad9e05a300db73",
       "version_major": 2,
       "version_minor": 0
      },
      "text/plain": [
       "localize peaks using center_of_mass:   0%|          | 0/33 [00:00<?, ?it/s]"
      ]
     },
     "metadata": {},
     "output_type": "display_data"
    },
    {
     "name": "stdout",
     "output_type": "stream",
     "text": [
      "localize peaks using center_of_mass with n_jobs = 72 and chunk_size = 9765\n"
     ]
    },
    {
     "data": {
      "application/vnd.jupyter.widget-view+json": {
       "model_id": "2d902158947a4573bcc54970eb055d08",
       "version_major": 2,
       "version_minor": 0
      },
      "text/plain": [
       "localize peaks using center_of_mass:   0%|          | 0/33 [00:00<?, ?it/s]"
      ]
     },
     "metadata": {},
     "output_type": "display_data"
    },
    {
     "name": "stdout",
     "output_type": "stream",
     "text": [
      "localize peaks using center_of_mass with n_jobs = 72 and chunk_size = 9765\n"
     ]
    },
    {
     "data": {
      "application/vnd.jupyter.widget-view+json": {
       "model_id": "68877bfdeda9463cb34dc9f35ffcbbc0",
       "version_major": 2,
       "version_minor": 0
      },
      "text/plain": [
       "localize peaks using center_of_mass:   0%|          | 0/33 [00:00<?, ?it/s]"
      ]
     },
     "metadata": {},
     "output_type": "display_data"
    },
    {
     "name": "stdout",
     "output_type": "stream",
     "text": [
      "localize peaks using center_of_mass with n_jobs = 72 and chunk_size = 9765\n"
     ]
    },
    {
     "data": {
      "application/vnd.jupyter.widget-view+json": {
       "model_id": "f000ae9995504bdb812b2eb93a8264bb",
       "version_major": 2,
       "version_minor": 0
      },
      "text/plain": [
       "localize peaks using center_of_mass:   0%|          | 0/33 [00:00<?, ?it/s]"
      ]
     },
     "metadata": {},
     "output_type": "display_data"
    },
    {
     "name": "stdout",
     "output_type": "stream",
     "text": [
      "localize peaks using center_of_mass with n_jobs = 72 and chunk_size = 9765\n"
     ]
    },
    {
     "data": {
      "application/vnd.jupyter.widget-view+json": {
       "model_id": "22a72d7327ca4fc6a88bcce67d1b7438",
       "version_major": 2,
       "version_minor": 0
      },
      "text/plain": [
       "localize peaks using center_of_mass:   0%|          | 0/33 [00:00<?, ?it/s]"
      ]
     },
     "metadata": {},
     "output_type": "display_data"
    },
    {
     "name": "stdout",
     "output_type": "stream",
     "text": [
      "localize peaks using center_of_mass with n_jobs = 72 and chunk_size = 9765\n"
     ]
    },
    {
     "data": {
      "application/vnd.jupyter.widget-view+json": {
       "model_id": "c105be5f3b3347d0babac2a62ccaafe8",
       "version_major": 2,
       "version_minor": 0
      },
      "text/plain": [
       "localize peaks using center_of_mass:   0%|          | 0/33 [00:00<?, ?it/s]"
      ]
     },
     "metadata": {},
     "output_type": "display_data"
    },
    {
     "name": "stdout",
     "output_type": "stream",
     "text": [
      "extract waveforms shared_memory mono buffer with n_jobs = 72 and chunk_size = 9765\n"
     ]
    },
    {
     "data": {
      "application/vnd.jupyter.widget-view+json": {
       "model_id": "45744670712c42a4b01cb2cf6ef159d6",
       "version_major": 2,
       "version_minor": 0
      },
      "text/plain": [
       "extract waveforms shared_memory mono buffer:   0%|          | 0/33 [00:00<?, ?it/s]"
      ]
     },
     "metadata": {},
     "output_type": "display_data"
    },
    {
     "name": "stdout",
     "output_type": "stream",
     "text": [
      "localize peaks using grid_convolution with n_jobs = 72 and chunk_size = 9765\n"
     ]
    },
    {
     "data": {
      "application/vnd.jupyter.widget-view+json": {
       "model_id": "b7b01f879f8a44d59e8dd4e88d21e570",
       "version_major": 2,
       "version_minor": 0
      },
      "text/plain": [
       "localize peaks using grid_convolution:   0%|          | 0/33 [00:00<?, ?it/s]"
      ]
     },
     "metadata": {},
     "output_type": "display_data"
    },
    {
     "name": "stdout",
     "output_type": "stream",
     "text": [
      "extract waveforms shared_memory mono buffer with n_jobs = 72 and chunk_size = 9765\n"
     ]
    },
    {
     "data": {
      "application/vnd.jupyter.widget-view+json": {
       "model_id": "65aee726ab30458781bd3f029d77aa58",
       "version_major": 2,
       "version_minor": 0
      },
      "text/plain": [
       "extract waveforms shared_memory mono buffer:   0%|          | 0/33 [00:00<?, ?it/s]"
      ]
     },
     "metadata": {},
     "output_type": "display_data"
    },
    {
     "name": "stdout",
     "output_type": "stream",
     "text": [
      "localize peaks using grid_convolution with n_jobs = 72 and chunk_size = 9765\n"
     ]
    },
    {
     "data": {
      "application/vnd.jupyter.widget-view+json": {
       "model_id": "2ab5621e6dbd4d5faeff6d8dd852ab97",
       "version_major": 2,
       "version_minor": 0
      },
      "text/plain": [
       "localize peaks using grid_convolution:   0%|          | 0/33 [00:00<?, ?it/s]"
      ]
     },
     "metadata": {},
     "output_type": "display_data"
    },
    {
     "name": "stdout",
     "output_type": "stream",
     "text": [
      "extract waveforms shared_memory mono buffer with n_jobs = 72 and chunk_size = 9765\n"
     ]
    },
    {
     "data": {
      "application/vnd.jupyter.widget-view+json": {
       "model_id": "70351c1ae3be4a4fb56f40404bcda71e",
       "version_major": 2,
       "version_minor": 0
      },
      "text/plain": [
       "extract waveforms shared_memory mono buffer:   0%|          | 0/33 [00:00<?, ?it/s]"
      ]
     },
     "metadata": {},
     "output_type": "display_data"
    },
    {
     "name": "stdout",
     "output_type": "stream",
     "text": [
      "localize peaks using grid_convolution with n_jobs = 72 and chunk_size = 9765\n"
     ]
    },
    {
     "data": {
      "application/vnd.jupyter.widget-view+json": {
       "model_id": "84ddb063a5a043f5878f7c09331c35ba",
       "version_major": 2,
       "version_minor": 0
      },
      "text/plain": [
       "localize peaks using grid_convolution:   0%|          | 0/33 [00:00<?, ?it/s]"
      ]
     },
     "metadata": {},
     "output_type": "display_data"
    },
    {
     "name": "stdout",
     "output_type": "stream",
     "text": [
      "extract waveforms shared_memory mono buffer with n_jobs = 72 and chunk_size = 9765\n"
     ]
    },
    {
     "data": {
      "application/vnd.jupyter.widget-view+json": {
       "model_id": "a0b8c34cc5f94436bc754ed2af1ffd66",
       "version_major": 2,
       "version_minor": 0
      },
      "text/plain": [
       "extract waveforms shared_memory mono buffer:   0%|          | 0/33 [00:00<?, ?it/s]"
      ]
     },
     "metadata": {},
     "output_type": "display_data"
    },
    {
     "name": "stderr",
     "output_type": "stream",
     "text": [
      "/media/cure/Secondary/pierre/softwares/spikeinterface/src/spikeinterface/sortingcomponents/tools.py:70: RuntimeWarning: invalid value encountered in divide\n",
      "  prototype = np.nanmedian(waveforms[:, :, 0] / (np.abs(waveforms[:, nbefore, 0][:, np.newaxis])), axis=0)\n"
     ]
    },
    {
     "name": "stdout",
     "output_type": "stream",
     "text": [
      "localize peaks using grid_convolution with n_jobs = 72 and chunk_size = 9765\n"
     ]
    },
    {
     "data": {
      "application/vnd.jupyter.widget-view+json": {
       "model_id": "88dde4cdeec7443db86c10389b7693cb",
       "version_major": 2,
       "version_minor": 0
      },
      "text/plain": [
       "localize peaks using grid_convolution:   0%|          | 0/33 [00:00<?, ?it/s]"
      ]
     },
     "metadata": {},
     "output_type": "display_data"
    },
    {
     "name": "stdout",
     "output_type": "stream",
     "text": [
      "extract waveforms shared_memory mono buffer with n_jobs = 72 and chunk_size = 9765\n"
     ]
    },
    {
     "data": {
      "application/vnd.jupyter.widget-view+json": {
       "model_id": "285909b753ad45e78193aca6fa573045",
       "version_major": 2,
       "version_minor": 0
      },
      "text/plain": [
       "extract waveforms shared_memory mono buffer:   0%|          | 0/33 [00:00<?, ?it/s]"
      ]
     },
     "metadata": {},
     "output_type": "display_data"
    },
    {
     "name": "stdout",
     "output_type": "stream",
     "text": [
      "localize peaks using grid_convolution with n_jobs = 72 and chunk_size = 9765\n"
     ]
    },
    {
     "data": {
      "application/vnd.jupyter.widget-view+json": {
       "model_id": "e320605f13374051836c754278f5930e",
       "version_major": 2,
       "version_minor": 0
      },
      "text/plain": [
       "localize peaks using grid_convolution:   0%|          | 0/33 [00:00<?, ?it/s]"
      ]
     },
     "metadata": {},
     "output_type": "display_data"
    },
    {
     "name": "stdout",
     "output_type": "stream",
     "text": [
      "extract waveforms shared_memory mono buffer with n_jobs = 72 and chunk_size = 9765\n"
     ]
    },
    {
     "data": {
      "application/vnd.jupyter.widget-view+json": {
       "model_id": "3e2cf48466074899b88dfb7347104504",
       "version_major": 2,
       "version_minor": 0
      },
      "text/plain": [
       "extract waveforms shared_memory mono buffer:   0%|          | 0/33 [00:00<?, ?it/s]"
      ]
     },
     "metadata": {},
     "output_type": "display_data"
    },
    {
     "name": "stdout",
     "output_type": "stream",
     "text": [
      "localize peaks using grid_convolution with n_jobs = 72 and chunk_size = 9765\n"
     ]
    },
    {
     "data": {
      "application/vnd.jupyter.widget-view+json": {
       "model_id": "ac23ca0f650e47a480c6473d9218f90d",
       "version_major": 2,
       "version_minor": 0
      },
      "text/plain": [
       "localize peaks using grid_convolution:   0%|          | 0/33 [00:00<?, ?it/s]"
      ]
     },
     "metadata": {},
     "output_type": "display_data"
    }
   ],
   "source": [
    "benchmarks_ms = {}\n",
    "waveforms = None\n",
    "xaxis = [0.25, 0.5, 0.75, 1, 1.25, 1.5]\n",
    "benchmarks_ms['xaxis'] = xaxis\n",
    "\n",
    "for method in ['monopolar_triangulation', 'center_of_mass', 'grid_convolution']:\n",
    "    for t_range in xaxis:\n",
    "        if method == 'monopolar_triangulation':\n",
    "            for feature in ['ptp', 'energy', 'peak_voltage']:\n",
    "                title = f'Monopolar ({feature})'\n",
    "                params = {'enforce_decrease': True, 'ms_before' : t_range, 'ms_after' : t_range, 'feature' : feature}\n",
    "                bench = BenchmarkPeakLocalization(recording_f, gt_sorting, positions, job_kwargs=job_kwargs, title=title)\n",
    "                if waveforms is not None:\n",
    "                    bench.waveforms = waveforms    \n",
    "                bench.run(method, params)\n",
    "                waveforms = bench.waveforms\n",
    "                if title in benchmarks_ms:\n",
    "                    benchmarks_ms[title] += [bench]\n",
    "                else:\n",
    "                    benchmarks_ms[title] = [bench]\n",
    "        elif method == 'center_of_mass':\n",
    "            for feature in ['ptp', 'energy', 'peak_voltage']:\n",
    "                params = {'ms_before' : t_range, 'ms_after' : t_range, 'feature' : feature}\n",
    "                title = f'CoM ({feature})'\n",
    "                bench = BenchmarkPeakLocalization(recording_f, gt_sorting, positions, job_kwargs=job_kwargs, title=title)\n",
    "                if waveforms is not None:\n",
    "                    bench.waveforms = waveforms    \n",
    "                bench.run(method, params)\n",
    "                waveforms = bench.waveforms\n",
    "                if title in benchmarks_ms:\n",
    "                    benchmarks_ms[title] += [bench]\n",
    "                else:\n",
    "                    benchmarks_ms[title] = [bench]\n",
    "        elif method == 'grid_convolution':\n",
    "            params = {'ms_before' : t_range, 'ms_after' : t_range}\n",
    "            title = f'Grid'\n",
    "            bench = BenchmarkPeakLocalization(recording_f, gt_sorting, positions, job_kwargs=job_kwargs, title=title)\n",
    "            if waveforms is not None:\n",
    "                bench.waveforms = waveforms    \n",
    "            bench.run(method, params)\n",
    "            waveforms = bench.waveforms\n",
    "            if title in benchmarks_ms:\n",
    "                benchmarks_ms[title] += [bench]\n",
    "            else:\n",
    "                benchmarks_ms[title] = [bench]\n",
    "\n"
   ]
  },
  {
   "cell_type": "code",
   "execution_count": 9,
   "metadata": {},
   "outputs": [
    {
     "name": "stderr",
     "output_type": "stream",
     "text": [
      "[autoreload of spikeinterface.sortingcomponents.benchmark.benchmark_peak_localization failed: Traceback (most recent call last):\n",
      "  File \"/home/cure/anaconda3/envs/circus/lib/python3.10/site-packages/IPython/extensions/autoreload.py\", line 257, in check\n",
      "    superreload(m, reload, self.old_objects)\n",
      "  File \"/home/cure/anaconda3/envs/circus/lib/python3.10/site-packages/IPython/extensions/autoreload.py\", line 455, in superreload\n",
      "    module = reload(module)\n",
      "  File \"/home/cure/anaconda3/envs/circus/lib/python3.10/importlib/__init__.py\", line 169, in reload\n",
      "    _bootstrap._exec(spec, module)\n",
      "  File \"<frozen importlib._bootstrap>\", line 619, in _exec\n",
      "  File \"<frozen importlib._bootstrap_external>\", line 879, in exec_module\n",
      "  File \"<frozen importlib._bootstrap_external>\", line 1017, in get_code\n",
      "  File \"<frozen importlib._bootstrap_external>\", line 947, in source_to_code\n",
      "  File \"<frozen importlib._bootstrap>\", line 241, in _call_with_frames_removed\n",
      "  File \"/media/cure/Secondary/pierre/softwares/spikeinterface/src/spikeinterface/sortingcomponents/benchmark/benchmark_peak_localization.py\", line 71\n",
      "    prototype = \n",
      "                ^\n",
      "SyntaxError: invalid syntax\n",
      "]\n"
     ]
    },
    {
     "name": "stdout",
     "output_type": "stream",
     "text": [
      "extract waveforms shared_memory multi buffer with n_jobs = 72 and chunk_size = 9765\n"
     ]
    },
    {
     "data": {
      "application/vnd.jupyter.widget-view+json": {
       "model_id": "06396a4ef38f4222bb725c2bb3a86074",
       "version_major": 2,
       "version_minor": 0
      },
      "text/plain": [
       "extract waveforms shared_memory multi buffer:   0%|          | 0/33 [00:00<?, ?it/s]"
      ]
     },
     "metadata": {},
     "output_type": "display_data"
    },
    {
     "name": "stdout",
     "output_type": "stream",
     "text": [
      "extract waveforms shared_memory multi buffer with n_jobs = 72 and chunk_size = 9765\n"
     ]
    },
    {
     "data": {
      "application/vnd.jupyter.widget-view+json": {
       "model_id": "42db14240ddb4d7ab9f3177ec6876f41",
       "version_major": 2,
       "version_minor": 0
      },
      "text/plain": [
       "extract waveforms shared_memory multi buffer:   0%|          | 0/33 [00:00<?, ?it/s]"
      ]
     },
     "metadata": {},
     "output_type": "display_data"
    },
    {
     "name": "stdout",
     "output_type": "stream",
     "text": [
      "extract waveforms memmap multi buffer with n_jobs = 72 and chunk_size = 9765\n"
     ]
    },
    {
     "data": {
      "application/vnd.jupyter.widget-view+json": {
       "model_id": "99b8484d9a8342feb8fb7aff1d55fc1f",
       "version_major": 2,
       "version_minor": 0
      },
      "text/plain": [
       "extract waveforms memmap multi buffer:   0%|          | 0/33 [00:00<?, ?it/s]"
      ]
     },
     "metadata": {},
     "output_type": "display_data"
    },
    {
     "name": "stdout",
     "output_type": "stream",
     "text": [
      "localize peaks using monopolar_triangulation with n_jobs = 72 and chunk_size = 9765\n"
     ]
    },
    {
     "data": {
      "application/vnd.jupyter.widget-view+json": {
       "model_id": "8c2ccb48298c4a8aae1473a0ac296b3c",
       "version_major": 2,
       "version_minor": 0
      },
      "text/plain": [
       "localize peaks using monopolar_triangulation:   0%|          | 0/33 [00:00<?, ?it/s]"
      ]
     },
     "metadata": {},
     "output_type": "display_data"
    },
    {
     "name": "stdout",
     "output_type": "stream",
     "text": [
      "localize peaks using monopolar_triangulation with n_jobs = 72 and chunk_size = 9765\n"
     ]
    },
    {
     "data": {
      "application/vnd.jupyter.widget-view+json": {
       "model_id": "fe00418d60d64bb6a65de9b610bdfb19",
       "version_major": 2,
       "version_minor": 0
      },
      "text/plain": [
       "localize peaks using monopolar_triangulation:   0%|          | 0/33 [00:00<?, ?it/s]"
      ]
     },
     "metadata": {},
     "output_type": "display_data"
    },
    {
     "name": "stdout",
     "output_type": "stream",
     "text": [
      "localize peaks using monopolar_triangulation with n_jobs = 72 and chunk_size = 9765\n"
     ]
    },
    {
     "data": {
      "application/vnd.jupyter.widget-view+json": {
       "model_id": "8df2eba7e8bb4d698b12548bb4742313",
       "version_major": 2,
       "version_minor": 0
      },
      "text/plain": [
       "localize peaks using monopolar_triangulation:   0%|          | 0/33 [00:00<?, ?it/s]"
      ]
     },
     "metadata": {},
     "output_type": "display_data"
    },
    {
     "name": "stdout",
     "output_type": "stream",
     "text": [
      "localize peaks using monopolar_triangulation with n_jobs = 72 and chunk_size = 9765\n"
     ]
    },
    {
     "data": {
      "application/vnd.jupyter.widget-view+json": {
       "model_id": "94032d6fe7f44ac2974ed08d757e37d6",
       "version_major": 2,
       "version_minor": 0
      },
      "text/plain": [
       "localize peaks using monopolar_triangulation:   0%|          | 0/33 [00:00<?, ?it/s]"
      ]
     },
     "metadata": {},
     "output_type": "display_data"
    },
    {
     "name": "stdout",
     "output_type": "stream",
     "text": [
      "localize peaks using monopolar_triangulation with n_jobs = 72 and chunk_size = 9765\n"
     ]
    },
    {
     "data": {
      "application/vnd.jupyter.widget-view+json": {
       "model_id": "e01c6f272af4481faaa0eee3f06c1480",
       "version_major": 2,
       "version_minor": 0
      },
      "text/plain": [
       "localize peaks using monopolar_triangulation:   0%|          | 0/33 [00:00<?, ?it/s]"
      ]
     },
     "metadata": {},
     "output_type": "display_data"
    },
    {
     "name": "stdout",
     "output_type": "stream",
     "text": [
      "localize peaks using monopolar_triangulation with n_jobs = 72 and chunk_size = 9765\n"
     ]
    },
    {
     "data": {
      "application/vnd.jupyter.widget-view+json": {
       "model_id": "8b3b4072d1c34318bfe5ee84e1bd0564",
       "version_major": 2,
       "version_minor": 0
      },
      "text/plain": [
       "localize peaks using monopolar_triangulation:   0%|          | 0/33 [00:00<?, ?it/s]"
      ]
     },
     "metadata": {},
     "output_type": "display_data"
    },
    {
     "name": "stdout",
     "output_type": "stream",
     "text": [
      "localize peaks using monopolar_triangulation with n_jobs = 72 and chunk_size = 9765\n"
     ]
    },
    {
     "data": {
      "application/vnd.jupyter.widget-view+json": {
       "model_id": "30539f492dbb412da8171f1a2333e7f3",
       "version_major": 2,
       "version_minor": 0
      },
      "text/plain": [
       "localize peaks using monopolar_triangulation:   0%|          | 0/33 [00:00<?, ?it/s]"
      ]
     },
     "metadata": {},
     "output_type": "display_data"
    },
    {
     "name": "stdout",
     "output_type": "stream",
     "text": [
      "localize peaks using monopolar_triangulation with n_jobs = 72 and chunk_size = 9765\n"
     ]
    },
    {
     "data": {
      "application/vnd.jupyter.widget-view+json": {
       "model_id": "2a2cf2b0e1ea4690bb4eee85f6155191",
       "version_major": 2,
       "version_minor": 0
      },
      "text/plain": [
       "localize peaks using monopolar_triangulation:   0%|          | 0/33 [00:00<?, ?it/s]"
      ]
     },
     "metadata": {},
     "output_type": "display_data"
    },
    {
     "name": "stdout",
     "output_type": "stream",
     "text": [
      "localize peaks using monopolar_triangulation with n_jobs = 72 and chunk_size = 9765\n"
     ]
    },
    {
     "data": {
      "application/vnd.jupyter.widget-view+json": {
       "model_id": "c58afac6d2a44acb9fb2c013819eb32c",
       "version_major": 2,
       "version_minor": 0
      },
      "text/plain": [
       "localize peaks using monopolar_triangulation:   0%|          | 0/33 [00:00<?, ?it/s]"
      ]
     },
     "metadata": {},
     "output_type": "display_data"
    },
    {
     "name": "stdout",
     "output_type": "stream",
     "text": [
      "localize peaks using monopolar_triangulation with n_jobs = 72 and chunk_size = 9765\n"
     ]
    },
    {
     "data": {
      "application/vnd.jupyter.widget-view+json": {
       "model_id": "2876e7ae6c494f279a10897faa15ba08",
       "version_major": 2,
       "version_minor": 0
      },
      "text/plain": [
       "localize peaks using monopolar_triangulation:   0%|          | 0/33 [00:00<?, ?it/s]"
      ]
     },
     "metadata": {},
     "output_type": "display_data"
    },
    {
     "name": "stdout",
     "output_type": "stream",
     "text": [
      "localize peaks using monopolar_triangulation with n_jobs = 72 and chunk_size = 9765\n"
     ]
    },
    {
     "data": {
      "application/vnd.jupyter.widget-view+json": {
       "model_id": "91529170faea42d3b2eb2e98b02c5d64",
       "version_major": 2,
       "version_minor": 0
      },
      "text/plain": [
       "localize peaks using monopolar_triangulation:   0%|          | 0/33 [00:00<?, ?it/s]"
      ]
     },
     "metadata": {},
     "output_type": "display_data"
    },
    {
     "name": "stdout",
     "output_type": "stream",
     "text": [
      "localize peaks using monopolar_triangulation with n_jobs = 72 and chunk_size = 9765\n"
     ]
    },
    {
     "data": {
      "application/vnd.jupyter.widget-view+json": {
       "model_id": "807b98c3d39640ae879aae1923dacc19",
       "version_major": 2,
       "version_minor": 0
      },
      "text/plain": [
       "localize peaks using monopolar_triangulation:   0%|          | 0/33 [00:00<?, ?it/s]"
      ]
     },
     "metadata": {},
     "output_type": "display_data"
    },
    {
     "name": "stdout",
     "output_type": "stream",
     "text": [
      "localize peaks using monopolar_triangulation with n_jobs = 72 and chunk_size = 9765\n"
     ]
    },
    {
     "data": {
      "application/vnd.jupyter.widget-view+json": {
       "model_id": "2396f486bf8e4dd9b3247cce7272ae53",
       "version_major": 2,
       "version_minor": 0
      },
      "text/plain": [
       "localize peaks using monopolar_triangulation:   0%|          | 0/33 [00:00<?, ?it/s]"
      ]
     },
     "metadata": {},
     "output_type": "display_data"
    },
    {
     "name": "stdout",
     "output_type": "stream",
     "text": [
      "localize peaks using monopolar_triangulation with n_jobs = 72 and chunk_size = 9765\n"
     ]
    },
    {
     "data": {
      "application/vnd.jupyter.widget-view+json": {
       "model_id": "f56006902b964dfeb7e5c9e97d438c48",
       "version_major": 2,
       "version_minor": 0
      },
      "text/plain": [
       "localize peaks using monopolar_triangulation:   0%|          | 0/33 [00:00<?, ?it/s]"
      ]
     },
     "metadata": {},
     "output_type": "display_data"
    },
    {
     "name": "stdout",
     "output_type": "stream",
     "text": [
      "localize peaks using monopolar_triangulation with n_jobs = 72 and chunk_size = 9765\n"
     ]
    },
    {
     "data": {
      "application/vnd.jupyter.widget-view+json": {
       "model_id": "6325a32b3dc149f5aed7b03908be0c51",
       "version_major": 2,
       "version_minor": 0
      },
      "text/plain": [
       "localize peaks using monopolar_triangulation:   0%|          | 0/33 [00:00<?, ?it/s]"
      ]
     },
     "metadata": {},
     "output_type": "display_data"
    },
    {
     "name": "stdout",
     "output_type": "stream",
     "text": [
      "localize peaks using monopolar_triangulation with n_jobs = 72 and chunk_size = 9765\n"
     ]
    },
    {
     "data": {
      "application/vnd.jupyter.widget-view+json": {
       "model_id": "bdd6edbad7024398bb012d375b824c46",
       "version_major": 2,
       "version_minor": 0
      },
      "text/plain": [
       "localize peaks using monopolar_triangulation:   0%|          | 0/33 [00:00<?, ?it/s]"
      ]
     },
     "metadata": {},
     "output_type": "display_data"
    },
    {
     "name": "stdout",
     "output_type": "stream",
     "text": [
      "localize peaks using monopolar_triangulation with n_jobs = 72 and chunk_size = 9765\n"
     ]
    },
    {
     "data": {
      "application/vnd.jupyter.widget-view+json": {
       "model_id": "449b962f586a4de7bc64a4c680279da1",
       "version_major": 2,
       "version_minor": 0
      },
      "text/plain": [
       "localize peaks using monopolar_triangulation:   0%|          | 0/33 [00:00<?, ?it/s]"
      ]
     },
     "metadata": {},
     "output_type": "display_data"
    },
    {
     "name": "stdout",
     "output_type": "stream",
     "text": [
      "localize peaks using monopolar_triangulation with n_jobs = 72 and chunk_size = 9765\n"
     ]
    },
    {
     "data": {
      "application/vnd.jupyter.widget-view+json": {
       "model_id": "669d7eac55e945099ab5ff2083dd3bde",
       "version_major": 2,
       "version_minor": 0
      },
      "text/plain": [
       "localize peaks using monopolar_triangulation:   0%|          | 0/33 [00:00<?, ?it/s]"
      ]
     },
     "metadata": {},
     "output_type": "display_data"
    },
    {
     "name": "stdout",
     "output_type": "stream",
     "text": [
      "localize peaks using center_of_mass with n_jobs = 72 and chunk_size = 9765\n"
     ]
    },
    {
     "data": {
      "application/vnd.jupyter.widget-view+json": {
       "model_id": "02e128b7285b4d38ad1bd0919302e6b5",
       "version_major": 2,
       "version_minor": 0
      },
      "text/plain": [
       "localize peaks using center_of_mass:   0%|          | 0/33 [00:00<?, ?it/s]"
      ]
     },
     "metadata": {},
     "output_type": "display_data"
    },
    {
     "name": "stdout",
     "output_type": "stream",
     "text": [
      "localize peaks using center_of_mass with n_jobs = 72 and chunk_size = 9765\n"
     ]
    },
    {
     "data": {
      "application/vnd.jupyter.widget-view+json": {
       "model_id": "74cda77efa9a4e41aad38b92bf5dec3a",
       "version_major": 2,
       "version_minor": 0
      },
      "text/plain": [
       "localize peaks using center_of_mass:   0%|          | 0/33 [00:00<?, ?it/s]"
      ]
     },
     "metadata": {},
     "output_type": "display_data"
    },
    {
     "name": "stdout",
     "output_type": "stream",
     "text": [
      "localize peaks using center_of_mass with n_jobs = 72 and chunk_size = 9765\n"
     ]
    },
    {
     "data": {
      "application/vnd.jupyter.widget-view+json": {
       "model_id": "cd3ff90d5bdc474abba6485706fcc6e5",
       "version_major": 2,
       "version_minor": 0
      },
      "text/plain": [
       "localize peaks using center_of_mass:   0%|          | 0/33 [00:00<?, ?it/s]"
      ]
     },
     "metadata": {},
     "output_type": "display_data"
    },
    {
     "name": "stdout",
     "output_type": "stream",
     "text": [
      "localize peaks using center_of_mass with n_jobs = 72 and chunk_size = 9765\n"
     ]
    },
    {
     "data": {
      "application/vnd.jupyter.widget-view+json": {
       "model_id": "77be6d66a0d348ce97b1e787518613af",
       "version_major": 2,
       "version_minor": 0
      },
      "text/plain": [
       "localize peaks using center_of_mass:   0%|          | 0/33 [00:00<?, ?it/s]"
      ]
     },
     "metadata": {},
     "output_type": "display_data"
    },
    {
     "name": "stdout",
     "output_type": "stream",
     "text": [
      "localize peaks using center_of_mass with n_jobs = 72 and chunk_size = 9765\n"
     ]
    },
    {
     "data": {
      "application/vnd.jupyter.widget-view+json": {
       "model_id": "b44caea3ac9c413a8d22823def155abb",
       "version_major": 2,
       "version_minor": 0
      },
      "text/plain": [
       "localize peaks using center_of_mass:   0%|          | 0/33 [00:00<?, ?it/s]"
      ]
     },
     "metadata": {},
     "output_type": "display_data"
    },
    {
     "name": "stdout",
     "output_type": "stream",
     "text": [
      "localize peaks using center_of_mass with n_jobs = 72 and chunk_size = 9765\n"
     ]
    },
    {
     "data": {
      "application/vnd.jupyter.widget-view+json": {
       "model_id": "612752ffd5004c4d968144361c5c77e9",
       "version_major": 2,
       "version_minor": 0
      },
      "text/plain": [
       "localize peaks using center_of_mass:   0%|          | 0/33 [00:00<?, ?it/s]"
      ]
     },
     "metadata": {},
     "output_type": "display_data"
    },
    {
     "name": "stdout",
     "output_type": "stream",
     "text": [
      "localize peaks using center_of_mass with n_jobs = 72 and chunk_size = 9765\n"
     ]
    },
    {
     "data": {
      "application/vnd.jupyter.widget-view+json": {
       "model_id": "b3144dacaa2a4412bf2af0df393de910",
       "version_major": 2,
       "version_minor": 0
      },
      "text/plain": [
       "localize peaks using center_of_mass:   0%|          | 0/33 [00:00<?, ?it/s]"
      ]
     },
     "metadata": {},
     "output_type": "display_data"
    },
    {
     "name": "stdout",
     "output_type": "stream",
     "text": [
      "localize peaks using center_of_mass with n_jobs = 72 and chunk_size = 9765\n"
     ]
    },
    {
     "data": {
      "application/vnd.jupyter.widget-view+json": {
       "model_id": "ea1c31be393646e4b6dc06ff4c6beeac",
       "version_major": 2,
       "version_minor": 0
      },
      "text/plain": [
       "localize peaks using center_of_mass:   0%|          | 0/33 [00:00<?, ?it/s]"
      ]
     },
     "metadata": {},
     "output_type": "display_data"
    },
    {
     "name": "stdout",
     "output_type": "stream",
     "text": [
      "localize peaks using center_of_mass with n_jobs = 72 and chunk_size = 9765\n"
     ]
    },
    {
     "data": {
      "application/vnd.jupyter.widget-view+json": {
       "model_id": "4753827c0ca348b087e8f03e4f06f89a",
       "version_major": 2,
       "version_minor": 0
      },
      "text/plain": [
       "localize peaks using center_of_mass:   0%|          | 0/33 [00:00<?, ?it/s]"
      ]
     },
     "metadata": {},
     "output_type": "display_data"
    },
    {
     "name": "stdout",
     "output_type": "stream",
     "text": [
      "localize peaks using center_of_mass with n_jobs = 72 and chunk_size = 9765\n"
     ]
    },
    {
     "data": {
      "application/vnd.jupyter.widget-view+json": {
       "model_id": "22abaec5f92e4125beee386cfb8534c7",
       "version_major": 2,
       "version_minor": 0
      },
      "text/plain": [
       "localize peaks using center_of_mass:   0%|          | 0/33 [00:00<?, ?it/s]"
      ]
     },
     "metadata": {},
     "output_type": "display_data"
    },
    {
     "name": "stdout",
     "output_type": "stream",
     "text": [
      "localize peaks using center_of_mass with n_jobs = 72 and chunk_size = 9765\n"
     ]
    },
    {
     "data": {
      "application/vnd.jupyter.widget-view+json": {
       "model_id": "ede14911833449ef832d92f4756d75c1",
       "version_major": 2,
       "version_minor": 0
      },
      "text/plain": [
       "localize peaks using center_of_mass:   0%|          | 0/33 [00:00<?, ?it/s]"
      ]
     },
     "metadata": {},
     "output_type": "display_data"
    },
    {
     "name": "stdout",
     "output_type": "stream",
     "text": [
      "localize peaks using center_of_mass with n_jobs = 72 and chunk_size = 9765\n"
     ]
    },
    {
     "data": {
      "application/vnd.jupyter.widget-view+json": {
       "model_id": "770a114217b9428ba1a059ffb828991d",
       "version_major": 2,
       "version_minor": 0
      },
      "text/plain": [
       "localize peaks using center_of_mass:   0%|          | 0/33 [00:00<?, ?it/s]"
      ]
     },
     "metadata": {},
     "output_type": "display_data"
    },
    {
     "name": "stdout",
     "output_type": "stream",
     "text": [
      "localize peaks using center_of_mass with n_jobs = 72 and chunk_size = 9765\n"
     ]
    },
    {
     "data": {
      "application/vnd.jupyter.widget-view+json": {
       "model_id": "227e33c8f213454d866c6cac5e3d4203",
       "version_major": 2,
       "version_minor": 0
      },
      "text/plain": [
       "localize peaks using center_of_mass:   0%|          | 0/33 [00:00<?, ?it/s]"
      ]
     },
     "metadata": {},
     "output_type": "display_data"
    },
    {
     "name": "stdout",
     "output_type": "stream",
     "text": [
      "localize peaks using center_of_mass with n_jobs = 72 and chunk_size = 9765\n"
     ]
    },
    {
     "data": {
      "application/vnd.jupyter.widget-view+json": {
       "model_id": "4e8f2d7af59a4de6995369b5da0cf860",
       "version_major": 2,
       "version_minor": 0
      },
      "text/plain": [
       "localize peaks using center_of_mass:   0%|          | 0/33 [00:00<?, ?it/s]"
      ]
     },
     "metadata": {},
     "output_type": "display_data"
    },
    {
     "name": "stdout",
     "output_type": "stream",
     "text": [
      "localize peaks using center_of_mass with n_jobs = 72 and chunk_size = 9765\n"
     ]
    },
    {
     "data": {
      "application/vnd.jupyter.widget-view+json": {
       "model_id": "17b9fdc9e639443787e159fad9599a8c",
       "version_major": 2,
       "version_minor": 0
      },
      "text/plain": [
       "localize peaks using center_of_mass:   0%|          | 0/33 [00:00<?, ?it/s]"
      ]
     },
     "metadata": {},
     "output_type": "display_data"
    },
    {
     "name": "stdout",
     "output_type": "stream",
     "text": [
      "localize peaks using center_of_mass with n_jobs = 72 and chunk_size = 9765\n"
     ]
    },
    {
     "data": {
      "application/vnd.jupyter.widget-view+json": {
       "model_id": "5eede0da71db4064a8072ecb9ef9f9be",
       "version_major": 2,
       "version_minor": 0
      },
      "text/plain": [
       "localize peaks using center_of_mass:   0%|          | 0/33 [00:00<?, ?it/s]"
      ]
     },
     "metadata": {},
     "output_type": "display_data"
    },
    {
     "name": "stdout",
     "output_type": "stream",
     "text": [
      "localize peaks using center_of_mass with n_jobs = 72 and chunk_size = 9765\n"
     ]
    },
    {
     "data": {
      "application/vnd.jupyter.widget-view+json": {
       "model_id": "f85bb5384aa246eeaa9d66211d2c84fd",
       "version_major": 2,
       "version_minor": 0
      },
      "text/plain": [
       "localize peaks using center_of_mass:   0%|          | 0/33 [00:00<?, ?it/s]"
      ]
     },
     "metadata": {},
     "output_type": "display_data"
    },
    {
     "name": "stdout",
     "output_type": "stream",
     "text": [
      "localize peaks using center_of_mass with n_jobs = 72 and chunk_size = 9765\n"
     ]
    },
    {
     "data": {
      "application/vnd.jupyter.widget-view+json": {
       "model_id": "b0559732fed1473095404272b8b15155",
       "version_major": 2,
       "version_minor": 0
      },
      "text/plain": [
       "localize peaks using center_of_mass:   0%|          | 0/33 [00:00<?, ?it/s]"
      ]
     },
     "metadata": {},
     "output_type": "display_data"
    },
    {
     "name": "stdout",
     "output_type": "stream",
     "text": [
      "extract waveforms shared_memory mono buffer with n_jobs = 72 and chunk_size = 9765\n"
     ]
    },
    {
     "data": {
      "application/vnd.jupyter.widget-view+json": {
       "model_id": "a933d85a97fb49c4970f75da2a341f56",
       "version_major": 2,
       "version_minor": 0
      },
      "text/plain": [
       "extract waveforms shared_memory mono buffer:   0%|          | 0/33 [00:00<?, ?it/s]"
      ]
     },
     "metadata": {},
     "output_type": "display_data"
    },
    {
     "name": "stdout",
     "output_type": "stream",
     "text": [
      "localize peaks using grid_convolution with n_jobs = 72 and chunk_size = 9765\n"
     ]
    },
    {
     "data": {
      "application/vnd.jupyter.widget-view+json": {
       "model_id": "f6172659679f40cbb6c3164e310f916f",
       "version_major": 2,
       "version_minor": 0
      },
      "text/plain": [
       "localize peaks using grid_convolution:   0%|          | 0/33 [00:00<?, ?it/s]"
      ]
     },
     "metadata": {},
     "output_type": "display_data"
    },
    {
     "name": "stdout",
     "output_type": "stream",
     "text": [
      "extract waveforms shared_memory mono buffer with n_jobs = 72 and chunk_size = 9765\n"
     ]
    },
    {
     "data": {
      "application/vnd.jupyter.widget-view+json": {
       "model_id": "0417bd6644c74211935a1f9ccbd8740d",
       "version_major": 2,
       "version_minor": 0
      },
      "text/plain": [
       "extract waveforms shared_memory mono buffer:   0%|          | 0/33 [00:00<?, ?it/s]"
      ]
     },
     "metadata": {},
     "output_type": "display_data"
    },
    {
     "name": "stdout",
     "output_type": "stream",
     "text": [
      "localize peaks using grid_convolution with n_jobs = 72 and chunk_size = 9765\n"
     ]
    },
    {
     "data": {
      "application/vnd.jupyter.widget-view+json": {
       "model_id": "5942b5d981f244d98864088c8179b662",
       "version_major": 2,
       "version_minor": 0
      },
      "text/plain": [
       "localize peaks using grid_convolution:   0%|          | 0/33 [00:00<?, ?it/s]"
      ]
     },
     "metadata": {},
     "output_type": "display_data"
    },
    {
     "name": "stdout",
     "output_type": "stream",
     "text": [
      "extract waveforms shared_memory mono buffer with n_jobs = 72 and chunk_size = 9765\n"
     ]
    },
    {
     "data": {
      "application/vnd.jupyter.widget-view+json": {
       "model_id": "4931fca6e19b4484ace84af413dfe196",
       "version_major": 2,
       "version_minor": 0
      },
      "text/plain": [
       "extract waveforms shared_memory mono buffer:   0%|          | 0/33 [00:00<?, ?it/s]"
      ]
     },
     "metadata": {},
     "output_type": "display_data"
    },
    {
     "name": "stdout",
     "output_type": "stream",
     "text": [
      "localize peaks using grid_convolution with n_jobs = 72 and chunk_size = 9765\n"
     ]
    },
    {
     "data": {
      "application/vnd.jupyter.widget-view+json": {
       "model_id": "7c181c30d7304d3aa4551ae9707a9412",
       "version_major": 2,
       "version_minor": 0
      },
      "text/plain": [
       "localize peaks using grid_convolution:   0%|          | 0/33 [00:00<?, ?it/s]"
      ]
     },
     "metadata": {},
     "output_type": "display_data"
    },
    {
     "name": "stderr",
     "output_type": "stream",
     "text": [
      "/media/cure/Secondary/pierre/softwares/spikeinterface/src/spikeinterface/sortingcomponents/benchmark/benchmark_peak_localization.py:83: RuntimeWarning: All-NaN slice encountered\n",
      "  self.medians_over_templates = np.array([np.nanmedian(self.raw_templates_results[unit_id]) for unit_id in  self.waveforms.sorting.unit_ids])\n",
      "/media/cure/Secondary/pierre/softwares/spikeinterface/src/spikeinterface/sortingcomponents/benchmark/benchmark_peak_localization.py:84: RuntimeWarning: All-NaN slice encountered\n",
      "  self.mads_over_templates = np.array([np.nanmedian(np.abs(self.raw_templates_results[unit_id] - np.nanmedian(self.raw_templates_results[unit_id]))) for unit_id in  self.waveforms.sorting.unit_ids])\n"
     ]
    },
    {
     "name": "stdout",
     "output_type": "stream",
     "text": [
      "extract waveforms shared_memory mono buffer with n_jobs = 72 and chunk_size = 9765\n"
     ]
    },
    {
     "data": {
      "application/vnd.jupyter.widget-view+json": {
       "model_id": "9ebbb59b19484189b1b143fa13400654",
       "version_major": 2,
       "version_minor": 0
      },
      "text/plain": [
       "extract waveforms shared_memory mono buffer:   0%|          | 0/33 [00:00<?, ?it/s]"
      ]
     },
     "metadata": {},
     "output_type": "display_data"
    },
    {
     "name": "stdout",
     "output_type": "stream",
     "text": [
      "localize peaks using grid_convolution with n_jobs = 72 and chunk_size = 9765\n"
     ]
    },
    {
     "data": {
      "application/vnd.jupyter.widget-view+json": {
       "model_id": "fe3cbf1c272546e0be1a663ef8a96383",
       "version_major": 2,
       "version_minor": 0
      },
      "text/plain": [
       "localize peaks using grid_convolution:   0%|          | 0/33 [00:00<?, ?it/s]"
      ]
     },
     "metadata": {},
     "output_type": "display_data"
    },
    {
     "name": "stderr",
     "output_type": "stream",
     "text": [
      "/media/cure/Secondary/pierre/softwares/spikeinterface/src/spikeinterface/sortingcomponents/benchmark/benchmark_peak_localization.py:83: RuntimeWarning: All-NaN slice encountered\n",
      "  self.medians_over_templates = np.array([np.nanmedian(self.raw_templates_results[unit_id]) for unit_id in  self.waveforms.sorting.unit_ids])\n",
      "/media/cure/Secondary/pierre/softwares/spikeinterface/src/spikeinterface/sortingcomponents/benchmark/benchmark_peak_localization.py:84: RuntimeWarning: All-NaN slice encountered\n",
      "  self.mads_over_templates = np.array([np.nanmedian(np.abs(self.raw_templates_results[unit_id] - np.nanmedian(self.raw_templates_results[unit_id]))) for unit_id in  self.waveforms.sorting.unit_ids])\n"
     ]
    },
    {
     "name": "stdout",
     "output_type": "stream",
     "text": [
      "extract waveforms shared_memory mono buffer with n_jobs = 72 and chunk_size = 9765\n"
     ]
    },
    {
     "data": {
      "application/vnd.jupyter.widget-view+json": {
       "model_id": "b4f8384a47a24ce6adef03e43b9dea3c",
       "version_major": 2,
       "version_minor": 0
      },
      "text/plain": [
       "extract waveforms shared_memory mono buffer:   0%|          | 0/33 [00:00<?, ?it/s]"
      ]
     },
     "metadata": {},
     "output_type": "display_data"
    },
    {
     "name": "stdout",
     "output_type": "stream",
     "text": [
      "localize peaks using grid_convolution with n_jobs = 72 and chunk_size = 9765\n"
     ]
    },
    {
     "data": {
      "application/vnd.jupyter.widget-view+json": {
       "model_id": "4d7c1a118baa48d7af62688a0d8e41d1",
       "version_major": 2,
       "version_minor": 0
      },
      "text/plain": [
       "localize peaks using grid_convolution:   0%|          | 0/33 [00:00<?, ?it/s]"
      ]
     },
     "metadata": {},
     "output_type": "display_data"
    },
    {
     "name": "stderr",
     "output_type": "stream",
     "text": [
      "/media/cure/Secondary/pierre/softwares/spikeinterface/src/spikeinterface/sortingcomponents/benchmark/benchmark_peak_localization.py:83: RuntimeWarning: All-NaN slice encountered\n",
      "  self.medians_over_templates = np.array([np.nanmedian(self.raw_templates_results[unit_id]) for unit_id in  self.waveforms.sorting.unit_ids])\n",
      "/media/cure/Secondary/pierre/softwares/spikeinterface/src/spikeinterface/sortingcomponents/benchmark/benchmark_peak_localization.py:84: RuntimeWarning: All-NaN slice encountered\n",
      "  self.mads_over_templates = np.array([np.nanmedian(np.abs(self.raw_templates_results[unit_id] - np.nanmedian(self.raw_templates_results[unit_id]))) for unit_id in  self.waveforms.sorting.unit_ids])\n"
     ]
    },
    {
     "name": "stdout",
     "output_type": "stream",
     "text": [
      "extract waveforms shared_memory mono buffer with n_jobs = 72 and chunk_size = 9765\n"
     ]
    },
    {
     "data": {
      "application/vnd.jupyter.widget-view+json": {
       "model_id": "0785559a13af499cba2b97a41f8065ef",
       "version_major": 2,
       "version_minor": 0
      },
      "text/plain": [
       "extract waveforms shared_memory mono buffer:   0%|          | 0/33 [00:00<?, ?it/s]"
      ]
     },
     "metadata": {},
     "output_type": "display_data"
    },
    {
     "name": "stdout",
     "output_type": "stream",
     "text": [
      "localize peaks using grid_convolution with n_jobs = 72 and chunk_size = 9765\n"
     ]
    },
    {
     "data": {
      "application/vnd.jupyter.widget-view+json": {
       "model_id": "7d839365bc3f4726b22bc47f0bc9c719",
       "version_major": 2,
       "version_minor": 0
      },
      "text/plain": [
       "localize peaks using grid_convolution:   0%|          | 0/33 [00:00<?, ?it/s]"
      ]
     },
     "metadata": {},
     "output_type": "display_data"
    },
    {
     "name": "stderr",
     "output_type": "stream",
     "text": [
      "/media/cure/Secondary/pierre/softwares/spikeinterface/src/spikeinterface/sortingcomponents/benchmark/benchmark_peak_localization.py:83: RuntimeWarning: All-NaN slice encountered\n",
      "  self.medians_over_templates = np.array([np.nanmedian(self.raw_templates_results[unit_id]) for unit_id in  self.waveforms.sorting.unit_ids])\n",
      "/media/cure/Secondary/pierre/softwares/spikeinterface/src/spikeinterface/sortingcomponents/benchmark/benchmark_peak_localization.py:84: RuntimeWarning: All-NaN slice encountered\n",
      "  self.mads_over_templates = np.array([np.nanmedian(np.abs(self.raw_templates_results[unit_id] - np.nanmedian(self.raw_templates_results[unit_id]))) for unit_id in  self.waveforms.sorting.unit_ids])\n"
     ]
    }
   ],
   "source": [
    "benchmarks_radius = {}\n",
    "waveforms = None\n",
    "xaxis = [25, 50, 75, 100, 125, 150]\n",
    "benchmarks_radius['xaxis'] = xaxis \n",
    "\n",
    "for method in ['monopolar_triangulation', 'center_of_mass', 'grid_convolution']:\n",
    "    for r_range in xaxis:\n",
    "        if method == 'monopolar_triangulation':\n",
    "            for feature in ['ptp', 'energy', 'peak_voltage']:\n",
    "                title = f'Monopolar ({feature})'\n",
    "                params = {'enforce_decrease': True, 'radius_um' : r_range, 'feature' : feature}\n",
    "                bench = BenchmarkPeakLocalization(recording_f, gt_sorting, positions, job_kwargs=job_kwargs, title=title)\n",
    "                if waveforms is not None:\n",
    "                    bench.waveforms = waveforms    \n",
    "                bench.run(method, params)\n",
    "                waveforms = bench.waveforms\n",
    "                if title in benchmarks_radius:\n",
    "                    benchmarks_radius[title] += [bench]\n",
    "                else:\n",
    "                    benchmarks_radius[title] = [bench]\n",
    "        elif method == 'center_of_mass':\n",
    "            for feature in ['ptp', 'energy', 'peak_voltage']:\n",
    "                params = {'radius_um' : r_range, 'feature' : feature}\n",
    "                title = f'CoM ({feature})'\n",
    "                bench = BenchmarkPeakLocalization(recording_f, gt_sorting, positions, job_kwargs=job_kwargs, title=title)\n",
    "                if waveforms is not None:\n",
    "                    bench.waveforms = waveforms    \n",
    "                bench.run(method, params)\n",
    "                waveforms = bench.waveforms\n",
    "                if title in benchmarks_radius:\n",
    "                    benchmarks_radius[title] += [bench]\n",
    "                else:\n",
    "                    benchmarks_radius[title] = [bench]\n",
    "        elif method == 'grid_convolution':\n",
    "            params = {'radius_um' : r_range}\n",
    "            title = f'Grid'\n",
    "            bench = BenchmarkPeakLocalization(recording_f, gt_sorting, positions, job_kwargs=job_kwargs, title=title)\n",
    "            if waveforms is not None:\n",
    "                bench.waveforms = waveforms    \n",
    "            bench.run(method, params)\n",
    "            waveforms = bench.waveforms\n",
    "            if title in benchmarks_radius:\n",
    "                benchmarks_radius[title] += [bench]\n",
    "            else:\n",
    "                benchmarks_radius[title] = [bench]\n",
    "    "
   ]
  },
  {
   "cell_type": "code",
   "execution_count": 10,
   "metadata": {},
   "outputs": [],
   "source": [
    "recordings = {}\n",
    "\n",
    "xaxis = [100, 300, 500, 700, 900]\n",
    "\n",
    "for cut_off in xaxis :\n",
    "    recordings[cut_off] = si.bandpass_filter(recording, freq_min=cut_off)\n",
    "    recordings[cut_off] = si.common_reference(recordings[cut_off])\n",
    "    recordings[cut_off] = si.zscore(recordings[cut_off])"
   ]
  },
  {
   "cell_type": "code",
   "execution_count": 11,
   "metadata": {},
   "outputs": [
    {
     "name": "stdout",
     "output_type": "stream",
     "text": [
      "extract waveforms shared_memory multi buffer with n_jobs = 72 and chunk_size = 9765\n"
     ]
    },
    {
     "data": {
      "application/vnd.jupyter.widget-view+json": {
       "model_id": "2e3a134c857c4442aca86dba2b4791ee",
       "version_major": 2,
       "version_minor": 0
      },
      "text/plain": [
       "extract waveforms shared_memory multi buffer:   0%|          | 0/33 [00:00<?, ?it/s]"
      ]
     },
     "metadata": {},
     "output_type": "display_data"
    },
    {
     "name": "stdout",
     "output_type": "stream",
     "text": [
      "extract waveforms shared_memory multi buffer with n_jobs = 72 and chunk_size = 9765\n"
     ]
    },
    {
     "data": {
      "application/vnd.jupyter.widget-view+json": {
       "model_id": "60cc363d921441caa78f99adc08c366d",
       "version_major": 2,
       "version_minor": 0
      },
      "text/plain": [
       "extract waveforms shared_memory multi buffer:   0%|          | 0/33 [00:00<?, ?it/s]"
      ]
     },
     "metadata": {},
     "output_type": "display_data"
    },
    {
     "name": "stdout",
     "output_type": "stream",
     "text": [
      "extract waveforms memmap multi buffer with n_jobs = 72 and chunk_size = 9765\n"
     ]
    },
    {
     "data": {
      "application/vnd.jupyter.widget-view+json": {
       "model_id": "8009e3ec5ebc4f64845aa07bff8c790f",
       "version_major": 2,
       "version_minor": 0
      },
      "text/plain": [
       "extract waveforms memmap multi buffer:   0%|          | 0/33 [00:00<?, ?it/s]"
      ]
     },
     "metadata": {},
     "output_type": "display_data"
    },
    {
     "name": "stdout",
     "output_type": "stream",
     "text": [
      "localize peaks using monopolar_triangulation with n_jobs = 72 and chunk_size = 9765\n"
     ]
    },
    {
     "data": {
      "application/vnd.jupyter.widget-view+json": {
       "model_id": "e6bc80ec3cbd480ca8ffb0a2cf3a9dd8",
       "version_major": 2,
       "version_minor": 0
      },
      "text/plain": [
       "localize peaks using monopolar_triangulation:   0%|          | 0/33 [00:00<?, ?it/s]"
      ]
     },
     "metadata": {},
     "output_type": "display_data"
    },
    {
     "name": "stdout",
     "output_type": "stream",
     "text": [
      "localize peaks using monopolar_triangulation with n_jobs = 72 and chunk_size = 9765\n"
     ]
    },
    {
     "data": {
      "application/vnd.jupyter.widget-view+json": {
       "model_id": "5f9c9d8e103149ac8e0b2659c4cf2359",
       "version_major": 2,
       "version_minor": 0
      },
      "text/plain": [
       "localize peaks using monopolar_triangulation:   0%|          | 0/33 [00:00<?, ?it/s]"
      ]
     },
     "metadata": {},
     "output_type": "display_data"
    },
    {
     "name": "stdout",
     "output_type": "stream",
     "text": [
      "localize peaks using monopolar_triangulation with n_jobs = 72 and chunk_size = 9765\n"
     ]
    },
    {
     "data": {
      "application/vnd.jupyter.widget-view+json": {
       "model_id": "26020fe7d98f4df8bb78bc55e0d89e90",
       "version_major": 2,
       "version_minor": 0
      },
      "text/plain": [
       "localize peaks using monopolar_triangulation:   0%|          | 0/33 [00:00<?, ?it/s]"
      ]
     },
     "metadata": {},
     "output_type": "display_data"
    },
    {
     "name": "stdout",
     "output_type": "stream",
     "text": [
      "localize peaks using center_of_mass with n_jobs = 72 and chunk_size = 9765\n"
     ]
    },
    {
     "data": {
      "application/vnd.jupyter.widget-view+json": {
       "model_id": "111cbf2e89a24f3fb586c883a05c8e36",
       "version_major": 2,
       "version_minor": 0
      },
      "text/plain": [
       "localize peaks using center_of_mass:   0%|          | 0/33 [00:00<?, ?it/s]"
      ]
     },
     "metadata": {},
     "output_type": "display_data"
    },
    {
     "name": "stdout",
     "output_type": "stream",
     "text": [
      "localize peaks using center_of_mass with n_jobs = 72 and chunk_size = 9765\n"
     ]
    },
    {
     "data": {
      "application/vnd.jupyter.widget-view+json": {
       "model_id": "5e53a1dd21c749729a8e7a4020b897ec",
       "version_major": 2,
       "version_minor": 0
      },
      "text/plain": [
       "localize peaks using center_of_mass:   0%|          | 0/33 [00:00<?, ?it/s]"
      ]
     },
     "metadata": {},
     "output_type": "display_data"
    },
    {
     "name": "stdout",
     "output_type": "stream",
     "text": [
      "localize peaks using center_of_mass with n_jobs = 72 and chunk_size = 9765\n"
     ]
    },
    {
     "data": {
      "application/vnd.jupyter.widget-view+json": {
       "model_id": "b6e2d67a4b184ce99484e4a9e8333dd8",
       "version_major": 2,
       "version_minor": 0
      },
      "text/plain": [
       "localize peaks using center_of_mass:   0%|          | 0/33 [00:00<?, ?it/s]"
      ]
     },
     "metadata": {},
     "output_type": "display_data"
    },
    {
     "name": "stdout",
     "output_type": "stream",
     "text": [
      "extract waveforms shared_memory mono buffer with n_jobs = 72 and chunk_size = 9765\n"
     ]
    },
    {
     "data": {
      "application/vnd.jupyter.widget-view+json": {
       "model_id": "903c363fe50e439fb2bff4995dd77904",
       "version_major": 2,
       "version_minor": 0
      },
      "text/plain": [
       "extract waveforms shared_memory mono buffer:   0%|          | 0/33 [00:00<?, ?it/s]"
      ]
     },
     "metadata": {},
     "output_type": "display_data"
    },
    {
     "name": "stdout",
     "output_type": "stream",
     "text": [
      "localize peaks using grid_convolution with n_jobs = 72 and chunk_size = 9765\n"
     ]
    },
    {
     "data": {
      "application/vnd.jupyter.widget-view+json": {
       "model_id": "8c50a856e75d4e34ac2b0977c83201ef",
       "version_major": 2,
       "version_minor": 0
      },
      "text/plain": [
       "localize peaks using grid_convolution:   0%|          | 0/33 [00:00<?, ?it/s]"
      ]
     },
     "metadata": {},
     "output_type": "display_data"
    },
    {
     "name": "stdout",
     "output_type": "stream",
     "text": [
      "extract waveforms shared_memory multi buffer with n_jobs = 72 and chunk_size = 9765\n"
     ]
    },
    {
     "data": {
      "application/vnd.jupyter.widget-view+json": {
       "model_id": "98d5a71a0c8e4b5298a89de30aadd331",
       "version_major": 2,
       "version_minor": 0
      },
      "text/plain": [
       "extract waveforms shared_memory multi buffer:   0%|          | 0/33 [00:00<?, ?it/s]"
      ]
     },
     "metadata": {},
     "output_type": "display_data"
    },
    {
     "name": "stdout",
     "output_type": "stream",
     "text": [
      "extract waveforms shared_memory multi buffer with n_jobs = 72 and chunk_size = 9765\n"
     ]
    },
    {
     "data": {
      "application/vnd.jupyter.widget-view+json": {
       "model_id": "437252c7895c453bb09db9459a3703ad",
       "version_major": 2,
       "version_minor": 0
      },
      "text/plain": [
       "extract waveforms shared_memory multi buffer:   0%|          | 0/33 [00:00<?, ?it/s]"
      ]
     },
     "metadata": {},
     "output_type": "display_data"
    },
    {
     "name": "stdout",
     "output_type": "stream",
     "text": [
      "extract waveforms memmap multi buffer with n_jobs = 72 and chunk_size = 9765\n"
     ]
    },
    {
     "data": {
      "application/vnd.jupyter.widget-view+json": {
       "model_id": "43bf76c68a44434287f509ecc2d55e90",
       "version_major": 2,
       "version_minor": 0
      },
      "text/plain": [
       "extract waveforms memmap multi buffer:   0%|          | 0/33 [00:00<?, ?it/s]"
      ]
     },
     "metadata": {},
     "output_type": "display_data"
    },
    {
     "name": "stdout",
     "output_type": "stream",
     "text": [
      "localize peaks using monopolar_triangulation with n_jobs = 72 and chunk_size = 9765\n"
     ]
    },
    {
     "data": {
      "application/vnd.jupyter.widget-view+json": {
       "model_id": "1740d0b364004dbf8e328ce40185e1d1",
       "version_major": 2,
       "version_minor": 0
      },
      "text/plain": [
       "localize peaks using monopolar_triangulation:   0%|          | 0/33 [00:00<?, ?it/s]"
      ]
     },
     "metadata": {},
     "output_type": "display_data"
    },
    {
     "name": "stdout",
     "output_type": "stream",
     "text": [
      "localize peaks using monopolar_triangulation with n_jobs = 72 and chunk_size = 9765\n"
     ]
    },
    {
     "data": {
      "application/vnd.jupyter.widget-view+json": {
       "model_id": "2579c875b0714b6bac015d743331aa57",
       "version_major": 2,
       "version_minor": 0
      },
      "text/plain": [
       "localize peaks using monopolar_triangulation:   0%|          | 0/33 [00:00<?, ?it/s]"
      ]
     },
     "metadata": {},
     "output_type": "display_data"
    },
    {
     "name": "stdout",
     "output_type": "stream",
     "text": [
      "localize peaks using monopolar_triangulation with n_jobs = 72 and chunk_size = 9765\n"
     ]
    },
    {
     "data": {
      "application/vnd.jupyter.widget-view+json": {
       "model_id": "8e87baa355f94e07a8bfd4afb0838d70",
       "version_major": 2,
       "version_minor": 0
      },
      "text/plain": [
       "localize peaks using monopolar_triangulation:   0%|          | 0/33 [00:00<?, ?it/s]"
      ]
     },
     "metadata": {},
     "output_type": "display_data"
    },
    {
     "name": "stdout",
     "output_type": "stream",
     "text": [
      "localize peaks using center_of_mass with n_jobs = 72 and chunk_size = 9765\n"
     ]
    },
    {
     "data": {
      "application/vnd.jupyter.widget-view+json": {
       "model_id": "fdadc146eaff4730810bbb713db0642b",
       "version_major": 2,
       "version_minor": 0
      },
      "text/plain": [
       "localize peaks using center_of_mass:   0%|          | 0/33 [00:00<?, ?it/s]"
      ]
     },
     "metadata": {},
     "output_type": "display_data"
    },
    {
     "name": "stdout",
     "output_type": "stream",
     "text": [
      "localize peaks using center_of_mass with n_jobs = 72 and chunk_size = 9765\n"
     ]
    },
    {
     "data": {
      "application/vnd.jupyter.widget-view+json": {
       "model_id": "557e148e9fe44a0f930828d18d034f12",
       "version_major": 2,
       "version_minor": 0
      },
      "text/plain": [
       "localize peaks using center_of_mass:   0%|          | 0/33 [00:00<?, ?it/s]"
      ]
     },
     "metadata": {},
     "output_type": "display_data"
    },
    {
     "name": "stdout",
     "output_type": "stream",
     "text": [
      "localize peaks using center_of_mass with n_jobs = 72 and chunk_size = 9765\n"
     ]
    },
    {
     "data": {
      "application/vnd.jupyter.widget-view+json": {
       "model_id": "0383470a981c4955825b530ca5a44927",
       "version_major": 2,
       "version_minor": 0
      },
      "text/plain": [
       "localize peaks using center_of_mass:   0%|          | 0/33 [00:00<?, ?it/s]"
      ]
     },
     "metadata": {},
     "output_type": "display_data"
    },
    {
     "name": "stdout",
     "output_type": "stream",
     "text": [
      "extract waveforms shared_memory mono buffer with n_jobs = 72 and chunk_size = 9765\n"
     ]
    },
    {
     "data": {
      "application/vnd.jupyter.widget-view+json": {
       "model_id": "7673c7c97df24d7fa7b0efb9ee3c2a98",
       "version_major": 2,
       "version_minor": 0
      },
      "text/plain": [
       "extract waveforms shared_memory mono buffer:   0%|          | 0/33 [00:00<?, ?it/s]"
      ]
     },
     "metadata": {},
     "output_type": "display_data"
    },
    {
     "name": "stdout",
     "output_type": "stream",
     "text": [
      "localize peaks using grid_convolution with n_jobs = 72 and chunk_size = 9765\n"
     ]
    },
    {
     "data": {
      "application/vnd.jupyter.widget-view+json": {
       "model_id": "2703d49b5e47493db8290fc6604b6995",
       "version_major": 2,
       "version_minor": 0
      },
      "text/plain": [
       "localize peaks using grid_convolution:   0%|          | 0/33 [00:00<?, ?it/s]"
      ]
     },
     "metadata": {},
     "output_type": "display_data"
    },
    {
     "name": "stdout",
     "output_type": "stream",
     "text": [
      "extract waveforms shared_memory multi buffer with n_jobs = 72 and chunk_size = 9765\n"
     ]
    },
    {
     "data": {
      "application/vnd.jupyter.widget-view+json": {
       "model_id": "00100967ad7444e1abdc828ddd6bccdd",
       "version_major": 2,
       "version_minor": 0
      },
      "text/plain": [
       "extract waveforms shared_memory multi buffer:   0%|          | 0/33 [00:00<?, ?it/s]"
      ]
     },
     "metadata": {},
     "output_type": "display_data"
    },
    {
     "name": "stdout",
     "output_type": "stream",
     "text": [
      "extract waveforms shared_memory multi buffer with n_jobs = 72 and chunk_size = 9765\n"
     ]
    },
    {
     "data": {
      "application/vnd.jupyter.widget-view+json": {
       "model_id": "d2d06526ea474507b2096b1c78c7f83f",
       "version_major": 2,
       "version_minor": 0
      },
      "text/plain": [
       "extract waveforms shared_memory multi buffer:   0%|          | 0/33 [00:00<?, ?it/s]"
      ]
     },
     "metadata": {},
     "output_type": "display_data"
    },
    {
     "name": "stdout",
     "output_type": "stream",
     "text": [
      "extract waveforms memmap multi buffer with n_jobs = 72 and chunk_size = 9765\n"
     ]
    },
    {
     "data": {
      "application/vnd.jupyter.widget-view+json": {
       "model_id": "e2621666944f4f34a8c58356601df67e",
       "version_major": 2,
       "version_minor": 0
      },
      "text/plain": [
       "extract waveforms memmap multi buffer:   0%|          | 0/33 [00:00<?, ?it/s]"
      ]
     },
     "metadata": {},
     "output_type": "display_data"
    },
    {
     "name": "stdout",
     "output_type": "stream",
     "text": [
      "localize peaks using monopolar_triangulation with n_jobs = 72 and chunk_size = 9765\n"
     ]
    },
    {
     "data": {
      "application/vnd.jupyter.widget-view+json": {
       "model_id": "da60cccbc1194df291c57c4cea733551",
       "version_major": 2,
       "version_minor": 0
      },
      "text/plain": [
       "localize peaks using monopolar_triangulation:   0%|          | 0/33 [00:00<?, ?it/s]"
      ]
     },
     "metadata": {},
     "output_type": "display_data"
    },
    {
     "name": "stdout",
     "output_type": "stream",
     "text": [
      "localize peaks using monopolar_triangulation with n_jobs = 72 and chunk_size = 9765\n"
     ]
    },
    {
     "data": {
      "application/vnd.jupyter.widget-view+json": {
       "model_id": "9ff2890b661b49198cf44ecac9db83c0",
       "version_major": 2,
       "version_minor": 0
      },
      "text/plain": [
       "localize peaks using monopolar_triangulation:   0%|          | 0/33 [00:00<?, ?it/s]"
      ]
     },
     "metadata": {},
     "output_type": "display_data"
    },
    {
     "name": "stdout",
     "output_type": "stream",
     "text": [
      "localize peaks using monopolar_triangulation with n_jobs = 72 and chunk_size = 9765\n"
     ]
    },
    {
     "data": {
      "application/vnd.jupyter.widget-view+json": {
       "model_id": "13212d96783543afab520e165b5146d6",
       "version_major": 2,
       "version_minor": 0
      },
      "text/plain": [
       "localize peaks using monopolar_triangulation:   0%|          | 0/33 [00:00<?, ?it/s]"
      ]
     },
     "metadata": {},
     "output_type": "display_data"
    },
    {
     "name": "stdout",
     "output_type": "stream",
     "text": [
      "localize peaks using center_of_mass with n_jobs = 72 and chunk_size = 9765\n"
     ]
    },
    {
     "data": {
      "application/vnd.jupyter.widget-view+json": {
       "model_id": "335673cd508246f7b7a5270637a8fb80",
       "version_major": 2,
       "version_minor": 0
      },
      "text/plain": [
       "localize peaks using center_of_mass:   0%|          | 0/33 [00:00<?, ?it/s]"
      ]
     },
     "metadata": {},
     "output_type": "display_data"
    },
    {
     "name": "stdout",
     "output_type": "stream",
     "text": [
      "localize peaks using center_of_mass with n_jobs = 72 and chunk_size = 9765\n"
     ]
    },
    {
     "data": {
      "application/vnd.jupyter.widget-view+json": {
       "model_id": "d6984223af024d3da1469f01b54fd442",
       "version_major": 2,
       "version_minor": 0
      },
      "text/plain": [
       "localize peaks using center_of_mass:   0%|          | 0/33 [00:00<?, ?it/s]"
      ]
     },
     "metadata": {},
     "output_type": "display_data"
    },
    {
     "name": "stdout",
     "output_type": "stream",
     "text": [
      "localize peaks using center_of_mass with n_jobs = 72 and chunk_size = 9765\n"
     ]
    },
    {
     "data": {
      "application/vnd.jupyter.widget-view+json": {
       "model_id": "af3491f68fae47a4aceb27bb639b1089",
       "version_major": 2,
       "version_minor": 0
      },
      "text/plain": [
       "localize peaks using center_of_mass:   0%|          | 0/33 [00:00<?, ?it/s]"
      ]
     },
     "metadata": {},
     "output_type": "display_data"
    },
    {
     "name": "stdout",
     "output_type": "stream",
     "text": [
      "extract waveforms shared_memory mono buffer with n_jobs = 72 and chunk_size = 9765\n"
     ]
    },
    {
     "data": {
      "application/vnd.jupyter.widget-view+json": {
       "model_id": "703dacff4bee465e8a8e8bd7c2623766",
       "version_major": 2,
       "version_minor": 0
      },
      "text/plain": [
       "extract waveforms shared_memory mono buffer:   0%|          | 0/33 [00:00<?, ?it/s]"
      ]
     },
     "metadata": {},
     "output_type": "display_data"
    },
    {
     "name": "stdout",
     "output_type": "stream",
     "text": [
      "localize peaks using grid_convolution with n_jobs = 72 and chunk_size = 9765\n"
     ]
    },
    {
     "data": {
      "application/vnd.jupyter.widget-view+json": {
       "model_id": "09e17815f0fb4446b1690b1136678390",
       "version_major": 2,
       "version_minor": 0
      },
      "text/plain": [
       "localize peaks using grid_convolution:   0%|          | 0/33 [00:00<?, ?it/s]"
      ]
     },
     "metadata": {},
     "output_type": "display_data"
    },
    {
     "name": "stdout",
     "output_type": "stream",
     "text": [
      "extract waveforms shared_memory multi buffer with n_jobs = 72 and chunk_size = 9765\n"
     ]
    },
    {
     "data": {
      "application/vnd.jupyter.widget-view+json": {
       "model_id": "04beba31a0c246bd8708539e5a111d1c",
       "version_major": 2,
       "version_minor": 0
      },
      "text/plain": [
       "extract waveforms shared_memory multi buffer:   0%|          | 0/33 [00:00<?, ?it/s]"
      ]
     },
     "metadata": {},
     "output_type": "display_data"
    },
    {
     "name": "stdout",
     "output_type": "stream",
     "text": [
      "extract waveforms shared_memory multi buffer with n_jobs = 72 and chunk_size = 9765\n"
     ]
    },
    {
     "data": {
      "application/vnd.jupyter.widget-view+json": {
       "model_id": "fdd7c47f72294a0580233584caa2dacc",
       "version_major": 2,
       "version_minor": 0
      },
      "text/plain": [
       "extract waveforms shared_memory multi buffer:   0%|          | 0/33 [00:00<?, ?it/s]"
      ]
     },
     "metadata": {},
     "output_type": "display_data"
    },
    {
     "name": "stdout",
     "output_type": "stream",
     "text": [
      "extract waveforms memmap multi buffer with n_jobs = 72 and chunk_size = 9765\n"
     ]
    },
    {
     "data": {
      "application/vnd.jupyter.widget-view+json": {
       "model_id": "9bb93f1610014a2dbc801d82074f473b",
       "version_major": 2,
       "version_minor": 0
      },
      "text/plain": [
       "extract waveforms memmap multi buffer:   0%|          | 0/33 [00:00<?, ?it/s]"
      ]
     },
     "metadata": {},
     "output_type": "display_data"
    },
    {
     "name": "stdout",
     "output_type": "stream",
     "text": [
      "localize peaks using monopolar_triangulation with n_jobs = 72 and chunk_size = 9765\n"
     ]
    },
    {
     "data": {
      "application/vnd.jupyter.widget-view+json": {
       "model_id": "70c26f0e838541b8a6a2915f8bbbca9d",
       "version_major": 2,
       "version_minor": 0
      },
      "text/plain": [
       "localize peaks using monopolar_triangulation:   0%|          | 0/33 [00:00<?, ?it/s]"
      ]
     },
     "metadata": {},
     "output_type": "display_data"
    },
    {
     "name": "stdout",
     "output_type": "stream",
     "text": [
      "localize peaks using monopolar_triangulation with n_jobs = 72 and chunk_size = 9765\n"
     ]
    },
    {
     "data": {
      "application/vnd.jupyter.widget-view+json": {
       "model_id": "af5389afb804494b925a13e9bb187a50",
       "version_major": 2,
       "version_minor": 0
      },
      "text/plain": [
       "localize peaks using monopolar_triangulation:   0%|          | 0/33 [00:00<?, ?it/s]"
      ]
     },
     "metadata": {},
     "output_type": "display_data"
    },
    {
     "name": "stdout",
     "output_type": "stream",
     "text": [
      "localize peaks using monopolar_triangulation with n_jobs = 72 and chunk_size = 9765\n"
     ]
    },
    {
     "data": {
      "application/vnd.jupyter.widget-view+json": {
       "model_id": "9a16988c986e43d9a126a9501aa3981b",
       "version_major": 2,
       "version_minor": 0
      },
      "text/plain": [
       "localize peaks using monopolar_triangulation:   0%|          | 0/33 [00:00<?, ?it/s]"
      ]
     },
     "metadata": {},
     "output_type": "display_data"
    },
    {
     "name": "stdout",
     "output_type": "stream",
     "text": [
      "localize peaks using center_of_mass with n_jobs = 72 and chunk_size = 9765\n"
     ]
    },
    {
     "data": {
      "application/vnd.jupyter.widget-view+json": {
       "model_id": "5d9423fa03ab4fed8559156392a400a6",
       "version_major": 2,
       "version_minor": 0
      },
      "text/plain": [
       "localize peaks using center_of_mass:   0%|          | 0/33 [00:00<?, ?it/s]"
      ]
     },
     "metadata": {},
     "output_type": "display_data"
    },
    {
     "name": "stdout",
     "output_type": "stream",
     "text": [
      "localize peaks using center_of_mass with n_jobs = 72 and chunk_size = 9765\n"
     ]
    },
    {
     "data": {
      "application/vnd.jupyter.widget-view+json": {
       "model_id": "7913c4f163794f00b55f802de04f6a80",
       "version_major": 2,
       "version_minor": 0
      },
      "text/plain": [
       "localize peaks using center_of_mass:   0%|          | 0/33 [00:00<?, ?it/s]"
      ]
     },
     "metadata": {},
     "output_type": "display_data"
    },
    {
     "name": "stdout",
     "output_type": "stream",
     "text": [
      "localize peaks using center_of_mass with n_jobs = 72 and chunk_size = 9765\n"
     ]
    },
    {
     "data": {
      "application/vnd.jupyter.widget-view+json": {
       "model_id": "f385e956c855452fb1f2f11019eba9d3",
       "version_major": 2,
       "version_minor": 0
      },
      "text/plain": [
       "localize peaks using center_of_mass:   0%|          | 0/33 [00:00<?, ?it/s]"
      ]
     },
     "metadata": {},
     "output_type": "display_data"
    },
    {
     "name": "stdout",
     "output_type": "stream",
     "text": [
      "extract waveforms shared_memory mono buffer with n_jobs = 72 and chunk_size = 9765\n"
     ]
    },
    {
     "data": {
      "application/vnd.jupyter.widget-view+json": {
       "model_id": "195eab52f4954ee3b6a4a4db0beefbb3",
       "version_major": 2,
       "version_minor": 0
      },
      "text/plain": [
       "extract waveforms shared_memory mono buffer:   0%|          | 0/33 [00:00<?, ?it/s]"
      ]
     },
     "metadata": {},
     "output_type": "display_data"
    },
    {
     "name": "stdout",
     "output_type": "stream",
     "text": [
      "localize peaks using grid_convolution with n_jobs = 72 and chunk_size = 9765\n"
     ]
    },
    {
     "data": {
      "application/vnd.jupyter.widget-view+json": {
       "model_id": "ab57a0f473ac457ca4b65f9e798eda56",
       "version_major": 2,
       "version_minor": 0
      },
      "text/plain": [
       "localize peaks using grid_convolution:   0%|          | 0/33 [00:00<?, ?it/s]"
      ]
     },
     "metadata": {},
     "output_type": "display_data"
    },
    {
     "name": "stdout",
     "output_type": "stream",
     "text": [
      "extract waveforms shared_memory multi buffer with n_jobs = 72 and chunk_size = 9765\n"
     ]
    },
    {
     "data": {
      "application/vnd.jupyter.widget-view+json": {
       "model_id": "fe7c820860ef426ab59cace10a369a28",
       "version_major": 2,
       "version_minor": 0
      },
      "text/plain": [
       "extract waveforms shared_memory multi buffer:   0%|          | 0/33 [00:00<?, ?it/s]"
      ]
     },
     "metadata": {},
     "output_type": "display_data"
    },
    {
     "name": "stdout",
     "output_type": "stream",
     "text": [
      "extract waveforms shared_memory multi buffer with n_jobs = 72 and chunk_size = 9765\n"
     ]
    },
    {
     "data": {
      "application/vnd.jupyter.widget-view+json": {
       "model_id": "626557ad579a44c1ab14e158b55d8a95",
       "version_major": 2,
       "version_minor": 0
      },
      "text/plain": [
       "extract waveforms shared_memory multi buffer:   0%|          | 0/33 [00:00<?, ?it/s]"
      ]
     },
     "metadata": {},
     "output_type": "display_data"
    },
    {
     "name": "stdout",
     "output_type": "stream",
     "text": [
      "extract waveforms memmap multi buffer with n_jobs = 72 and chunk_size = 9765\n"
     ]
    },
    {
     "data": {
      "application/vnd.jupyter.widget-view+json": {
       "model_id": "6d1c1114852643d9bbc34a022c612085",
       "version_major": 2,
       "version_minor": 0
      },
      "text/plain": [
       "extract waveforms memmap multi buffer:   0%|          | 0/33 [00:00<?, ?it/s]"
      ]
     },
     "metadata": {},
     "output_type": "display_data"
    },
    {
     "name": "stdout",
     "output_type": "stream",
     "text": [
      "localize peaks using monopolar_triangulation with n_jobs = 72 and chunk_size = 9765\n"
     ]
    },
    {
     "data": {
      "application/vnd.jupyter.widget-view+json": {
       "model_id": "c367e96af45e4637b0471b60be4929d4",
       "version_major": 2,
       "version_minor": 0
      },
      "text/plain": [
       "localize peaks using monopolar_triangulation:   0%|          | 0/33 [00:00<?, ?it/s]"
      ]
     },
     "metadata": {},
     "output_type": "display_data"
    },
    {
     "name": "stdout",
     "output_type": "stream",
     "text": [
      "localize peaks using monopolar_triangulation with n_jobs = 72 and chunk_size = 9765\n"
     ]
    },
    {
     "data": {
      "application/vnd.jupyter.widget-view+json": {
       "model_id": "09ec863267f348d89548d5e867563e18",
       "version_major": 2,
       "version_minor": 0
      },
      "text/plain": [
       "localize peaks using monopolar_triangulation:   0%|          | 0/33 [00:00<?, ?it/s]"
      ]
     },
     "metadata": {},
     "output_type": "display_data"
    },
    {
     "name": "stdout",
     "output_type": "stream",
     "text": [
      "localize peaks using monopolar_triangulation with n_jobs = 72 and chunk_size = 9765\n"
     ]
    },
    {
     "data": {
      "application/vnd.jupyter.widget-view+json": {
       "model_id": "1d8f4d3a1a4b4ab1babc31f171ccdbae",
       "version_major": 2,
       "version_minor": 0
      },
      "text/plain": [
       "localize peaks using monopolar_triangulation:   0%|          | 0/33 [00:00<?, ?it/s]"
      ]
     },
     "metadata": {},
     "output_type": "display_data"
    },
    {
     "name": "stdout",
     "output_type": "stream",
     "text": [
      "localize peaks using center_of_mass with n_jobs = 72 and chunk_size = 9765\n"
     ]
    },
    {
     "data": {
      "application/vnd.jupyter.widget-view+json": {
       "model_id": "261c44b6685f4209b200d3d2ad4ba3b1",
       "version_major": 2,
       "version_minor": 0
      },
      "text/plain": [
       "localize peaks using center_of_mass:   0%|          | 0/33 [00:00<?, ?it/s]"
      ]
     },
     "metadata": {},
     "output_type": "display_data"
    },
    {
     "name": "stdout",
     "output_type": "stream",
     "text": [
      "localize peaks using center_of_mass with n_jobs = 72 and chunk_size = 9765\n"
     ]
    },
    {
     "data": {
      "application/vnd.jupyter.widget-view+json": {
       "model_id": "7288b3265a8b40aab0202e6ed0992d5d",
       "version_major": 2,
       "version_minor": 0
      },
      "text/plain": [
       "localize peaks using center_of_mass:   0%|          | 0/33 [00:00<?, ?it/s]"
      ]
     },
     "metadata": {},
     "output_type": "display_data"
    },
    {
     "name": "stdout",
     "output_type": "stream",
     "text": [
      "localize peaks using center_of_mass with n_jobs = 72 and chunk_size = 9765\n"
     ]
    },
    {
     "data": {
      "application/vnd.jupyter.widget-view+json": {
       "model_id": "84382fc41dde488bb83b3fb1f8396eaa",
       "version_major": 2,
       "version_minor": 0
      },
      "text/plain": [
       "localize peaks using center_of_mass:   0%|          | 0/33 [00:00<?, ?it/s]"
      ]
     },
     "metadata": {},
     "output_type": "display_data"
    },
    {
     "name": "stdout",
     "output_type": "stream",
     "text": [
      "extract waveforms shared_memory mono buffer with n_jobs = 72 and chunk_size = 9765\n"
     ]
    },
    {
     "data": {
      "application/vnd.jupyter.widget-view+json": {
       "model_id": "f249378c90bf4bb9a05db8756ea972a5",
       "version_major": 2,
       "version_minor": 0
      },
      "text/plain": [
       "extract waveforms shared_memory mono buffer:   0%|          | 0/33 [00:00<?, ?it/s]"
      ]
     },
     "metadata": {},
     "output_type": "display_data"
    },
    {
     "name": "stdout",
     "output_type": "stream",
     "text": [
      "localize peaks using grid_convolution with n_jobs = 72 and chunk_size = 9765\n"
     ]
    },
    {
     "data": {
      "application/vnd.jupyter.widget-view+json": {
       "model_id": "c8022d281fea4844a0f5d2c247d1eeea",
       "version_major": 2,
       "version_minor": 0
      },
      "text/plain": [
       "localize peaks using grid_convolution:   0%|          | 0/33 [00:00<?, ?it/s]"
      ]
     },
     "metadata": {},
     "output_type": "display_data"
    }
   ],
   "source": [
    "benchmarks_cutoff = {}\n",
    "\n",
    "benchmarks_cutoff['xaxis'] = xaxis \n",
    "\n",
    "for cut_off in xaxis:\n",
    "    waveforms = None\n",
    "    for method in ['monopolar_triangulation', 'center_of_mass', 'grid_convolution']:\n",
    "    \n",
    "        if method == 'monopolar_triangulation':\n",
    "            for feature in ['ptp', 'energy', 'peak_voltage']:\n",
    "                title = f'Monopolar ({feature})'\n",
    "                params = {'enforce_decrease': True, 'feature' : feature}\n",
    "                bench = BenchmarkPeakLocalization(recordings[cut_off], gt_sorting, positions, job_kwargs=job_kwargs, title=title)\n",
    "                if waveforms is not None:\n",
    "                    bench.waveforms = waveforms    \n",
    "                bench.run(method, params)\n",
    "                waveforms = bench.waveforms\n",
    "                if title in benchmarks_cutoff:\n",
    "                    benchmarks_cutoff[title] += [bench]\n",
    "                else:\n",
    "                    benchmarks_cutoff[title] = [bench]\n",
    "        elif method == 'center_of_mass':\n",
    "            for feature in ['ptp', 'energy', 'peak_voltage']:\n",
    "                title = f'CoM ({feature})'\n",
    "                params = {'feature' : feature}\n",
    "                bench = BenchmarkPeakLocalization(recordings[cut_off], gt_sorting, positions, job_kwargs=job_kwargs, title=title)\n",
    "                if waveforms is not None:\n",
    "                    bench.waveforms = waveforms    \n",
    "                bench.run(method, params)\n",
    "                waveforms = bench.waveforms\n",
    "                if title in benchmarks_cutoff:\n",
    "                    benchmarks_cutoff[title] += [bench]\n",
    "                else:\n",
    "                    benchmarks_cutoff[title] = [bench]\n",
    "        elif method == 'grid_convolution':\n",
    "            title = f'Grid'\n",
    "            params = {}\n",
    "            bench = BenchmarkPeakLocalization(recordings[cut_off], gt_sorting, positions, job_kwargs=job_kwargs, title=title)\n",
    "            if waveforms is not None:\n",
    "                bench.waveforms = waveforms    \n",
    "            bench.run(method, params)\n",
    "            waveforms = bench.waveforms\n",
    "            if title in benchmarks_cutoff:\n",
    "                benchmarks_cutoff[title] += [bench]\n",
    "            else:\n",
    "                benchmarks_cutoff[title] = [bench]"
   ]
  },
  {
   "cell_type": "code",
   "execution_count": 12,
   "metadata": {},
   "outputs": [],
   "source": [
    "from spikeinterface.sortingcomponents.benchmark.benchmark_tools import BenchmarkBase, _simpleaxis \n",
    "import pylab as plt\n",
    "import matplotlib\n",
    "\n",
    "def plot_comparison_precision_2(benchmarks, colors=None):\n",
    "\n",
    "    import pylab as plt\n",
    "    fig, axes = plt.subplots(nrows=3, ncols=len(benchmarks) + 1, figsize=(15, 7), squeeze=False)\n",
    "    \n",
    "    to_explore = list(benchmarks_ms.keys())\n",
    "    to_explore.remove('xaxis')\n",
    "    \n",
    "    for title in to_explore:\n",
    "        \n",
    "        \n",
    "        if title.find('Monopolar') > -1:\n",
    "            jcount = 1\n",
    "        elif title.find('CoM') > -1:\n",
    "            jcount = 0\n",
    "        elif title.find('Grid') > -1:\n",
    "            jcount = 2\n",
    "    \n",
    "        for icount, benchmark in enumerate(benchmarks):\n",
    "\n",
    "            bench = benchmark[title]\n",
    "            \n",
    "            #vrange = np.array(list(bench.keys()))\n",
    "            #v_min = np.min(vrange)\n",
    "            #v_max = np.max(vrange)\n",
    "\n",
    "            #my_cmap = plt.get_cmap(cmaps[jcount])\n",
    "            #cNorm  = matplotlib.colors.Normalize(vmin=v_min, vmax=v_max)\n",
    "            #scalarMap = plt.cm.ScalarMappable(norm=cNorm, cmap=my_cmap)\n",
    "\n",
    "            if icount == len(benchmarks) - 1:\n",
    "                b = bench[0]\n",
    "\n",
    "                spikes = b.spike_positions[0]\n",
    "                units = b.waveforms.sorting.unit_ids\n",
    "                all_x = np.concatenate([spikes[unit_id]['x'] for unit_id in units])\n",
    "                all_y = np.concatenate([spikes[unit_id]['y'] for unit_id in units])\n",
    "                try:\n",
    "                    all_z = np.concatenate([spikes[unit_id]['z'] for unit_id in units])\n",
    "                except Exception:\n",
    "                    all_z = np.nan * np.zeros(len(all_x))\n",
    "\n",
    "                gt_positions = b.gt_positions\n",
    "                real_x = np.concatenate([gt_positions[c, 0]*np.ones(len(spikes[i]['x'])) for c, i in enumerate(units)])\n",
    "                real_y = np.concatenate([gt_positions[c, 1]*np.ones(len(spikes[i]['y'])) for c, i in enumerate(units)])\n",
    "                try:\n",
    "                    real_z = np.concatenate([gt_positions[c, 2]*np.ones(len(spikes[i]['z'])) for c, i in enumerate(units)])\n",
    "                except Exception:\n",
    "                    real_z = np.nan * np.zeros(len(real_x))\n",
    "\n",
    "                dx = np.corrcoef(np.nan_to_num(all_x), real_x)[0, 1]\n",
    "                dy = np.corrcoef(np.nan_to_num(all_y), real_y)[0, 1]\n",
    "                dz = np.corrcoef(np.nan_to_num(all_z), real_z)[0, 1]\n",
    "                ax = axes[jcount, icount+1]\n",
    "                \n",
    "                #x_means = np.array([np.nanmean(dx), np.nanmean(dy), np.nanmean(dz)])\n",
    "                #y_means = np.array([np.nanstd(dx), np.nanstd(dy), np.nanstd(dz)])\n",
    "                x_means = np.array([dx, dy, dz])\n",
    "                \n",
    "                ax.plot(np.arange(3), x_means, c=colors[title], lw=2)\n",
    "                #ax.fill_between(np.arange(len(x_means)), x_means-y_means,x_means+y_means,\n",
    "                #            color=colors[title], alpha=0.05)\n",
    "                _simpleaxis(ax)\n",
    "                \n",
    "                ax.set_ylabel('corrcoef')\n",
    "                #if jcount == 0:\n",
    "                ax.set_xticks(np.arange(3), ['x', 'y', 'z'])\n",
    "               # ax.set_ylim(0, 45)\n",
    "            \n",
    "            ax = axes[jcount, icount]\n",
    "            \n",
    "            _simpleaxis(ax)\n",
    "\n",
    "            x_means = []\n",
    "            y_means = []\n",
    "            y_stds = []\n",
    "            labels = []\n",
    "            \n",
    "            for b in bench:\n",
    "                x_means += [np.nanmean(b.medians_over_templates)]\n",
    "                #x_stds += [np.std(b.medians_over_templates)]\n",
    "                y_means += [np.nanmean(b.mads_over_templates)]\n",
    "                #y_stds += [np.std(b.mads_over_templates)]\n",
    "                #colors += [scalarMap.to_rgba(key)]\n",
    "                #label = b.title.replace('Mononopolar', '')\n",
    "                #label = label.replace('CoM (ptp)', '')\n",
    "                #label = label.replace('Grid', '')\n",
    "                #label = label.replace('[', '')\n",
    "                #label = label.replace(']', '')\n",
    "                #labels += [label]\n",
    "                #title = b.title\n",
    "            xaxis = benchmark['xaxis']\n",
    "                #ax.scatter(x_means, y_means, c=colors, label=label, s=200, edgecolor='k')\n",
    "            \n",
    "            x_means = np.array(x_means)\n",
    "            y_means = np.array(y_means)\n",
    "            ax.plot(xaxis, x_means, color=colors[title], lw=2, label=title)\n",
    "            ax.fill_between(xaxis, x_means-y_means,x_means+y_means,\n",
    "                            color=colors[title], alpha=0.05)\n",
    "                \n",
    "            #ax.errorbar(x_means, y_means, xerr=x_stds, yerr=y_stds, fmt='.', c='0.5', alpha=0.5)\n",
    "                \n",
    "    \n",
    "            #ax.legend(loc='lower right')\n",
    "            \n",
    "            if icount == 0:\n",
    "                ax.set_ylabel('error medians (um)')\n",
    "            else:\n",
    "                ax.set_yticks([])\n",
    "            \n",
    "            if jcount == 2:\n",
    "                if icount == 0:\n",
    "                    ax.set_xlabel('Time (ms)')\n",
    "                elif icount == 1:\n",
    "                    ax.set_xlabel('Radius (um)')\n",
    "                elif icount == 2:\n",
    "                    ax.set_xlabel('Cutoff (Hz)')\n",
    "            else:\n",
    "                ax.set_xticks([])\n",
    "                #ax.set_xlim(7, 9)\n",
    "            #    ax.set_xticks([])\n",
    "            #else:\n",
    "            #    ax.set_xticks(np.arange(len(labels)), labels, rotation=45)\n",
    "                #ax.set_xlim(12, 14)\n",
    "            \n",
    "            #ymin, ymax = ax.get_ylim()\n",
    "            \n",
    "            ax.set_ylim(5, 35)\n",
    "            #else:\n",
    "            #    ax.set_ylim(0, 2)\n",
    "                #ax.set_xlim(5, 20)\n",
    "            \n",
    "            #ax.set_title(method)\n",
    "        axes[jcount, 0].legend()"
   ]
  },
  {
   "cell_type": "code",
   "execution_count": 13,
   "metadata": {},
   "outputs": [
    {
     "name": "stderr",
     "output_type": "stream",
     "text": [
      "/home/cure/anaconda3/envs/circus/lib/python3.10/site-packages/numpy/lib/function_base.py:2897: RuntimeWarning: invalid value encountered in divide\n",
      "  c /= stddev[:, None]\n",
      "/home/cure/anaconda3/envs/circus/lib/python3.10/site-packages/numpy/lib/function_base.py:2898: RuntimeWarning: invalid value encountered in divide\n",
      "  c /= stddev[None, :]\n",
      "/home/cure/anaconda3/envs/circus/lib/python3.10/site-packages/numpy/lib/function_base.py:2897: RuntimeWarning: invalid value encountered in divide\n",
      "  c /= stddev[:, None]\n",
      "/home/cure/anaconda3/envs/circus/lib/python3.10/site-packages/numpy/lib/function_base.py:2898: RuntimeWarning: invalid value encountered in divide\n",
      "  c /= stddev[None, :]\n",
      "/home/cure/anaconda3/envs/circus/lib/python3.10/site-packages/numpy/lib/function_base.py:2897: RuntimeWarning: invalid value encountered in divide\n",
      "  c /= stddev[:, None]\n",
      "/home/cure/anaconda3/envs/circus/lib/python3.10/site-packages/numpy/lib/function_base.py:2898: RuntimeWarning: invalid value encountered in divide\n",
      "  c /= stddev[None, :]\n",
      "/home/cure/anaconda3/envs/circus/lib/python3.10/site-packages/numpy/lib/function_base.py:2897: RuntimeWarning: invalid value encountered in divide\n",
      "  c /= stddev[:, None]\n",
      "/home/cure/anaconda3/envs/circus/lib/python3.10/site-packages/numpy/lib/function_base.py:2897: RuntimeWarning: invalid value encountered in divide\n",
      "  c /= stddev[:, None]\n",
      "/home/cure/anaconda3/envs/circus/lib/python3.10/site-packages/numpy/lib/function_base.py:2897: RuntimeWarning: invalid value encountered in divide\n",
      "  c /= stddev[:, None]\n"
     ]
    },
    {
     "data": {
      "image/png": "[encoded data removed]",
      "text/plain": [
       "<Figure size 1080x504 with 9 Axes>"
      ]
     },
     "metadata": {
      "needs_background": "light"
     },
     "output_type": "display_data"
    }
   ],
   "source": [
    "plot_comparison_precision_2([benchmarks_ms, benchmarks_radius], colors=colors)\n",
    "plt.tight_layout()\n",
    "plt.savefig('influence.pdf')"
   ]
  },
  {
   "cell_type": "code",
   "execution_count": null,
   "metadata": {},
   "outputs": [],
   "source": [
    "benchmarks_cutoff['Monopolar (peak_voltage)'] = benchmarks_cutoff.pop('Mononopolar (peak_voltage)')"
   ]
  },
  {
   "cell_type": "code",
   "execution_count": null,
   "metadata": {},
   "outputs": [],
   "source": [
    "benchmarks_cutoff.keys()"
   ]
  },
  {
   "cell_type": "code",
   "execution_count": null,
   "metadata": {},
   "outputs": [],
   "source": [
    "tmp[0]"
   ]
  }
 ],
 "metadata": {
  "kernelspec": {
   "display_name": "Python 3 (ipykernel)",
   "language": "python",
   "name": "python3"
  },
  "language_info": {
   "codemirror_mode": {
    "name": "ipython",
    "version": 3
   },
   "file_extension": ".py",
   "mimetype": "text/x-python",
   "name": "python",
   "nbconvert_exporter": "python",
   "pygments_lexer": "ipython3",
   "version": "3.10.5"
  },
  "vscode": {
   "interpreter": {
    "hash": "b50c9e5c20b80a7fea53278e7b85976e5483a9191b272239eb7a6e566d7885cc"
   }
  }
 },
 "nbformat": 4,
 "nbformat_minor": 4
}
