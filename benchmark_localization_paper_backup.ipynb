{
 "cells": [
  {
   "cell_type": "code",
   "execution_count": 1,
   "metadata": {},
   "outputs": [],
   "source": [
    "%load_ext autoreload\n",
    "%autoreload 2\n",
    "%matplotlib inline\n"
   ]
  },
  {
   "cell_type": "markdown",
   "metadata": {},
   "source": [
    "# Notebook to investigate the performance of spike interface in localizing neurons "
   ]
  },
  {
   "cell_type": "code",
   "execution_count": 2,
   "metadata": {},
   "outputs": [],
   "source": [
    "import MEArec as mr # what we will use to create a synthetic recording\n",
    "import spikeinterface.full as si  # what we will use to sort the spikes\n",
    "\n",
    "import warnings\n",
    "from probeinterface.plotting import plot_probe\n",
    "from matplotlib import cm\n",
    "from probeinterface import read_prb\n",
    "\n",
    "import time\n",
    "import numpy as np\n",
    "\n",
    "job_kwargs = {'n_jobs' : -1, 'chunk_memory' : '10M', 'verbose': True, 'progress_bar': True}"
   ]
  },
  {
   "cell_type": "code",
   "execution_count": 3,
   "metadata": {},
   "outputs": [],
   "source": [
    "rec = mr.load_recordings('recordings.h5')\n",
    "positions = np.hstack((rec.template_locations[:, 1:3], rec.template_locations[:, 0][:, np.newaxis]))\n",
    "\n",
    "from spikeinterface.sortingcomponents.benchmark.benchmark_peak_localization import BenchmarkPeakLocalization, plot_comparison_positions\n",
    "recording, gt_sorting = si.read_mearec('recordings.h5')\n",
    "recording_f = si.bandpass_filter(recording)\n",
    "recording_f = si.common_reference(recording_f)\n",
    "recording_f = si.zscore(recording_f)"
   ]
  },
  {
   "cell_type": "code",
   "execution_count": 5,
   "metadata": {},
   "outputs": [
    {
     "name": "stderr",
     "output_type": "stream",
     "text": [
      "[autoreload of spikeinterface.postprocessing.unit_localization failed: Traceback (most recent call last):\n",
      "  File \"/home/cure/anaconda3/envs/circus/lib/python3.10/site-packages/IPython/extensions/autoreload.py\", line 257, in check\n",
      "    superreload(m, reload, self.old_objects)\n",
      "  File \"/home/cure/anaconda3/envs/circus/lib/python3.10/site-packages/IPython/extensions/autoreload.py\", line 455, in superreload\n",
      "    module = reload(module)\n",
      "  File \"/home/cure/anaconda3/envs/circus/lib/python3.10/importlib/__init__.py\", line 169, in reload\n",
      "    _bootstrap._exec(spec, module)\n",
      "  File \"<frozen importlib._bootstrap>\", line 619, in _exec\n",
      "  File \"<frozen importlib._bootstrap_external>\", line 883, in exec_module\n",
      "  File \"<frozen importlib._bootstrap>\", line 241, in _call_with_frames_removed\n",
      "  File \"/media/cure/Secondary/pierre/softwares/spikeinterface/src/spikeinterface/postprocessing/unit_localization.py\", line 95, in <module>\n",
      "    WaveformExtractor.register_extension(UnitLocationsCalculator)\n",
      "  File \"/media/cure/Secondary/pierre/softwares/spikeinterface/src/spikeinterface/core/waveform_extractor.py\", line 377, in register_extension\n",
      "    assert all(\n",
      "AssertionError: Extension name already exists\n",
      "]\n",
      "Exception ignored in: <function BenchmarkPeakLocalization.__del__ at 0x7feaad828af0>\n",
      "Traceback (most recent call last):\n",
      "  File \"/media/cure/Secondary/pierre/softwares/spikeinterface/src/spikeinterface/sortingcomponents/benchmark/benchmark_peak_localization.py\", line 47, in __del__\n",
      "    shutil.rmtree(self.tmp_folder)\n",
      "  File \"/home/cure/anaconda3/envs/circus/lib/python3.10/shutil.py\", line 714, in rmtree\n",
      "    onerror(os.lstat, path, sys.exc_info())\n",
      "  File \"/home/cure/anaconda3/envs/circus/lib/python3.10/shutil.py\", line 712, in rmtree\n",
      "    orig_st = os.lstat(path)\n",
      "FileNotFoundError: [Errno 2] No such file or directory: './JHXZAO7O'\n",
      "Exception ignored in: <function BenchmarkPeakLocalization.__del__ at 0x7feaad828af0>\n",
      "Traceback (most recent call last):\n",
      "  File \"/media/cure/Secondary/pierre/softwares/spikeinterface/src/spikeinterface/sortingcomponents/benchmark/benchmark_peak_localization.py\", line 47, in __del__\n",
      "    shutil.rmtree(self.tmp_folder)\n",
      "  File \"/home/cure/anaconda3/envs/circus/lib/python3.10/shutil.py\", line 714, in rmtree\n",
      "    onerror(os.lstat, path, sys.exc_info())\n",
      "  File \"/home/cure/anaconda3/envs/circus/lib/python3.10/shutil.py\", line 712, in rmtree\n",
      "    orig_st = os.lstat(path)\n",
      "FileNotFoundError: [Errno 2] No such file or directory: './DMQMU3CK'\n",
      "Exception ignored in: <function BenchmarkPeakLocalization.__del__ at 0x7feaad828af0>\n",
      "Traceback (most recent call last):\n",
      "  File \"/media/cure/Secondary/pierre/softwares/spikeinterface/src/spikeinterface/sortingcomponents/benchmark/benchmark_peak_localization.py\", line 47, in __del__\n",
      "    shutil.rmtree(self.tmp_folder)\n",
      "  File \"/home/cure/anaconda3/envs/circus/lib/python3.10/shutil.py\", line 714, in rmtree\n",
      "    onerror(os.lstat, path, sys.exc_info())\n",
      "  File \"/home/cure/anaconda3/envs/circus/lib/python3.10/shutil.py\", line 712, in rmtree\n",
      "    orig_st = os.lstat(path)\n",
      "FileNotFoundError: [Errno 2] No such file or directory: './7ACZAO05'\n",
      "Exception ignored in: <function BenchmarkPeakLocalization.__del__ at 0x7feaad828af0>\n",
      "Traceback (most recent call last):\n",
      "  File \"/media/cure/Secondary/pierre/softwares/spikeinterface/src/spikeinterface/sortingcomponents/benchmark/benchmark_peak_localization.py\", line 47, in __del__\n",
      "    shutil.rmtree(self.tmp_folder)\n",
      "  File \"/home/cure/anaconda3/envs/circus/lib/python3.10/shutil.py\", line 714, in rmtree\n",
      "    onerror(os.lstat, path, sys.exc_info())\n",
      "  File \"/home/cure/anaconda3/envs/circus/lib/python3.10/shutil.py\", line 712, in rmtree\n",
      "    orig_st = os.lstat(path)\n",
      "FileNotFoundError: [Errno 2] No such file or directory: './2R1XDYXO'\n",
      "Exception ignored in: <function BenchmarkPeakLocalization.__del__ at 0x7feaad828af0>\n",
      "Traceback (most recent call last):\n",
      "  File \"/media/cure/Secondary/pierre/softwares/spikeinterface/src/spikeinterface/sortingcomponents/benchmark/benchmark_peak_localization.py\", line 47, in __del__\n",
      "    shutil.rmtree(self.tmp_folder)\n",
      "  File \"/home/cure/anaconda3/envs/circus/lib/python3.10/shutil.py\", line 714, in rmtree\n",
      "    onerror(os.lstat, path, sys.exc_info())\n",
      "  File \"/home/cure/anaconda3/envs/circus/lib/python3.10/shutil.py\", line 712, in rmtree\n",
      "    orig_st = os.lstat(path)\n",
      "FileNotFoundError: [Errno 2] No such file or directory: './4PKX1TXU'\n",
      "Exception ignored in: <function BenchmarkPeakLocalization.__del__ at 0x7feaad828af0>\n",
      "Traceback (most recent call last):\n",
      "  File \"/media/cure/Secondary/pierre/softwares/spikeinterface/src/spikeinterface/sortingcomponents/benchmark/benchmark_peak_localization.py\", line 47, in __del__\n",
      "    shutil.rmtree(self.tmp_folder)\n",
      "  File \"/home/cure/anaconda3/envs/circus/lib/python3.10/shutil.py\", line 714, in rmtree\n",
      "    onerror(os.lstat, path, sys.exc_info())\n",
      "  File \"/home/cure/anaconda3/envs/circus/lib/python3.10/shutil.py\", line 712, in rmtree\n",
      "    orig_st = os.lstat(path)\n",
      "FileNotFoundError: [Errno 2] No such file or directory: './U1J2N9QX'\n"
     ]
    },
    {
     "name": "stdout",
     "output_type": "stream",
     "text": [
      "extract waveforms shared_memory multi buffer with n_jobs = 72 and chunk_size = 9765\n"
     ]
    },
    {
     "data": {
      "application/vnd.jupyter.widget-view+json": {
       "model_id": "58b4e876576341168fd17bb31cf1c9ec",
       "version_major": 2,
       "version_minor": 0
      },
      "text/plain": [
       "extract waveforms shared_memory multi buffer:   0%|          | 0/33 [00:00<?, ?it/s]"
      ]
     },
     "metadata": {},
     "output_type": "display_data"
    },
    {
     "name": "stdout",
     "output_type": "stream",
     "text": [
      "extract waveforms shared_memory multi buffer with n_jobs = 72 and chunk_size = 9765\n"
     ]
    },
    {
     "data": {
      "application/vnd.jupyter.widget-view+json": {
       "model_id": "348fd942c2b84367968c3b866fb25d66",
       "version_major": 2,
       "version_minor": 0
      },
      "text/plain": [
       "extract waveforms shared_memory multi buffer:   0%|          | 0/33 [00:00<?, ?it/s]"
      ]
     },
     "metadata": {},
     "output_type": "display_data"
    },
    {
     "name": "stdout",
     "output_type": "stream",
     "text": [
      "extract waveforms memmap multi buffer with n_jobs = 72 and chunk_size = 9765\n"
     ]
    },
    {
     "data": {
      "application/vnd.jupyter.widget-view+json": {
       "model_id": "50395448e4884b8eaed6adc4cb3ba5c1",
       "version_major": 2,
       "version_minor": 0
      },
      "text/plain": [
       "extract waveforms memmap multi buffer:   0%|          | 0/33 [00:00<?, ?it/s]"
      ]
     },
     "metadata": {},
     "output_type": "display_data"
    },
    {
     "name": "stdout",
     "output_type": "stream",
     "text": [
      "localize peaks using center_of_mass with n_jobs = 72 and chunk_size = 9765\n"
     ]
    },
    {
     "data": {
      "application/vnd.jupyter.widget-view+json": {
       "model_id": "d1fee0d236064b149b85d7381ea79b5e",
       "version_major": 2,
       "version_minor": 0
      },
      "text/plain": [
       "localize peaks using center_of_mass:   0%|          | 0/33 [00:00<?, ?it/s]"
      ]
     },
     "metadata": {},
     "output_type": "display_data"
    },
    {
     "name": "stdout",
     "output_type": "stream",
     "text": [
      "localize peaks using center_of_mass with n_jobs = 72 and chunk_size = 9765\n"
     ]
    },
    {
     "data": {
      "application/vnd.jupyter.widget-view+json": {
       "model_id": "d09fae63d08f43f5977dd7cf10b38612",
       "version_major": 2,
       "version_minor": 0
      },
      "text/plain": [
       "localize peaks using center_of_mass:   0%|          | 0/33 [00:00<?, ?it/s]"
      ]
     },
     "metadata": {},
     "output_type": "display_data"
    },
    {
     "name": "stdout",
     "output_type": "stream",
     "text": [
      "localize peaks using center_of_mass with n_jobs = 72 and chunk_size = 9765\n"
     ]
    },
    {
     "data": {
      "application/vnd.jupyter.widget-view+json": {
       "model_id": "54e2b07bb693406681a8c4f0ae37539c",
       "version_major": 2,
       "version_minor": 0
      },
      "text/plain": [
       "localize peaks using center_of_mass:   0%|          | 0/33 [00:00<?, ?it/s]"
      ]
     },
     "metadata": {},
     "output_type": "display_data"
    },
    {
     "name": "stdout",
     "output_type": "stream",
     "text": [
      "localize peaks using monopolar_triangulation with n_jobs = 72 and chunk_size = 9765\n"
     ]
    },
    {
     "data": {
      "application/vnd.jupyter.widget-view+json": {
       "model_id": "5600a3c1b22c48a1a7b62e52cb7e6e73",
       "version_major": 2,
       "version_minor": 0
      },
      "text/plain": [
       "localize peaks using monopolar_triangulation:   0%|          | 0/33 [00:00<?, ?it/s]"
      ]
     },
     "metadata": {},
     "output_type": "display_data"
    },
    {
     "name": "stdout",
     "output_type": "stream",
     "text": [
      "localize peaks using monopolar_triangulation with n_jobs = 72 and chunk_size = 9765\n"
     ]
    },
    {
     "data": {
      "application/vnd.jupyter.widget-view+json": {
       "model_id": "02aabeb8ed4f45389f5f637d02613399",
       "version_major": 2,
       "version_minor": 0
      },
      "text/plain": [
       "localize peaks using monopolar_triangulation:   0%|          | 0/33 [00:00<?, ?it/s]"
      ]
     },
     "metadata": {},
     "output_type": "display_data"
    },
    {
     "name": "stdout",
     "output_type": "stream",
     "text": [
      "localize peaks using monopolar_triangulation with n_jobs = 72 and chunk_size = 9765\n"
     ]
    },
    {
     "data": {
      "application/vnd.jupyter.widget-view+json": {
       "model_id": "9497550e682c478d99866a4f13ac74d4",
       "version_major": 2,
       "version_minor": 0
      },
      "text/plain": [
       "localize peaks using monopolar_triangulation:   0%|          | 0/33 [00:00<?, ?it/s]"
      ]
     },
     "metadata": {},
     "output_type": "display_data"
    },
    {
     "name": "stdout",
     "output_type": "stream",
     "text": [
      "pipeline with n_jobs = 72 and chunk_size = 9765\n"
     ]
    },
    {
     "data": {
      "application/vnd.jupyter.widget-view+json": {
       "model_id": "5eee9a76ba024133bc3f9cc07e31a05f",
       "version_major": 2,
       "version_minor": 0
      },
      "text/plain": [
       "pipeline:   0%|          | 0/33 [00:00<?, ?it/s]"
      ]
     },
     "metadata": {},
     "output_type": "display_data"
    },
    {
     "name": "stdout",
     "output_type": "stream",
     "text": [
      "localize peaks using grid_convolution with n_jobs = 72 and chunk_size = 9765\n"
     ]
    },
    {
     "data": {
      "application/vnd.jupyter.widget-view+json": {
       "model_id": "22a6aa05cd3147a18f3e1f0f2cb853b5",
       "version_major": 2,
       "version_minor": 0
      },
      "text/plain": [
       "localize peaks using grid_convolution:   0%|          | 0/33 [00:00<?, ?it/s]"
      ]
     },
     "metadata": {},
     "output_type": "display_data"
    }
   ],
   "source": [
    "benchmarks = []\n",
    "waveforms = None\n",
    "for method in ['center_of_mass', 'monopolar_triangulation', 'grid_convolution']:\n",
    "    if method == 'center_of_mass':\n",
    "        for feature in ['ptp', 'energy', 'peak_voltage']:\n",
    "            title = f'CoM ({feature})'\n",
    "            params = {'feature' : feature}\n",
    "            bench = BenchmarkPeakLocalization(recording_f, gt_sorting, positions, job_kwargs=job_kwargs, title=title)\n",
    "            if waveforms is not None:\n",
    "                bench.waveforms = waveforms\n",
    "            bench.run(method, params)\n",
    "            waveforms = bench.waveforms\n",
    "            benchmarks.append(bench)\n",
    "    elif method == 'monopolar_triangulation':\n",
    "        for feature in ['ptp', 'energy', 'peak_voltage']:\n",
    "            title = f'Monopolar ({feature})'\n",
    "            params = {'enforce_decrease': True, 'feature' : feature}\n",
    "            bench = BenchmarkPeakLocalization(recording_f, gt_sorting, positions, job_kwargs=job_kwargs, title=title)\n",
    "            if waveforms is not None:\n",
    "                bench.waveforms = waveforms\n",
    "            bench.run(method, params)\n",
    "            waveforms = bench.waveforms\n",
    "            benchmarks.append(bench)\n",
    "    elif method == 'grid_convolution':\n",
    "        title = 'Grid'\n",
    "        params = {'mode' : '3d'}\n",
    "        bench = BenchmarkPeakLocalization(recording_f, gt_sorting, positions, job_kwargs=job_kwargs, title=title)\n",
    "        if waveforms is not None:\n",
    "            bench.waveforms = waveforms\n",
    "        bench.run(method, params)\n",
    "        waveforms = bench.waveforms\n",
    "        benchmarks.append(bench)\n",
    "    \n",
    "    "
   ]
  },
  {
   "cell_type": "code",
   "execution_count": 6,
   "metadata": {},
   "outputs": [
    {
     "name": "stdout",
     "output_type": "stream",
     "text": [
      "GridSpec(4, 3)\n"
     ]
    },
    {
     "data": {
      "image/png": "[encoded data removed]",
      "text/plain": [
       "<Figure size 1080x720 with 8 Axes>"
      ]
     },
     "metadata": {
      "needs_background": "light"
     },
     "output_type": "display_data"
    }
   ],
   "source": [
    "colors = {}\n",
    "\n",
    "import matplotlib as mpl\n",
    "\n",
    "cmap = mpl.cm.tab20c\n",
    "norm = mpl.colors.Normalize(vmin=0, vmax=1)\n",
    "\n",
    "for value, bench in zip([0,0.05,0.1, 0.4,0.45,0.5, 0.8], benchmarks):    \n",
    "    colors[bench.title] = mpl.cm.ScalarMappable(norm=norm, cmap=cmap).to_rgba(value)\n",
    "    \n",
    "plot_comparison_positions(benchmarks, colors=colors)\n",
    "import pylab as plt\n",
    "plt.savefig('comparison.pdf')"
   ]
  },
  {
   "cell_type": "code",
   "execution_count": 14,
   "metadata": {
    "scrolled": true
   },
   "outputs": [
    {
     "name": "stdout",
     "output_type": "stream",
     "text": [
      "ZScoreRecording: 256 channels - 32.0kHz - 1 segments - 320,000 samples - 10.00s - float32 dtype \n",
      "                 312.50 MiB\n",
      "extract waveforms shared_memory multi buffer with n_jobs = 72 and chunk_size = 9765\n"
     ]
    },
    {
     "data": {
      "application/vnd.jupyter.widget-view+json": {
       "model_id": "eb43c18d88e14f92ba5856044df91d31",
       "version_major": 2,
       "version_minor": 0
      },
      "text/plain": [
       "extract waveforms shared_memory multi buffer:   0%|          | 0/33 [00:00<?, ?it/s]"
      ]
     },
     "metadata": {},
     "output_type": "display_data"
    },
    {
     "name": "stdout",
     "output_type": "stream",
     "text": [
      "extract waveforms shared_memory multi buffer with n_jobs = 72 and chunk_size = 9765\n"
     ]
    },
    {
     "data": {
      "application/vnd.jupyter.widget-view+json": {
       "model_id": "6c2dc2489a3b4069acdde989a473378b",
       "version_major": 2,
       "version_minor": 0
      },
      "text/plain": [
       "extract waveforms shared_memory multi buffer:   0%|          | 0/33 [00:00<?, ?it/s]"
      ]
     },
     "metadata": {},
     "output_type": "display_data"
    },
    {
     "name": "stdout",
     "output_type": "stream",
     "text": [
      "extract waveforms shared_memory multi buffer with n_jobs = 72 and chunk_size = 9765\n"
     ]
    },
    {
     "data": {
      "application/vnd.jupyter.widget-view+json": {
       "model_id": "244a3f566c914589a266a0ea7fbf7a2d",
       "version_major": 2,
       "version_minor": 0
      },
      "text/plain": [
       "extract waveforms shared_memory multi buffer:   0%|          | 0/33 [00:00<?, ?it/s]"
      ]
     },
     "metadata": {},
     "output_type": "display_data"
    },
    {
     "name": "stdout",
     "output_type": "stream",
     "text": [
      "ZScoreRecording: 256 channels - 32.0kHz - 1 segments - 320,000 samples - 10.00s - float32 dtype \n",
      "                 312.50 MiB\n"
     ]
    },
    {
     "name": "stderr",
     "output_type": "stream",
     "text": [
      "/media/cure/Secondary/pierre/softwares/spikeinterface/src/spikeinterface/widgets/widget_list.py:146: UserWarning: plot_timeseries() is now plot_traces()\n",
      "  warnings.warn(\"plot_timeseries() is now plot_traces()\")\n",
      "/media/cure/Secondary/pierre/softwares/spikeinterface/src/spikeinterface/sortingcomponents/benchmark/benchmark_peak_localization.py:557: UserWarning: *c* argument looks like a single numeric RGB or RGBA sequence, which should be avoided as value-mapping will have precedence in case its length matches with *x* & *y*.  Please use the *color* keyword-argument or provide a 2D array with a single row if you intend to specify the same RGB or RGBA value for all points.\n",
      "  axs[0, 2].set_xlim(-50, 50)\n"
     ]
    },
    {
     "data": {
      "image/png": "[encoded data removed]",
      "text/plain": [
       "<Figure size 1080x720 with 6 Axes>"
      ]
     },
     "metadata": {
      "needs_background": "light"
     },
     "output_type": "display_data"
    }
   ],
   "source": [
    "from spikeinterface.sortingcomponents.benchmark.benchmark_peak_localization import BenchmarkPeakLocalization, plot_figure_1\n",
    "plot_figure_1(benchmarks, colors=colors)\n",
    "plt.savefig('illustration.pdf')"
   ]
  },
  {
   "cell_type": "code",
   "execution_count": null,
   "metadata": {},
   "outputs": [],
   "source": [
    "from spikeinterface.sortingcomponents.benchmark.benchmark_peak_localization import plot_comparison_precision"
   ]
  },
  {
   "cell_type": "code",
   "execution_count": 15,
   "metadata": {
    "scrolled": true
   },
   "outputs": [
    {
     "name": "stdout",
     "output_type": "stream",
     "text": [
      "extract waveforms shared_memory multi buffer with n_jobs = 72 and chunk_size = 9765\n"
     ]
    },
    {
     "data": {
      "application/vnd.jupyter.widget-view+json": {
       "model_id": "45927c6b70e448258c5bf5e361ba3840",
       "version_major": 2,
       "version_minor": 0
      },
      "text/plain": [
       "extract waveforms shared_memory multi buffer:   0%|          | 0/33 [00:00<?, ?it/s]"
      ]
     },
     "metadata": {},
     "output_type": "display_data"
    },
    {
     "name": "stdout",
     "output_type": "stream",
     "text": [
      "extract waveforms shared_memory multi buffer with n_jobs = 72 and chunk_size = 9765\n"
     ]
    },
    {
     "data": {
      "application/vnd.jupyter.widget-view+json": {
       "model_id": "9f3feefbebaa4425bc1e2999eae832ba",
       "version_major": 2,
       "version_minor": 0
      },
      "text/plain": [
       "extract waveforms shared_memory multi buffer:   0%|          | 0/33 [00:00<?, ?it/s]"
      ]
     },
     "metadata": {},
     "output_type": "display_data"
    },
    {
     "name": "stdout",
     "output_type": "stream",
     "text": [
      "extract waveforms memmap multi buffer with n_jobs = 72 and chunk_size = 9765\n"
     ]
    },
    {
     "data": {
      "application/vnd.jupyter.widget-view+json": {
       "model_id": "ecef00d8c51f45a689fa88a1a4d8cee6",
       "version_major": 2,
       "version_minor": 0
      },
      "text/plain": [
       "extract waveforms memmap multi buffer:   0%|          | 0/33 [00:00<?, ?it/s]"
      ]
     },
     "metadata": {},
     "output_type": "display_data"
    },
    {
     "name": "stdout",
     "output_type": "stream",
     "text": [
      "localize peaks using monopolar_triangulation with n_jobs = 72 and chunk_size = 9765\n"
     ]
    },
    {
     "data": {
      "application/vnd.jupyter.widget-view+json": {
       "model_id": "b9d7e9736cb7495fbd2e17cdb8f0381e",
       "version_major": 2,
       "version_minor": 0
      },
      "text/plain": [
       "localize peaks using monopolar_triangulation:   0%|          | 0/33 [00:00<?, ?it/s]"
      ]
     },
     "metadata": {},
     "output_type": "display_data"
    },
    {
     "name": "stdout",
     "output_type": "stream",
     "text": [
      "localize peaks using monopolar_triangulation with n_jobs = 72 and chunk_size = 9765\n"
     ]
    },
    {
     "data": {
      "application/vnd.jupyter.widget-view+json": {
       "model_id": "0e480f3644224bebbadf768d44dbe2ce",
       "version_major": 2,
       "version_minor": 0
      },
      "text/plain": [
       "localize peaks using monopolar_triangulation:   0%|          | 0/33 [00:00<?, ?it/s]"
      ]
     },
     "metadata": {},
     "output_type": "display_data"
    },
    {
     "name": "stdout",
     "output_type": "stream",
     "text": [
      "localize peaks using monopolar_triangulation with n_jobs = 72 and chunk_size = 9765\n"
     ]
    },
    {
     "data": {
      "application/vnd.jupyter.widget-view+json": {
       "model_id": "9fd081d8e98646bcba113ccf1e7f9fd6",
       "version_major": 2,
       "version_minor": 0
      },
      "text/plain": [
       "localize peaks using monopolar_triangulation:   0%|          | 0/33 [00:00<?, ?it/s]"
      ]
     },
     "metadata": {},
     "output_type": "display_data"
    },
    {
     "name": "stdout",
     "output_type": "stream",
     "text": [
      "localize peaks using monopolar_triangulation with n_jobs = 72 and chunk_size = 9765\n"
     ]
    },
    {
     "data": {
      "application/vnd.jupyter.widget-view+json": {
       "model_id": "8fa27d8ac2644653a15bedfce35f04be",
       "version_major": 2,
       "version_minor": 0
      },
      "text/plain": [
       "localize peaks using monopolar_triangulation:   0%|          | 0/33 [00:00<?, ?it/s]"
      ]
     },
     "metadata": {},
     "output_type": "display_data"
    },
    {
     "name": "stdout",
     "output_type": "stream",
     "text": [
      "localize peaks using monopolar_triangulation with n_jobs = 72 and chunk_size = 9765\n"
     ]
    },
    {
     "data": {
      "application/vnd.jupyter.widget-view+json": {
       "model_id": "8985d6a0953b49319a1c9e0c9256d9fe",
       "version_major": 2,
       "version_minor": 0
      },
      "text/plain": [
       "localize peaks using monopolar_triangulation:   0%|          | 0/33 [00:00<?, ?it/s]"
      ]
     },
     "metadata": {},
     "output_type": "display_data"
    },
    {
     "name": "stdout",
     "output_type": "stream",
     "text": [
      "localize peaks using monopolar_triangulation with n_jobs = 72 and chunk_size = 9765\n"
     ]
    },
    {
     "data": {
      "application/vnd.jupyter.widget-view+json": {
       "model_id": "7f8cd65d173e4ab1ac8d0ad7170f4baa",
       "version_major": 2,
       "version_minor": 0
      },
      "text/plain": [
       "localize peaks using monopolar_triangulation:   0%|          | 0/33 [00:00<?, ?it/s]"
      ]
     },
     "metadata": {},
     "output_type": "display_data"
    },
    {
     "name": "stdout",
     "output_type": "stream",
     "text": [
      "localize peaks using monopolar_triangulation with n_jobs = 72 and chunk_size = 9765\n"
     ]
    },
    {
     "data": {
      "application/vnd.jupyter.widget-view+json": {
       "model_id": "e6ca8558e164480bb88861177224f106",
       "version_major": 2,
       "version_minor": 0
      },
      "text/plain": [
       "localize peaks using monopolar_triangulation:   0%|          | 0/33 [00:00<?, ?it/s]"
      ]
     },
     "metadata": {},
     "output_type": "display_data"
    },
    {
     "name": "stdout",
     "output_type": "stream",
     "text": [
      "localize peaks using monopolar_triangulation with n_jobs = 72 and chunk_size = 9765\n"
     ]
    },
    {
     "data": {
      "application/vnd.jupyter.widget-view+json": {
       "model_id": "f9c61c3d5822407d8fef74e82356a38d",
       "version_major": 2,
       "version_minor": 0
      },
      "text/plain": [
       "localize peaks using monopolar_triangulation:   0%|          | 0/33 [00:00<?, ?it/s]"
      ]
     },
     "metadata": {},
     "output_type": "display_data"
    },
    {
     "name": "stdout",
     "output_type": "stream",
     "text": [
      "localize peaks using monopolar_triangulation with n_jobs = 72 and chunk_size = 9765\n"
     ]
    },
    {
     "data": {
      "application/vnd.jupyter.widget-view+json": {
       "model_id": "d020ed1977fd49019aab5f13f7c81460",
       "version_major": 2,
       "version_minor": 0
      },
      "text/plain": [
       "localize peaks using monopolar_triangulation:   0%|          | 0/33 [00:00<?, ?it/s]"
      ]
     },
     "metadata": {},
     "output_type": "display_data"
    },
    {
     "name": "stdout",
     "output_type": "stream",
     "text": [
      "localize peaks using monopolar_triangulation with n_jobs = 72 and chunk_size = 9765\n"
     ]
    },
    {
     "data": {
      "application/vnd.jupyter.widget-view+json": {
       "model_id": "64c138e849294ad3994d4523387e54dd",
       "version_major": 2,
       "version_minor": 0
      },
      "text/plain": [
       "localize peaks using monopolar_triangulation:   0%|          | 0/33 [00:00<?, ?it/s]"
      ]
     },
     "metadata": {},
     "output_type": "display_data"
    },
    {
     "name": "stdout",
     "output_type": "stream",
     "text": [
      "localize peaks using monopolar_triangulation with n_jobs = 72 and chunk_size = 9765\n"
     ]
    },
    {
     "data": {
      "application/vnd.jupyter.widget-view+json": {
       "model_id": "5345b668596a4abbbbb4b934d088c62a",
       "version_major": 2,
       "version_minor": 0
      },
      "text/plain": [
       "localize peaks using monopolar_triangulation:   0%|          | 0/33 [00:00<?, ?it/s]"
      ]
     },
     "metadata": {},
     "output_type": "display_data"
    },
    {
     "name": "stdout",
     "output_type": "stream",
     "text": [
      "localize peaks using monopolar_triangulation with n_jobs = 72 and chunk_size = 9765\n"
     ]
    },
    {
     "data": {
      "application/vnd.jupyter.widget-view+json": {
       "model_id": "7490a343398f4d319d55e983c50a5e57",
       "version_major": 2,
       "version_minor": 0
      },
      "text/plain": [
       "localize peaks using monopolar_triangulation:   0%|          | 0/33 [00:00<?, ?it/s]"
      ]
     },
     "metadata": {},
     "output_type": "display_data"
    },
    {
     "name": "stdout",
     "output_type": "stream",
     "text": [
      "localize peaks using monopolar_triangulation with n_jobs = 72 and chunk_size = 9765\n"
     ]
    },
    {
     "data": {
      "application/vnd.jupyter.widget-view+json": {
       "model_id": "fdf36308cb79400ca79d26c15a233806",
       "version_major": 2,
       "version_minor": 0
      },
      "text/plain": [
       "localize peaks using monopolar_triangulation:   0%|          | 0/33 [00:00<?, ?it/s]"
      ]
     },
     "metadata": {},
     "output_type": "display_data"
    },
    {
     "name": "stdout",
     "output_type": "stream",
     "text": [
      "localize peaks using monopolar_triangulation with n_jobs = 72 and chunk_size = 9765\n"
     ]
    },
    {
     "data": {
      "application/vnd.jupyter.widget-view+json": {
       "model_id": "2c8138a1227f42e890f8658c946fef69",
       "version_major": 2,
       "version_minor": 0
      },
      "text/plain": [
       "localize peaks using monopolar_triangulation:   0%|          | 0/33 [00:00<?, ?it/s]"
      ]
     },
     "metadata": {},
     "output_type": "display_data"
    },
    {
     "name": "stdout",
     "output_type": "stream",
     "text": [
      "localize peaks using monopolar_triangulation with n_jobs = 72 and chunk_size = 9765\n"
     ]
    },
    {
     "data": {
      "application/vnd.jupyter.widget-view+json": {
       "model_id": "e61241c700c34b3ba944bec7a879b4ef",
       "version_major": 2,
       "version_minor": 0
      },
      "text/plain": [
       "localize peaks using monopolar_triangulation:   0%|          | 0/33 [00:00<?, ?it/s]"
      ]
     },
     "metadata": {},
     "output_type": "display_data"
    },
    {
     "name": "stdout",
     "output_type": "stream",
     "text": [
      "localize peaks using monopolar_triangulation with n_jobs = 72 and chunk_size = 9765\n"
     ]
    },
    {
     "data": {
      "application/vnd.jupyter.widget-view+json": {
       "model_id": "acbd02a5363e403c84ff6618b2f3ca6a",
       "version_major": 2,
       "version_minor": 0
      },
      "text/plain": [
       "localize peaks using monopolar_triangulation:   0%|          | 0/33 [00:00<?, ?it/s]"
      ]
     },
     "metadata": {},
     "output_type": "display_data"
    },
    {
     "name": "stdout",
     "output_type": "stream",
     "text": [
      "localize peaks using monopolar_triangulation with n_jobs = 72 and chunk_size = 9765\n"
     ]
    },
    {
     "data": {
      "application/vnd.jupyter.widget-view+json": {
       "model_id": "195dc23998414b3eb1e065bf799cda2f",
       "version_major": 2,
       "version_minor": 0
      },
      "text/plain": [
       "localize peaks using monopolar_triangulation:   0%|          | 0/33 [00:00<?, ?it/s]"
      ]
     },
     "metadata": {},
     "output_type": "display_data"
    },
    {
     "name": "stdout",
     "output_type": "stream",
     "text": [
      "localize peaks using monopolar_triangulation with n_jobs = 72 and chunk_size = 9765\n"
     ]
    },
    {
     "data": {
      "application/vnd.jupyter.widget-view+json": {
       "model_id": "723ed16032724ec1bd72796a9442a519",
       "version_major": 2,
       "version_minor": 0
      },
      "text/plain": [
       "localize peaks using monopolar_triangulation:   0%|          | 0/33 [00:00<?, ?it/s]"
      ]
     },
     "metadata": {},
     "output_type": "display_data"
    },
    {
     "name": "stdout",
     "output_type": "stream",
     "text": [
      "localize peaks using center_of_mass with n_jobs = 72 and chunk_size = 9765\n"
     ]
    },
    {
     "data": {
      "application/vnd.jupyter.widget-view+json": {
       "model_id": "36e9e5d6270248539f71a578d760ed9c",
       "version_major": 2,
       "version_minor": 0
      },
      "text/plain": [
       "localize peaks using center_of_mass:   0%|          | 0/33 [00:00<?, ?it/s]"
      ]
     },
     "metadata": {},
     "output_type": "display_data"
    },
    {
     "name": "stdout",
     "output_type": "stream",
     "text": [
      "localize peaks using center_of_mass with n_jobs = 72 and chunk_size = 9765\n"
     ]
    },
    {
     "data": {
      "application/vnd.jupyter.widget-view+json": {
       "model_id": "a215d48a4d9a45be8531eb0482e81864",
       "version_major": 2,
       "version_minor": 0
      },
      "text/plain": [
       "localize peaks using center_of_mass:   0%|          | 0/33 [00:00<?, ?it/s]"
      ]
     },
     "metadata": {},
     "output_type": "display_data"
    },
    {
     "name": "stdout",
     "output_type": "stream",
     "text": [
      "localize peaks using center_of_mass with n_jobs = 72 and chunk_size = 9765\n"
     ]
    },
    {
     "data": {
      "application/vnd.jupyter.widget-view+json": {
       "model_id": "23b86e126fa444d4be56ae2de7952bd8",
       "version_major": 2,
       "version_minor": 0
      },
      "text/plain": [
       "localize peaks using center_of_mass:   0%|          | 0/33 [00:00<?, ?it/s]"
      ]
     },
     "metadata": {},
     "output_type": "display_data"
    },
    {
     "name": "stdout",
     "output_type": "stream",
     "text": [
      "localize peaks using center_of_mass with n_jobs = 72 and chunk_size = 9765\n"
     ]
    },
    {
     "data": {
      "application/vnd.jupyter.widget-view+json": {
       "model_id": "8c51ea5985c34b48adc86e71cf503916",
       "version_major": 2,
       "version_minor": 0
      },
      "text/plain": [
       "localize peaks using center_of_mass:   0%|          | 0/33 [00:00<?, ?it/s]"
      ]
     },
     "metadata": {},
     "output_type": "display_data"
    },
    {
     "name": "stdout",
     "output_type": "stream",
     "text": [
      "localize peaks using center_of_mass with n_jobs = 72 and chunk_size = 9765\n"
     ]
    },
    {
     "data": {
      "application/vnd.jupyter.widget-view+json": {
       "model_id": "be15c9b387d74292b493ea17b6399377",
       "version_major": 2,
       "version_minor": 0
      },
      "text/plain": [
       "localize peaks using center_of_mass:   0%|          | 0/33 [00:00<?, ?it/s]"
      ]
     },
     "metadata": {},
     "output_type": "display_data"
    },
    {
     "name": "stdout",
     "output_type": "stream",
     "text": [
      "localize peaks using center_of_mass with n_jobs = 72 and chunk_size = 9765\n"
     ]
    },
    {
     "data": {
      "application/vnd.jupyter.widget-view+json": {
       "model_id": "239d81478f194e7cbc1b77e51ec25322",
       "version_major": 2,
       "version_minor": 0
      },
      "text/plain": [
       "localize peaks using center_of_mass:   0%|          | 0/33 [00:00<?, ?it/s]"
      ]
     },
     "metadata": {},
     "output_type": "display_data"
    },
    {
     "name": "stdout",
     "output_type": "stream",
     "text": [
      "localize peaks using center_of_mass with n_jobs = 72 and chunk_size = 9765\n"
     ]
    },
    {
     "data": {
      "application/vnd.jupyter.widget-view+json": {
       "model_id": "d025ffe508db41558454ef8cd41deff5",
       "version_major": 2,
       "version_minor": 0
      },
      "text/plain": [
       "localize peaks using center_of_mass:   0%|          | 0/33 [00:00<?, ?it/s]"
      ]
     },
     "metadata": {},
     "output_type": "display_data"
    },
    {
     "name": "stdout",
     "output_type": "stream",
     "text": [
      "localize peaks using center_of_mass with n_jobs = 72 and chunk_size = 9765\n"
     ]
    },
    {
     "data": {
      "application/vnd.jupyter.widget-view+json": {
       "model_id": "3d046d6add9c4062870636cf800a811a",
       "version_major": 2,
       "version_minor": 0
      },
      "text/plain": [
       "localize peaks using center_of_mass:   0%|          | 0/33 [00:00<?, ?it/s]"
      ]
     },
     "metadata": {},
     "output_type": "display_data"
    },
    {
     "name": "stdout",
     "output_type": "stream",
     "text": [
      "localize peaks using center_of_mass with n_jobs = 72 and chunk_size = 9765\n"
     ]
    },
    {
     "data": {
      "application/vnd.jupyter.widget-view+json": {
       "model_id": "c459af77a6f944d899ccf691312c9a2e",
       "version_major": 2,
       "version_minor": 0
      },
      "text/plain": [
       "localize peaks using center_of_mass:   0%|          | 0/33 [00:00<?, ?it/s]"
      ]
     },
     "metadata": {},
     "output_type": "display_data"
    },
    {
     "name": "stdout",
     "output_type": "stream",
     "text": [
      "localize peaks using center_of_mass with n_jobs = 72 and chunk_size = 9765\n"
     ]
    },
    {
     "data": {
      "application/vnd.jupyter.widget-view+json": {
       "model_id": "746658bd83094ee49c297c47a57b3f24",
       "version_major": 2,
       "version_minor": 0
      },
      "text/plain": [
       "localize peaks using center_of_mass:   0%|          | 0/33 [00:00<?, ?it/s]"
      ]
     },
     "metadata": {},
     "output_type": "display_data"
    },
    {
     "name": "stdout",
     "output_type": "stream",
     "text": [
      "localize peaks using center_of_mass with n_jobs = 72 and chunk_size = 9765\n"
     ]
    },
    {
     "data": {
      "application/vnd.jupyter.widget-view+json": {
       "model_id": "9600d41b3cba4b0285225be95db8a646",
       "version_major": 2,
       "version_minor": 0
      },
      "text/plain": [
       "localize peaks using center_of_mass:   0%|          | 0/33 [00:00<?, ?it/s]"
      ]
     },
     "metadata": {},
     "output_type": "display_data"
    },
    {
     "name": "stdout",
     "output_type": "stream",
     "text": [
      "localize peaks using center_of_mass with n_jobs = 72 and chunk_size = 9765\n"
     ]
    },
    {
     "data": {
      "application/vnd.jupyter.widget-view+json": {
       "model_id": "fb38f3f8d8ef4f3cb16f3c6127b2fa2c",
       "version_major": 2,
       "version_minor": 0
      },
      "text/plain": [
       "localize peaks using center_of_mass:   0%|          | 0/33 [00:00<?, ?it/s]"
      ]
     },
     "metadata": {},
     "output_type": "display_data"
    },
    {
     "name": "stdout",
     "output_type": "stream",
     "text": [
      "localize peaks using center_of_mass with n_jobs = 72 and chunk_size = 9765\n"
     ]
    },
    {
     "data": {
      "application/vnd.jupyter.widget-view+json": {
       "model_id": "8149a0501775474084178987927f7125",
       "version_major": 2,
       "version_minor": 0
      },
      "text/plain": [
       "localize peaks using center_of_mass:   0%|          | 0/33 [00:00<?, ?it/s]"
      ]
     },
     "metadata": {},
     "output_type": "display_data"
    },
    {
     "name": "stdout",
     "output_type": "stream",
     "text": [
      "localize peaks using center_of_mass with n_jobs = 72 and chunk_size = 9765\n"
     ]
    },
    {
     "data": {
      "application/vnd.jupyter.widget-view+json": {
       "model_id": "c354e50eb4e44609a5efc0fc70a6973f",
       "version_major": 2,
       "version_minor": 0
      },
      "text/plain": [
       "localize peaks using center_of_mass:   0%|          | 0/33 [00:00<?, ?it/s]"
      ]
     },
     "metadata": {},
     "output_type": "display_data"
    },
    {
     "name": "stdout",
     "output_type": "stream",
     "text": [
      "localize peaks using center_of_mass with n_jobs = 72 and chunk_size = 9765\n"
     ]
    },
    {
     "data": {
      "application/vnd.jupyter.widget-view+json": {
       "model_id": "5978eeeeb3464ac8aba0536a761f2429",
       "version_major": 2,
       "version_minor": 0
      },
      "text/plain": [
       "localize peaks using center_of_mass:   0%|          | 0/33 [00:00<?, ?it/s]"
      ]
     },
     "metadata": {},
     "output_type": "display_data"
    },
    {
     "name": "stdout",
     "output_type": "stream",
     "text": [
      "localize peaks using center_of_mass with n_jobs = 72 and chunk_size = 9765\n"
     ]
    },
    {
     "data": {
      "application/vnd.jupyter.widget-view+json": {
       "model_id": "cd8544ebddbe43a8932dbb9eb1bd1260",
       "version_major": 2,
       "version_minor": 0
      },
      "text/plain": [
       "localize peaks using center_of_mass:   0%|          | 0/33 [00:00<?, ?it/s]"
      ]
     },
     "metadata": {},
     "output_type": "display_data"
    },
    {
     "name": "stdout",
     "output_type": "stream",
     "text": [
      "localize peaks using center_of_mass with n_jobs = 72 and chunk_size = 9765\n"
     ]
    },
    {
     "data": {
      "application/vnd.jupyter.widget-view+json": {
       "model_id": "b75cfe4fdd594c7e9c5baea524e4902a",
       "version_major": 2,
       "version_minor": 0
      },
      "text/plain": [
       "localize peaks using center_of_mass:   0%|          | 0/33 [00:00<?, ?it/s]"
      ]
     },
     "metadata": {},
     "output_type": "display_data"
    },
    {
     "name": "stdout",
     "output_type": "stream",
     "text": [
      "localize peaks using center_of_mass with n_jobs = 72 and chunk_size = 9765\n"
     ]
    },
    {
     "data": {
      "application/vnd.jupyter.widget-view+json": {
       "model_id": "9ae0e78ddca240479554bca2a82d3761",
       "version_major": 2,
       "version_minor": 0
      },
      "text/plain": [
       "localize peaks using center_of_mass:   0%|          | 0/33 [00:00<?, ?it/s]"
      ]
     },
     "metadata": {},
     "output_type": "display_data"
    },
    {
     "name": "stdout",
     "output_type": "stream",
     "text": [
      "pipeline with n_jobs = 72 and chunk_size = 9765\n"
     ]
    },
    {
     "data": {
      "application/vnd.jupyter.widget-view+json": {
       "model_id": "44dd088c32a248e0b2a486a8c308809a",
       "version_major": 2,
       "version_minor": 0
      },
      "text/plain": [
       "pipeline:   0%|          | 0/33 [00:00<?, ?it/s]"
      ]
     },
     "metadata": {},
     "output_type": "display_data"
    },
    {
     "name": "stdout",
     "output_type": "stream",
     "text": [
      "localize peaks using grid_convolution with n_jobs = 72 and chunk_size = 9765\n"
     ]
    },
    {
     "data": {
      "application/vnd.jupyter.widget-view+json": {
       "model_id": "3835ab0355af46bd8d2f1f03d371d93b",
       "version_major": 2,
       "version_minor": 0
      },
      "text/plain": [
       "localize peaks using grid_convolution:   0%|          | 0/33 [00:00<?, ?it/s]"
      ]
     },
     "metadata": {},
     "output_type": "display_data"
    },
    {
     "name": "stdout",
     "output_type": "stream",
     "text": [
      "pipeline with n_jobs = 72 and chunk_size = 9765\n"
     ]
    },
    {
     "data": {
      "application/vnd.jupyter.widget-view+json": {
       "model_id": "9d03b169512045f79eca7706575c4ecb",
       "version_major": 2,
       "version_minor": 0
      },
      "text/plain": [
       "pipeline:   0%|          | 0/33 [00:00<?, ?it/s]"
      ]
     },
     "metadata": {},
     "output_type": "display_data"
    },
    {
     "name": "stdout",
     "output_type": "stream",
     "text": [
      "localize peaks using grid_convolution with n_jobs = 72 and chunk_size = 9765\n"
     ]
    },
    {
     "data": {
      "application/vnd.jupyter.widget-view+json": {
       "model_id": "658bdfea75dc45d2b1743ea4ee6f2a40",
       "version_major": 2,
       "version_minor": 0
      },
      "text/plain": [
       "localize peaks using grid_convolution:   0%|          | 0/33 [00:00<?, ?it/s]"
      ]
     },
     "metadata": {},
     "output_type": "display_data"
    },
    {
     "name": "stdout",
     "output_type": "stream",
     "text": [
      "pipeline with n_jobs = 72 and chunk_size = 9765\n"
     ]
    },
    {
     "data": {
      "application/vnd.jupyter.widget-view+json": {
       "model_id": "0b49f5ae66514a26af29686d05a5cc51",
       "version_major": 2,
       "version_minor": 0
      },
      "text/plain": [
       "pipeline:   0%|          | 0/33 [00:00<?, ?it/s]"
      ]
     },
     "metadata": {},
     "output_type": "display_data"
    },
    {
     "name": "stdout",
     "output_type": "stream",
     "text": [
      "localize peaks using grid_convolution with n_jobs = 72 and chunk_size = 9765\n"
     ]
    },
    {
     "data": {
      "application/vnd.jupyter.widget-view+json": {
       "model_id": "25091da590ed43b5a2dc11537bcf2730",
       "version_major": 2,
       "version_minor": 0
      },
      "text/plain": [
       "localize peaks using grid_convolution:   0%|          | 0/33 [00:00<?, ?it/s]"
      ]
     },
     "metadata": {},
     "output_type": "display_data"
    },
    {
     "name": "stdout",
     "output_type": "stream",
     "text": [
      "pipeline with n_jobs = 72 and chunk_size = 9765\n"
     ]
    },
    {
     "data": {
      "application/vnd.jupyter.widget-view+json": {
       "model_id": "92fe538a8358442ea6f9aba06d6f6ff8",
       "version_major": 2,
       "version_minor": 0
      },
      "text/plain": [
       "pipeline:   0%|          | 0/33 [00:00<?, ?it/s]"
      ]
     },
     "metadata": {},
     "output_type": "display_data"
    },
    {
     "name": "stdout",
     "output_type": "stream",
     "text": [
      "localize peaks using grid_convolution with n_jobs = 72 and chunk_size = 9765\n"
     ]
    },
    {
     "data": {
      "application/vnd.jupyter.widget-view+json": {
       "model_id": "a9ed81421aae4d158a585be071839ab5",
       "version_major": 2,
       "version_minor": 0
      },
      "text/plain": [
       "localize peaks using grid_convolution:   0%|          | 0/33 [00:00<?, ?it/s]"
      ]
     },
     "metadata": {},
     "output_type": "display_data"
    },
    {
     "name": "stdout",
     "output_type": "stream",
     "text": [
      "pipeline with n_jobs = 72 and chunk_size = 9765\n"
     ]
    },
    {
     "data": {
      "application/vnd.jupyter.widget-view+json": {
       "model_id": "e3e6890982b045168a57977437ed180d",
       "version_major": 2,
       "version_minor": 0
      },
      "text/plain": [
       "pipeline:   0%|          | 0/33 [00:00<?, ?it/s]"
      ]
     },
     "metadata": {},
     "output_type": "display_data"
    },
    {
     "name": "stdout",
     "output_type": "stream",
     "text": [
      "localize peaks using grid_convolution with n_jobs = 72 and chunk_size = 9765\n"
     ]
    },
    {
     "data": {
      "application/vnd.jupyter.widget-view+json": {
       "model_id": "652903ea860e493ba3095820dca859d7",
       "version_major": 2,
       "version_minor": 0
      },
      "text/plain": [
       "localize peaks using grid_convolution:   0%|          | 0/33 [00:00<?, ?it/s]"
      ]
     },
     "metadata": {},
     "output_type": "display_data"
    },
    {
     "name": "stdout",
     "output_type": "stream",
     "text": [
      "pipeline with n_jobs = 72 and chunk_size = 9765\n"
     ]
    },
    {
     "data": {
      "application/vnd.jupyter.widget-view+json": {
       "model_id": "7f122b90d0ce40a78e9467c1b59ebdd8",
       "version_major": 2,
       "version_minor": 0
      },
      "text/plain": [
       "pipeline:   0%|          | 0/33 [00:00<?, ?it/s]"
      ]
     },
     "metadata": {},
     "output_type": "display_data"
    },
    {
     "name": "stdout",
     "output_type": "stream",
     "text": [
      "localize peaks using grid_convolution with n_jobs = 72 and chunk_size = 9765\n"
     ]
    },
    {
     "data": {
      "application/vnd.jupyter.widget-view+json": {
       "model_id": "71b3bb3935cf4ebcaa63a22dfc1b58fc",
       "version_major": 2,
       "version_minor": 0
      },
      "text/plain": [
       "localize peaks using grid_convolution:   0%|          | 0/33 [00:00<?, ?it/s]"
      ]
     },
     "metadata": {},
     "output_type": "display_data"
    }
   ],
   "source": [
    "benchmarks_ms = {}\n",
    "waveforms = None\n",
    "xaxis = [0.25, 0.5, 0.75, 1, 1.25, 1.5]\n",
    "benchmarks_ms['xaxis'] = xaxis\n",
    "\n",
    "for method in ['monopolar_triangulation', 'center_of_mass', 'grid_convolution']:\n",
    "    for t_range in xaxis:\n",
    "        if method == 'monopolar_triangulation':\n",
    "            for feature in ['ptp', 'energy', 'peak_voltage']:\n",
    "                title = f'Monopolar ({feature})'\n",
    "                params = {'enforce_decrease': True, 'ms_before' : t_range, 'ms_after' : t_range, 'feature' : feature}\n",
    "                bench = BenchmarkPeakLocalization(recording_f, gt_sorting, positions, job_kwargs=job_kwargs, title=title)\n",
    "                if waveforms is not None:\n",
    "                    bench.waveforms = waveforms    \n",
    "                bench.run(method, params)\n",
    "                waveforms = bench.waveforms\n",
    "                if title in benchmarks_ms:\n",
    "                    benchmarks_ms[title] += [bench]\n",
    "                else:\n",
    "                    benchmarks_ms[title] = [bench]\n",
    "        elif method == 'center_of_mass':\n",
    "            for feature in ['ptp', 'energy', 'peak_voltage']:\n",
    "                params = {'ms_before' : t_range, 'ms_after' : t_range, 'feature' : feature}\n",
    "                title = f'CoM ({feature})'\n",
    "                bench = BenchmarkPeakLocalization(recording_f, gt_sorting, positions, job_kwargs=job_kwargs, title=title)\n",
    "                if waveforms is not None:\n",
    "                    bench.waveforms = waveforms    \n",
    "                bench.run(method, params)\n",
    "                waveforms = bench.waveforms\n",
    "                if title in benchmarks_ms:\n",
    "                    benchmarks_ms[title] += [bench]\n",
    "                else:\n",
    "                    benchmarks_ms[title] = [bench]\n",
    "        elif method == 'grid_convolution':\n",
    "            params = {'ms_before' : t_range, 'ms_after' : t_range, 'mode' : '3d'}\n",
    "            title = f'Grid'\n",
    "            bench = BenchmarkPeakLocalization(recording_f, gt_sorting, positions, job_kwargs=job_kwargs, title=title)\n",
    "            if waveforms is not None:\n",
    "                bench.waveforms = waveforms    \n",
    "            bench.run(method, params)\n",
    "            waveforms = bench.waveforms\n",
    "            if title in benchmarks_ms:\n",
    "                benchmarks_ms[title] += [bench]\n",
    "            else:\n",
    "                benchmarks_ms[title] = [bench]\n",
    "\n"
   ]
  },
  {
   "cell_type": "code",
   "execution_count": 17,
   "metadata": {},
   "outputs": [
    {
     "name": "stdout",
     "output_type": "stream",
     "text": [
      "extract waveforms shared_memory multi buffer with n_jobs = 72 and chunk_size = 9765\n"
     ]
    },
    {
     "data": {
      "application/vnd.jupyter.widget-view+json": {
       "model_id": "2ab34a14533b4ff79e29b028c8919d21",
       "version_major": 2,
       "version_minor": 0
      },
      "text/plain": [
       "extract waveforms shared_memory multi buffer:   0%|          | 0/33 [00:00<?, ?it/s]"
      ]
     },
     "metadata": {},
     "output_type": "display_data"
    },
    {
     "name": "stdout",
     "output_type": "stream",
     "text": [
      "extract waveforms shared_memory multi buffer with n_jobs = 72 and chunk_size = 9765\n"
     ]
    },
    {
     "data": {
      "application/vnd.jupyter.widget-view+json": {
       "model_id": "2467027c420f4e08bed56b56877e54a8",
       "version_major": 2,
       "version_minor": 0
      },
      "text/plain": [
       "extract waveforms shared_memory multi buffer:   0%|          | 0/33 [00:00<?, ?it/s]"
      ]
     },
     "metadata": {},
     "output_type": "display_data"
    },
    {
     "name": "stdout",
     "output_type": "stream",
     "text": [
      "extract waveforms memmap multi buffer with n_jobs = 72 and chunk_size = 9765\n"
     ]
    },
    {
     "data": {
      "application/vnd.jupyter.widget-view+json": {
       "model_id": "4847f917e6934ed99746bde5cdddc8d6",
       "version_major": 2,
       "version_minor": 0
      },
      "text/plain": [
       "extract waveforms memmap multi buffer:   0%|          | 0/33 [00:00<?, ?it/s]"
      ]
     },
     "metadata": {},
     "output_type": "display_data"
    },
    {
     "name": "stdout",
     "output_type": "stream",
     "text": [
      "localize peaks using monopolar_triangulation with n_jobs = 72 and chunk_size = 9765\n"
     ]
    },
    {
     "data": {
      "application/vnd.jupyter.widget-view+json": {
       "model_id": "ce9c0f6acf194cc09f39b639418ccdac",
       "version_major": 2,
       "version_minor": 0
      },
      "text/plain": [
       "localize peaks using monopolar_triangulation:   0%|          | 0/33 [00:00<?, ?it/s]"
      ]
     },
     "metadata": {},
     "output_type": "display_data"
    },
    {
     "name": "stdout",
     "output_type": "stream",
     "text": [
      "localize peaks using monopolar_triangulation with n_jobs = 72 and chunk_size = 9765\n"
     ]
    },
    {
     "data": {
      "application/vnd.jupyter.widget-view+json": {
       "model_id": "53156ba46fb14a57aabf30ce564b014f",
       "version_major": 2,
       "version_minor": 0
      },
      "text/plain": [
       "localize peaks using monopolar_triangulation:   0%|          | 0/33 [00:00<?, ?it/s]"
      ]
     },
     "metadata": {},
     "output_type": "display_data"
    },
    {
     "name": "stdout",
     "output_type": "stream",
     "text": [
      "localize peaks using monopolar_triangulation with n_jobs = 72 and chunk_size = 9765\n"
     ]
    },
    {
     "data": {
      "application/vnd.jupyter.widget-view+json": {
       "model_id": "4678fa1deb474a658b66982038c2cf23",
       "version_major": 2,
       "version_minor": 0
      },
      "text/plain": [
       "localize peaks using monopolar_triangulation:   0%|          | 0/33 [00:00<?, ?it/s]"
      ]
     },
     "metadata": {},
     "output_type": "display_data"
    },
    {
     "name": "stdout",
     "output_type": "stream",
     "text": [
      "localize peaks using monopolar_triangulation with n_jobs = 72 and chunk_size = 9765\n"
     ]
    },
    {
     "data": {
      "application/vnd.jupyter.widget-view+json": {
       "model_id": "00f586ee07274e7288ae52a52de09c6e",
       "version_major": 2,
       "version_minor": 0
      },
      "text/plain": [
       "localize peaks using monopolar_triangulation:   0%|          | 0/33 [00:00<?, ?it/s]"
      ]
     },
     "metadata": {},
     "output_type": "display_data"
    },
    {
     "name": "stdout",
     "output_type": "stream",
     "text": [
      "localize peaks using monopolar_triangulation with n_jobs = 72 and chunk_size = 9765\n"
     ]
    },
    {
     "data": {
      "application/vnd.jupyter.widget-view+json": {
       "model_id": "4962be37edcf45e0a772e910bf56bb69",
       "version_major": 2,
       "version_minor": 0
      },
      "text/plain": [
       "localize peaks using monopolar_triangulation:   0%|          | 0/33 [00:00<?, ?it/s]"
      ]
     },
     "metadata": {},
     "output_type": "display_data"
    },
    {
     "name": "stdout",
     "output_type": "stream",
     "text": [
      "localize peaks using monopolar_triangulation with n_jobs = 72 and chunk_size = 9765\n"
     ]
    },
    {
     "data": {
      "application/vnd.jupyter.widget-view+json": {
       "model_id": "1386441ea0e54f8e89e2e8871124545b",
       "version_major": 2,
       "version_minor": 0
      },
      "text/plain": [
       "localize peaks using monopolar_triangulation:   0%|          | 0/33 [00:00<?, ?it/s]"
      ]
     },
     "metadata": {},
     "output_type": "display_data"
    },
    {
     "name": "stdout",
     "output_type": "stream",
     "text": [
      "localize peaks using monopolar_triangulation with n_jobs = 72 and chunk_size = 9765\n"
     ]
    },
    {
     "data": {
      "application/vnd.jupyter.widget-view+json": {
       "model_id": "a97daae46f994ae3983d7510be064eea",
       "version_major": 2,
       "version_minor": 0
      },
      "text/plain": [
       "localize peaks using monopolar_triangulation:   0%|          | 0/33 [00:00<?, ?it/s]"
      ]
     },
     "metadata": {},
     "output_type": "display_data"
    },
    {
     "name": "stdout",
     "output_type": "stream",
     "text": [
      "localize peaks using monopolar_triangulation with n_jobs = 72 and chunk_size = 9765\n"
     ]
    },
    {
     "data": {
      "application/vnd.jupyter.widget-view+json": {
       "model_id": "3af833e9a6cf428ba10d0e4146ffb414",
       "version_major": 2,
       "version_minor": 0
      },
      "text/plain": [
       "localize peaks using monopolar_triangulation:   0%|          | 0/33 [00:00<?, ?it/s]"
      ]
     },
     "metadata": {},
     "output_type": "display_data"
    },
    {
     "name": "stdout",
     "output_type": "stream",
     "text": [
      "localize peaks using monopolar_triangulation with n_jobs = 72 and chunk_size = 9765\n"
     ]
    },
    {
     "data": {
      "application/vnd.jupyter.widget-view+json": {
       "model_id": "cfa70e7494784e04b57adce2918e1282",
       "version_major": 2,
       "version_minor": 0
      },
      "text/plain": [
       "localize peaks using monopolar_triangulation:   0%|          | 0/33 [00:00<?, ?it/s]"
      ]
     },
     "metadata": {},
     "output_type": "display_data"
    },
    {
     "name": "stdout",
     "output_type": "stream",
     "text": [
      "localize peaks using monopolar_triangulation with n_jobs = 72 and chunk_size = 9765\n"
     ]
    },
    {
     "data": {
      "application/vnd.jupyter.widget-view+json": {
       "model_id": "5812abeb9b1a4815b8211b2f94c1e423",
       "version_major": 2,
       "version_minor": 0
      },
      "text/plain": [
       "localize peaks using monopolar_triangulation:   0%|          | 0/33 [00:00<?, ?it/s]"
      ]
     },
     "metadata": {},
     "output_type": "display_data"
    },
    {
     "name": "stdout",
     "output_type": "stream",
     "text": [
      "localize peaks using monopolar_triangulation with n_jobs = 72 and chunk_size = 9765\n"
     ]
    },
    {
     "data": {
      "application/vnd.jupyter.widget-view+json": {
       "model_id": "a63cdb8657214e36958e8de7f433981f",
       "version_major": 2,
       "version_minor": 0
      },
      "text/plain": [
       "localize peaks using monopolar_triangulation:   0%|          | 0/33 [00:00<?, ?it/s]"
      ]
     },
     "metadata": {},
     "output_type": "display_data"
    },
    {
     "name": "stdout",
     "output_type": "stream",
     "text": [
      "localize peaks using monopolar_triangulation with n_jobs = 72 and chunk_size = 9765\n"
     ]
    },
    {
     "data": {
      "application/vnd.jupyter.widget-view+json": {
       "model_id": "842b8664fe8e4be595819b132342dca7",
       "version_major": 2,
       "version_minor": 0
      },
      "text/plain": [
       "localize peaks using monopolar_triangulation:   0%|          | 0/33 [00:00<?, ?it/s]"
      ]
     },
     "metadata": {},
     "output_type": "display_data"
    },
    {
     "name": "stdout",
     "output_type": "stream",
     "text": [
      "localize peaks using monopolar_triangulation with n_jobs = 72 and chunk_size = 9765\n"
     ]
    },
    {
     "data": {
      "application/vnd.jupyter.widget-view+json": {
       "model_id": "43a94621672c4455a094d83a36803e73",
       "version_major": 2,
       "version_minor": 0
      },
      "text/plain": [
       "localize peaks using monopolar_triangulation:   0%|          | 0/33 [00:00<?, ?it/s]"
      ]
     },
     "metadata": {},
     "output_type": "display_data"
    },
    {
     "name": "stdout",
     "output_type": "stream",
     "text": [
      "localize peaks using monopolar_triangulation with n_jobs = 72 and chunk_size = 9765\n"
     ]
    },
    {
     "data": {
      "application/vnd.jupyter.widget-view+json": {
       "model_id": "9f2139015cdb4dc1ba460994c1000998",
       "version_major": 2,
       "version_minor": 0
      },
      "text/plain": [
       "localize peaks using monopolar_triangulation:   0%|          | 0/33 [00:00<?, ?it/s]"
      ]
     },
     "metadata": {},
     "output_type": "display_data"
    },
    {
     "name": "stdout",
     "output_type": "stream",
     "text": [
      "localize peaks using monopolar_triangulation with n_jobs = 72 and chunk_size = 9765\n"
     ]
    },
    {
     "data": {
      "application/vnd.jupyter.widget-view+json": {
       "model_id": "023806e0829240e68018a02d69a3b348",
       "version_major": 2,
       "version_minor": 0
      },
      "text/plain": [
       "localize peaks using monopolar_triangulation:   0%|          | 0/33 [00:00<?, ?it/s]"
      ]
     },
     "metadata": {},
     "output_type": "display_data"
    },
    {
     "name": "stdout",
     "output_type": "stream",
     "text": [
      "localize peaks using monopolar_triangulation with n_jobs = 72 and chunk_size = 9765\n"
     ]
    },
    {
     "data": {
      "application/vnd.jupyter.widget-view+json": {
       "model_id": "7d1c72ade93f495ea121274e8ef3e92d",
       "version_major": 2,
       "version_minor": 0
      },
      "text/plain": [
       "localize peaks using monopolar_triangulation:   0%|          | 0/33 [00:00<?, ?it/s]"
      ]
     },
     "metadata": {},
     "output_type": "display_data"
    },
    {
     "name": "stdout",
     "output_type": "stream",
     "text": [
      "localize peaks using monopolar_triangulation with n_jobs = 72 and chunk_size = 9765\n"
     ]
    },
    {
     "data": {
      "application/vnd.jupyter.widget-view+json": {
       "model_id": "3975048bb91240f09da5d5023a40309f",
       "version_major": 2,
       "version_minor": 0
      },
      "text/plain": [
       "localize peaks using monopolar_triangulation:   0%|          | 0/33 [00:00<?, ?it/s]"
      ]
     },
     "metadata": {},
     "output_type": "display_data"
    },
    {
     "name": "stdout",
     "output_type": "stream",
     "text": [
      "localize peaks using monopolar_triangulation with n_jobs = 72 and chunk_size = 9765\n"
     ]
    },
    {
     "data": {
      "application/vnd.jupyter.widget-view+json": {
       "model_id": "94ae82f0e06547729c3fc8fa4c0ac48d",
       "version_major": 2,
       "version_minor": 0
      },
      "text/plain": [
       "localize peaks using monopolar_triangulation:   0%|          | 0/33 [00:00<?, ?it/s]"
      ]
     },
     "metadata": {},
     "output_type": "display_data"
    },
    {
     "name": "stdout",
     "output_type": "stream",
     "text": [
      "localize peaks using center_of_mass with n_jobs = 72 and chunk_size = 9765\n"
     ]
    },
    {
     "data": {
      "application/vnd.jupyter.widget-view+json": {
       "model_id": "4b3f615d6a99498d8b5b8179bf12c4ae",
       "version_major": 2,
       "version_minor": 0
      },
      "text/plain": [
       "localize peaks using center_of_mass:   0%|          | 0/33 [00:00<?, ?it/s]"
      ]
     },
     "metadata": {},
     "output_type": "display_data"
    },
    {
     "name": "stdout",
     "output_type": "stream",
     "text": [
      "localize peaks using center_of_mass with n_jobs = 72 and chunk_size = 9765\n"
     ]
    },
    {
     "data": {
      "application/vnd.jupyter.widget-view+json": {
       "model_id": "86995850407d481aa8eb98ef95af53bd",
       "version_major": 2,
       "version_minor": 0
      },
      "text/plain": [
       "localize peaks using center_of_mass:   0%|          | 0/33 [00:00<?, ?it/s]"
      ]
     },
     "metadata": {},
     "output_type": "display_data"
    },
    {
     "name": "stdout",
     "output_type": "stream",
     "text": [
      "localize peaks using center_of_mass with n_jobs = 72 and chunk_size = 9765\n"
     ]
    },
    {
     "data": {
      "application/vnd.jupyter.widget-view+json": {
       "model_id": "7df9c41887554858a3d7dadaf4734f79",
       "version_major": 2,
       "version_minor": 0
      },
      "text/plain": [
       "localize peaks using center_of_mass:   0%|          | 0/33 [00:00<?, ?it/s]"
      ]
     },
     "metadata": {},
     "output_type": "display_data"
    },
    {
     "name": "stdout",
     "output_type": "stream",
     "text": [
      "localize peaks using center_of_mass with n_jobs = 72 and chunk_size = 9765\n"
     ]
    },
    {
     "data": {
      "application/vnd.jupyter.widget-view+json": {
       "model_id": "6b13dbcc161d40158e1e5c6fba483c6a",
       "version_major": 2,
       "version_minor": 0
      },
      "text/plain": [
       "localize peaks using center_of_mass:   0%|          | 0/33 [00:00<?, ?it/s]"
      ]
     },
     "metadata": {},
     "output_type": "display_data"
    },
    {
     "name": "stdout",
     "output_type": "stream",
     "text": [
      "localize peaks using center_of_mass with n_jobs = 72 and chunk_size = 9765\n"
     ]
    },
    {
     "data": {
      "application/vnd.jupyter.widget-view+json": {
       "model_id": "b4628a81145a4cf2a6c07fc0bb08f018",
       "version_major": 2,
       "version_minor": 0
      },
      "text/plain": [
       "localize peaks using center_of_mass:   0%|          | 0/33 [00:00<?, ?it/s]"
      ]
     },
     "metadata": {},
     "output_type": "display_data"
    },
    {
     "name": "stdout",
     "output_type": "stream",
     "text": [
      "localize peaks using center_of_mass with n_jobs = 72 and chunk_size = 9765\n"
     ]
    },
    {
     "data": {
      "application/vnd.jupyter.widget-view+json": {
       "model_id": "8e82bb7e159c47b2aaa7c3d1ab83f072",
       "version_major": 2,
       "version_minor": 0
      },
      "text/plain": [
       "localize peaks using center_of_mass:   0%|          | 0/33 [00:00<?, ?it/s]"
      ]
     },
     "metadata": {},
     "output_type": "display_data"
    },
    {
     "name": "stdout",
     "output_type": "stream",
     "text": [
      "localize peaks using center_of_mass with n_jobs = 72 and chunk_size = 9765\n"
     ]
    },
    {
     "data": {
      "application/vnd.jupyter.widget-view+json": {
       "model_id": "6f5bd4f955c04a5cab781ca5cd48eee5",
       "version_major": 2,
       "version_minor": 0
      },
      "text/plain": [
       "localize peaks using center_of_mass:   0%|          | 0/33 [00:00<?, ?it/s]"
      ]
     },
     "metadata": {},
     "output_type": "display_data"
    },
    {
     "name": "stdout",
     "output_type": "stream",
     "text": [
      "localize peaks using center_of_mass with n_jobs = 72 and chunk_size = 9765\n"
     ]
    },
    {
     "data": {
      "application/vnd.jupyter.widget-view+json": {
       "model_id": "b758567300cd4e3481a4248cafab8c52",
       "version_major": 2,
       "version_minor": 0
      },
      "text/plain": [
       "localize peaks using center_of_mass:   0%|          | 0/33 [00:00<?, ?it/s]"
      ]
     },
     "metadata": {},
     "output_type": "display_data"
    },
    {
     "name": "stdout",
     "output_type": "stream",
     "text": [
      "localize peaks using center_of_mass with n_jobs = 72 and chunk_size = 9765\n"
     ]
    },
    {
     "data": {
      "application/vnd.jupyter.widget-view+json": {
       "model_id": "c5c1ca56805747d5a453d080f91cf0d4",
       "version_major": 2,
       "version_minor": 0
      },
      "text/plain": [
       "localize peaks using center_of_mass:   0%|          | 0/33 [00:00<?, ?it/s]"
      ]
     },
     "metadata": {},
     "output_type": "display_data"
    },
    {
     "name": "stdout",
     "output_type": "stream",
     "text": [
      "localize peaks using center_of_mass with n_jobs = 72 and chunk_size = 9765\n"
     ]
    },
    {
     "data": {
      "application/vnd.jupyter.widget-view+json": {
       "model_id": "c89dc1cfba9241c8899ece25921dc2f6",
       "version_major": 2,
       "version_minor": 0
      },
      "text/plain": [
       "localize peaks using center_of_mass:   0%|          | 0/33 [00:00<?, ?it/s]"
      ]
     },
     "metadata": {},
     "output_type": "display_data"
    },
    {
     "name": "stdout",
     "output_type": "stream",
     "text": [
      "localize peaks using center_of_mass with n_jobs = 72 and chunk_size = 9765\n"
     ]
    },
    {
     "data": {
      "application/vnd.jupyter.widget-view+json": {
       "model_id": "572eec352c5344bd891296d14de8a9a5",
       "version_major": 2,
       "version_minor": 0
      },
      "text/plain": [
       "localize peaks using center_of_mass:   0%|          | 0/33 [00:00<?, ?it/s]"
      ]
     },
     "metadata": {},
     "output_type": "display_data"
    },
    {
     "name": "stdout",
     "output_type": "stream",
     "text": [
      "localize peaks using center_of_mass with n_jobs = 72 and chunk_size = 9765\n"
     ]
    },
    {
     "data": {
      "application/vnd.jupyter.widget-view+json": {
       "model_id": "0b41b9833abd4c7687e5e5929144d3ee",
       "version_major": 2,
       "version_minor": 0
      },
      "text/plain": [
       "localize peaks using center_of_mass:   0%|          | 0/33 [00:00<?, ?it/s]"
      ]
     },
     "metadata": {},
     "output_type": "display_data"
    },
    {
     "name": "stdout",
     "output_type": "stream",
     "text": [
      "localize peaks using center_of_mass with n_jobs = 72 and chunk_size = 9765\n"
     ]
    },
    {
     "data": {
      "application/vnd.jupyter.widget-view+json": {
       "model_id": "3e0c444c4238453e993b4f961ea52219",
       "version_major": 2,
       "version_minor": 0
      },
      "text/plain": [
       "localize peaks using center_of_mass:   0%|          | 0/33 [00:00<?, ?it/s]"
      ]
     },
     "metadata": {},
     "output_type": "display_data"
    },
    {
     "name": "stdout",
     "output_type": "stream",
     "text": [
      "localize peaks using center_of_mass with n_jobs = 72 and chunk_size = 9765\n"
     ]
    },
    {
     "data": {
      "application/vnd.jupyter.widget-view+json": {
       "model_id": "78ea102970294e918c57e8399da06bd1",
       "version_major": 2,
       "version_minor": 0
      },
      "text/plain": [
       "localize peaks using center_of_mass:   0%|          | 0/33 [00:00<?, ?it/s]"
      ]
     },
     "metadata": {},
     "output_type": "display_data"
    },
    {
     "name": "stdout",
     "output_type": "stream",
     "text": [
      "localize peaks using center_of_mass with n_jobs = 72 and chunk_size = 9765\n"
     ]
    },
    {
     "data": {
      "application/vnd.jupyter.widget-view+json": {
       "model_id": "45aa791ae02c4426b368c0b28aa76dc7",
       "version_major": 2,
       "version_minor": 0
      },
      "text/plain": [
       "localize peaks using center_of_mass:   0%|          | 0/33 [00:00<?, ?it/s]"
      ]
     },
     "metadata": {},
     "output_type": "display_data"
    },
    {
     "name": "stdout",
     "output_type": "stream",
     "text": [
      "localize peaks using center_of_mass with n_jobs = 72 and chunk_size = 9765\n"
     ]
    },
    {
     "data": {
      "application/vnd.jupyter.widget-view+json": {
       "model_id": "e2b6fdbf423f4994ace960a62c86bf3a",
       "version_major": 2,
       "version_minor": 0
      },
      "text/plain": [
       "localize peaks using center_of_mass:   0%|          | 0/33 [00:00<?, ?it/s]"
      ]
     },
     "metadata": {},
     "output_type": "display_data"
    },
    {
     "name": "stdout",
     "output_type": "stream",
     "text": [
      "localize peaks using center_of_mass with n_jobs = 72 and chunk_size = 9765\n"
     ]
    },
    {
     "data": {
      "application/vnd.jupyter.widget-view+json": {
       "model_id": "42f9d0efa8d841afa959fa898185b5f9",
       "version_major": 2,
       "version_minor": 0
      },
      "text/plain": [
       "localize peaks using center_of_mass:   0%|          | 0/33 [00:00<?, ?it/s]"
      ]
     },
     "metadata": {},
     "output_type": "display_data"
    },
    {
     "name": "stdout",
     "output_type": "stream",
     "text": [
      "localize peaks using center_of_mass with n_jobs = 72 and chunk_size = 9765\n"
     ]
    },
    {
     "data": {
      "application/vnd.jupyter.widget-view+json": {
       "model_id": "980cb5b676ce422aae7924ee1471c345",
       "version_major": 2,
       "version_minor": 0
      },
      "text/plain": [
       "localize peaks using center_of_mass:   0%|          | 0/33 [00:00<?, ?it/s]"
      ]
     },
     "metadata": {},
     "output_type": "display_data"
    },
    {
     "name": "stdout",
     "output_type": "stream",
     "text": [
      "pipeline with n_jobs = 72 and chunk_size = 9765\n"
     ]
    },
    {
     "data": {
      "application/vnd.jupyter.widget-view+json": {
       "model_id": "57106a044be24d5698a5d17dc642ece2",
       "version_major": 2,
       "version_minor": 0
      },
      "text/plain": [
       "pipeline:   0%|          | 0/33 [00:00<?, ?it/s]"
      ]
     },
     "metadata": {},
     "output_type": "display_data"
    },
    {
     "name": "stdout",
     "output_type": "stream",
     "text": [
      "localize peaks using grid_convolution with n_jobs = 72 and chunk_size = 9765\n"
     ]
    },
    {
     "data": {
      "application/vnd.jupyter.widget-view+json": {
       "model_id": "b1efbcaacef04439b74253e28325e039",
       "version_major": 2,
       "version_minor": 0
      },
      "text/plain": [
       "localize peaks using grid_convolution:   0%|          | 0/33 [00:00<?, ?it/s]"
      ]
     },
     "metadata": {},
     "output_type": "display_data"
    },
    {
     "name": "stdout",
     "output_type": "stream",
     "text": [
      "pipeline with n_jobs = 72 and chunk_size = 9765\n"
     ]
    },
    {
     "data": {
      "application/vnd.jupyter.widget-view+json": {
       "model_id": "67553ce2a930461681fb739397118c24",
       "version_major": 2,
       "version_minor": 0
      },
      "text/plain": [
       "pipeline:   0%|          | 0/33 [00:00<?, ?it/s]"
      ]
     },
     "metadata": {},
     "output_type": "display_data"
    },
    {
     "name": "stdout",
     "output_type": "stream",
     "text": [
      "localize peaks using grid_convolution with n_jobs = 72 and chunk_size = 9765\n"
     ]
    },
    {
     "data": {
      "application/vnd.jupyter.widget-view+json": {
       "model_id": "ab494547cc084359a7b9c5c4887ffa3f",
       "version_major": 2,
       "version_minor": 0
      },
      "text/plain": [
       "localize peaks using grid_convolution:   0%|          | 0/33 [00:00<?, ?it/s]"
      ]
     },
     "metadata": {},
     "output_type": "display_data"
    },
    {
     "name": "stdout",
     "output_type": "stream",
     "text": [
      "pipeline with n_jobs = 72 and chunk_size = 9765\n"
     ]
    },
    {
     "data": {
      "application/vnd.jupyter.widget-view+json": {
       "model_id": "4d941acb745343b8ade55beb06afd760",
       "version_major": 2,
       "version_minor": 0
      },
      "text/plain": [
       "pipeline:   0%|          | 0/33 [00:00<?, ?it/s]"
      ]
     },
     "metadata": {},
     "output_type": "display_data"
    },
    {
     "name": "stdout",
     "output_type": "stream",
     "text": [
      "localize peaks using grid_convolution with n_jobs = 72 and chunk_size = 9765\n"
     ]
    },
    {
     "data": {
      "application/vnd.jupyter.widget-view+json": {
       "model_id": "db44cc35ce0d421e9e5893843b87cf62",
       "version_major": 2,
       "version_minor": 0
      },
      "text/plain": [
       "localize peaks using grid_convolution:   0%|          | 0/33 [00:00<?, ?it/s]"
      ]
     },
     "metadata": {},
     "output_type": "display_data"
    },
    {
     "name": "stderr",
     "output_type": "stream",
     "text": [
      "/media/cure/Secondary/pierre/softwares/spikeinterface/src/spikeinterface/sortingcomponents/benchmark/benchmark_peak_localization.py:83: RuntimeWarning: All-NaN slice encountered\n",
      "  self.medians_over_templates = np.array([np.nanmedian(self.raw_templates_results[unit_id]) for unit_id in  self.waveforms.sorting.unit_ids])\n",
      "/media/cure/Secondary/pierre/softwares/spikeinterface/src/spikeinterface/sortingcomponents/benchmark/benchmark_peak_localization.py:84: RuntimeWarning: All-NaN slice encountered\n",
      "  self.mads_over_templates = np.array([np.nanmedian(np.abs(self.raw_templates_results[unit_id] - np.nanmedian(self.raw_templates_results[unit_id]))) for unit_id in  self.waveforms.sorting.unit_ids])\n"
     ]
    },
    {
     "name": "stdout",
     "output_type": "stream",
     "text": [
      "pipeline with n_jobs = 72 and chunk_size = 9765\n"
     ]
    },
    {
     "data": {
      "application/vnd.jupyter.widget-view+json": {
       "model_id": "6365a655fd4349dab9b00cb96bd3279c",
       "version_major": 2,
       "version_minor": 0
      },
      "text/plain": [
       "pipeline:   0%|          | 0/33 [00:00<?, ?it/s]"
      ]
     },
     "metadata": {},
     "output_type": "display_data"
    },
    {
     "name": "stdout",
     "output_type": "stream",
     "text": [
      "localize peaks using grid_convolution with n_jobs = 72 and chunk_size = 9765\n"
     ]
    },
    {
     "data": {
      "application/vnd.jupyter.widget-view+json": {
       "model_id": "a80edcbe77c64b9abf5e58eec47aebad",
       "version_major": 2,
       "version_minor": 0
      },
      "text/plain": [
       "localize peaks using grid_convolution:   0%|          | 0/33 [00:00<?, ?it/s]"
      ]
     },
     "metadata": {},
     "output_type": "display_data"
    },
    {
     "name": "stderr",
     "output_type": "stream",
     "text": [
      "/media/cure/Secondary/pierre/softwares/spikeinterface/src/spikeinterface/sortingcomponents/benchmark/benchmark_peak_localization.py:83: RuntimeWarning: All-NaN slice encountered\n",
      "  self.medians_over_templates = np.array([np.nanmedian(self.raw_templates_results[unit_id]) for unit_id in  self.waveforms.sorting.unit_ids])\n",
      "/media/cure/Secondary/pierre/softwares/spikeinterface/src/spikeinterface/sortingcomponents/benchmark/benchmark_peak_localization.py:84: RuntimeWarning: All-NaN slice encountered\n",
      "  self.mads_over_templates = np.array([np.nanmedian(np.abs(self.raw_templates_results[unit_id] - np.nanmedian(self.raw_templates_results[unit_id]))) for unit_id in  self.waveforms.sorting.unit_ids])\n"
     ]
    },
    {
     "name": "stdout",
     "output_type": "stream",
     "text": [
      "pipeline with n_jobs = 72 and chunk_size = 9765\n"
     ]
    },
    {
     "data": {
      "application/vnd.jupyter.widget-view+json": {
       "model_id": "d4c367fe86dd4413a90a9440a80e71eb",
       "version_major": 2,
       "version_minor": 0
      },
      "text/plain": [
       "pipeline:   0%|          | 0/33 [00:00<?, ?it/s]"
      ]
     },
     "metadata": {},
     "output_type": "display_data"
    },
    {
     "name": "stdout",
     "output_type": "stream",
     "text": [
      "localize peaks using grid_convolution with n_jobs = 72 and chunk_size = 9765\n"
     ]
    },
    {
     "data": {
      "application/vnd.jupyter.widget-view+json": {
       "model_id": "21269f34de0a4a1880a19334d5a314c4",
       "version_major": 2,
       "version_minor": 0
      },
      "text/plain": [
       "localize peaks using grid_convolution:   0%|          | 0/33 [00:00<?, ?it/s]"
      ]
     },
     "metadata": {},
     "output_type": "display_data"
    },
    {
     "name": "stderr",
     "output_type": "stream",
     "text": [
      "/media/cure/Secondary/pierre/softwares/spikeinterface/src/spikeinterface/sortingcomponents/benchmark/benchmark_peak_localization.py:83: RuntimeWarning: All-NaN slice encountered\n",
      "  self.medians_over_templates = np.array([np.nanmedian(self.raw_templates_results[unit_id]) for unit_id in  self.waveforms.sorting.unit_ids])\n",
      "/media/cure/Secondary/pierre/softwares/spikeinterface/src/spikeinterface/sortingcomponents/benchmark/benchmark_peak_localization.py:84: RuntimeWarning: All-NaN slice encountered\n",
      "  self.mads_over_templates = np.array([np.nanmedian(np.abs(self.raw_templates_results[unit_id] - np.nanmedian(self.raw_templates_results[unit_id]))) for unit_id in  self.waveforms.sorting.unit_ids])\n"
     ]
    },
    {
     "name": "stdout",
     "output_type": "stream",
     "text": [
      "pipeline with n_jobs = 72 and chunk_size = 9765\n"
     ]
    },
    {
     "data": {
      "application/vnd.jupyter.widget-view+json": {
       "model_id": "84697fc0f7634f04b7a1adbd97f5dcce",
       "version_major": 2,
       "version_minor": 0
      },
      "text/plain": [
       "pipeline:   0%|          | 0/33 [00:00<?, ?it/s]"
      ]
     },
     "metadata": {},
     "output_type": "display_data"
    },
    {
     "name": "stdout",
     "output_type": "stream",
     "text": [
      "localize peaks using grid_convolution with n_jobs = 72 and chunk_size = 9765\n"
     ]
    },
    {
     "data": {
      "application/vnd.jupyter.widget-view+json": {
       "model_id": "b3eb8f64d1554b3b83397573a544cc8b",
       "version_major": 2,
       "version_minor": 0
      },
      "text/plain": [
       "localize peaks using grid_convolution:   0%|          | 0/33 [00:00<?, ?it/s]"
      ]
     },
     "metadata": {},
     "output_type": "display_data"
    },
    {
     "name": "stderr",
     "output_type": "stream",
     "text": [
      "/media/cure/Secondary/pierre/softwares/spikeinterface/src/spikeinterface/sortingcomponents/benchmark/benchmark_peak_localization.py:83: RuntimeWarning: All-NaN slice encountered\n",
      "  self.medians_over_templates = np.array([np.nanmedian(self.raw_templates_results[unit_id]) for unit_id in  self.waveforms.sorting.unit_ids])\n",
      "/media/cure/Secondary/pierre/softwares/spikeinterface/src/spikeinterface/sortingcomponents/benchmark/benchmark_peak_localization.py:84: RuntimeWarning: All-NaN slice encountered\n",
      "  self.mads_over_templates = np.array([np.nanmedian(np.abs(self.raw_templates_results[unit_id] - np.nanmedian(self.raw_templates_results[unit_id]))) for unit_id in  self.waveforms.sorting.unit_ids])\n"
     ]
    }
   ],
   "source": [
    "benchmarks_radius = {}\n",
    "waveforms = None\n",
    "xaxis = [25, 50, 75, 100, 125, 150]\n",
    "benchmarks_radius['xaxis'] = xaxis \n",
    "\n",
    "for method in ['monopolar_triangulation', 'center_of_mass', 'grid_convolution']:\n",
    "    for r_range in xaxis:\n",
    "        if method == 'monopolar_triangulation':\n",
    "            for feature in ['ptp', 'energy', 'peak_voltage']:\n",
    "                title = f'Monopolar ({feature})'\n",
    "                params = {'enforce_decrease': True, 'radius_um' : r_range, 'feature' : feature}\n",
    "                bench = BenchmarkPeakLocalization(recording_f, gt_sorting, positions, job_kwargs=job_kwargs, title=title)\n",
    "                if waveforms is not None:\n",
    "                    bench.waveforms = waveforms    \n",
    "                bench.run(method, params)\n",
    "                waveforms = bench.waveforms\n",
    "                if title in benchmarks_radius:\n",
    "                    benchmarks_radius[title] += [bench]\n",
    "                else:\n",
    "                    benchmarks_radius[title] = [bench]\n",
    "        elif method == 'center_of_mass':\n",
    "            for feature in ['ptp', 'energy', 'peak_voltage']:\n",
    "                params = {'radius_um' : r_range, 'feature' : feature}\n",
    "                title = f'CoM ({feature})'\n",
    "                bench = BenchmarkPeakLocalization(recording_f, gt_sorting, positions, job_kwargs=job_kwargs, title=title)\n",
    "                if waveforms is not None:\n",
    "                    bench.waveforms = waveforms    \n",
    "                bench.run(method, params)\n",
    "                waveforms = bench.waveforms\n",
    "                if title in benchmarks_radius:\n",
    "                    benchmarks_radius[title] += [bench]\n",
    "                else:\n",
    "                    benchmarks_radius[title] = [bench]\n",
    "        elif method == 'grid_convolution':\n",
    "            params = {'radius_um' : r_range, 'mode' : '3d'}\n",
    "            title = f'Grid'\n",
    "            bench = BenchmarkPeakLocalization(recording_f, gt_sorting, positions, job_kwargs=job_kwargs, title=title)\n",
    "            if waveforms is not None:\n",
    "                bench.waveforms = waveforms    \n",
    "            bench.run(method, params)\n",
    "            waveforms = bench.waveforms\n",
    "            if title in benchmarks_radius:\n",
    "                benchmarks_radius[title] += [bench]\n",
    "            else:\n",
    "                benchmarks_radius[title] = [bench]\n",
    "    "
   ]
  },
  {
   "cell_type": "code",
   "execution_count": 18,
   "metadata": {},
   "outputs": [],
   "source": [
    "recordings = {}\n",
    "\n",
    "xaxis = [100, 300, 500, 700, 900]\n",
    "\n",
    "for cut_off in xaxis :\n",
    "    recordings[cut_off] = si.bandpass_filter(recording, freq_min=cut_off)\n",
    "    recordings[cut_off] = si.common_reference(recordings[cut_off])\n",
    "    recordings[cut_off] = si.zscore(recordings[cut_off])"
   ]
  },
  {
   "cell_type": "code",
   "execution_count": 19,
   "metadata": {},
   "outputs": [
    {
     "name": "stdout",
     "output_type": "stream",
     "text": [
      "extract waveforms shared_memory multi buffer with n_jobs = 72 and chunk_size = 9765\n"
     ]
    },
    {
     "data": {
      "application/vnd.jupyter.widget-view+json": {
       "model_id": "1dbe0f496ec842c6b599085cd215f648",
       "version_major": 2,
       "version_minor": 0
      },
      "text/plain": [
       "extract waveforms shared_memory multi buffer:   0%|          | 0/33 [00:00<?, ?it/s]"
      ]
     },
     "metadata": {},
     "output_type": "display_data"
    },
    {
     "name": "stdout",
     "output_type": "stream",
     "text": [
      "extract waveforms shared_memory multi buffer with n_jobs = 72 and chunk_size = 9765\n"
     ]
    },
    {
     "data": {
      "application/vnd.jupyter.widget-view+json": {
       "model_id": "a40ae3a401a44be8b27b30392a3c0a03",
       "version_major": 2,
       "version_minor": 0
      },
      "text/plain": [
       "extract waveforms shared_memory multi buffer:   0%|          | 0/33 [00:00<?, ?it/s]"
      ]
     },
     "metadata": {},
     "output_type": "display_data"
    },
    {
     "name": "stdout",
     "output_type": "stream",
     "text": [
      "extract waveforms memmap multi buffer with n_jobs = 72 and chunk_size = 9765\n"
     ]
    },
    {
     "data": {
      "application/vnd.jupyter.widget-view+json": {
       "model_id": "f2f8ded5bb4f4aa488ea82adc48a766a",
       "version_major": 2,
       "version_minor": 0
      },
      "text/plain": [
       "extract waveforms memmap multi buffer:   0%|          | 0/33 [00:00<?, ?it/s]"
      ]
     },
     "metadata": {},
     "output_type": "display_data"
    },
    {
     "name": "stdout",
     "output_type": "stream",
     "text": [
      "localize peaks using monopolar_triangulation with n_jobs = 72 and chunk_size = 9765\n"
     ]
    },
    {
     "data": {
      "application/vnd.jupyter.widget-view+json": {
       "model_id": "120bc227869347db9c3df5ff1b4343ea",
       "version_major": 2,
       "version_minor": 0
      },
      "text/plain": [
       "localize peaks using monopolar_triangulation:   0%|          | 0/33 [00:00<?, ?it/s]"
      ]
     },
     "metadata": {},
     "output_type": "display_data"
    },
    {
     "name": "stdout",
     "output_type": "stream",
     "text": [
      "localize peaks using monopolar_triangulation with n_jobs = 72 and chunk_size = 9765\n"
     ]
    },
    {
     "data": {
      "application/vnd.jupyter.widget-view+json": {
       "model_id": "aa9a6a5822da45eda5e0b5b6d36cadb1",
       "version_major": 2,
       "version_minor": 0
      },
      "text/plain": [
       "localize peaks using monopolar_triangulation:   0%|          | 0/33 [00:00<?, ?it/s]"
      ]
     },
     "metadata": {},
     "output_type": "display_data"
    },
    {
     "name": "stdout",
     "output_type": "stream",
     "text": [
      "localize peaks using monopolar_triangulation with n_jobs = 72 and chunk_size = 9765\n"
     ]
    },
    {
     "data": {
      "application/vnd.jupyter.widget-view+json": {
       "model_id": "8a00b2e7706b4c5b9fb47e90cf8a89c1",
       "version_major": 2,
       "version_minor": 0
      },
      "text/plain": [
       "localize peaks using monopolar_triangulation:   0%|          | 0/33 [00:00<?, ?it/s]"
      ]
     },
     "metadata": {},
     "output_type": "display_data"
    },
    {
     "name": "stdout",
     "output_type": "stream",
     "text": [
      "localize peaks using center_of_mass with n_jobs = 72 and chunk_size = 9765\n"
     ]
    },
    {
     "data": {
      "application/vnd.jupyter.widget-view+json": {
       "model_id": "d41c17b32ed94d37a80eeaa0b079d646",
       "version_major": 2,
       "version_minor": 0
      },
      "text/plain": [
       "localize peaks using center_of_mass:   0%|          | 0/33 [00:00<?, ?it/s]"
      ]
     },
     "metadata": {},
     "output_type": "display_data"
    },
    {
     "name": "stdout",
     "output_type": "stream",
     "text": [
      "localize peaks using center_of_mass with n_jobs = 72 and chunk_size = 9765\n"
     ]
    },
    {
     "data": {
      "application/vnd.jupyter.widget-view+json": {
       "model_id": "c1a93aaf9306453f9a7db8c4ed2c7625",
       "version_major": 2,
       "version_minor": 0
      },
      "text/plain": [
       "localize peaks using center_of_mass:   0%|          | 0/33 [00:00<?, ?it/s]"
      ]
     },
     "metadata": {},
     "output_type": "display_data"
    },
    {
     "name": "stdout",
     "output_type": "stream",
     "text": [
      "localize peaks using center_of_mass with n_jobs = 72 and chunk_size = 9765\n"
     ]
    },
    {
     "data": {
      "application/vnd.jupyter.widget-view+json": {
       "model_id": "3394256b1d6a4a0fa10ba8ebe6ce6baf",
       "version_major": 2,
       "version_minor": 0
      },
      "text/plain": [
       "localize peaks using center_of_mass:   0%|          | 0/33 [00:00<?, ?it/s]"
      ]
     },
     "metadata": {},
     "output_type": "display_data"
    },
    {
     "name": "stdout",
     "output_type": "stream",
     "text": [
      "pipeline with n_jobs = 72 and chunk_size = 9765\n"
     ]
    },
    {
     "data": {
      "application/vnd.jupyter.widget-view+json": {
       "model_id": "94e36bdc40f94189a292766689ebe976",
       "version_major": 2,
       "version_minor": 0
      },
      "text/plain": [
       "pipeline:   0%|          | 0/33 [00:00<?, ?it/s]"
      ]
     },
     "metadata": {},
     "output_type": "display_data"
    },
    {
     "name": "stdout",
     "output_type": "stream",
     "text": [
      "localize peaks using grid_convolution with n_jobs = 72 and chunk_size = 9765\n"
     ]
    },
    {
     "data": {
      "application/vnd.jupyter.widget-view+json": {
       "model_id": "9c20462fc5eb4ca4919887c1fddf5354",
       "version_major": 2,
       "version_minor": 0
      },
      "text/plain": [
       "localize peaks using grid_convolution:   0%|          | 0/33 [00:00<?, ?it/s]"
      ]
     },
     "metadata": {},
     "output_type": "display_data"
    },
    {
     "name": "stdout",
     "output_type": "stream",
     "text": [
      "extract waveforms shared_memory multi buffer with n_jobs = 72 and chunk_size = 9765\n"
     ]
    },
    {
     "data": {
      "application/vnd.jupyter.widget-view+json": {
       "model_id": "61066f9ac8c542da81a44a44c9b84f09",
       "version_major": 2,
       "version_minor": 0
      },
      "text/plain": [
       "extract waveforms shared_memory multi buffer:   0%|          | 0/33 [00:00<?, ?it/s]"
      ]
     },
     "metadata": {},
     "output_type": "display_data"
    },
    {
     "name": "stdout",
     "output_type": "stream",
     "text": [
      "extract waveforms shared_memory multi buffer with n_jobs = 72 and chunk_size = 9765\n"
     ]
    },
    {
     "data": {
      "application/vnd.jupyter.widget-view+json": {
       "model_id": "84003b6a95dd41c3b45bb99414284288",
       "version_major": 2,
       "version_minor": 0
      },
      "text/plain": [
       "extract waveforms shared_memory multi buffer:   0%|          | 0/33 [00:00<?, ?it/s]"
      ]
     },
     "metadata": {},
     "output_type": "display_data"
    },
    {
     "name": "stdout",
     "output_type": "stream",
     "text": [
      "extract waveforms memmap multi buffer with n_jobs = 72 and chunk_size = 9765\n"
     ]
    },
    {
     "data": {
      "application/vnd.jupyter.widget-view+json": {
       "model_id": "c047ebc9f6d54d308047acf5379710a5",
       "version_major": 2,
       "version_minor": 0
      },
      "text/plain": [
       "extract waveforms memmap multi buffer:   0%|          | 0/33 [00:00<?, ?it/s]"
      ]
     },
     "metadata": {},
     "output_type": "display_data"
    },
    {
     "name": "stdout",
     "output_type": "stream",
     "text": [
      "localize peaks using monopolar_triangulation with n_jobs = 72 and chunk_size = 9765\n"
     ]
    },
    {
     "data": {
      "application/vnd.jupyter.widget-view+json": {
       "model_id": "ed4bb06e61754a38a99acc4b051869a3",
       "version_major": 2,
       "version_minor": 0
      },
      "text/plain": [
       "localize peaks using monopolar_triangulation:   0%|          | 0/33 [00:00<?, ?it/s]"
      ]
     },
     "metadata": {},
     "output_type": "display_data"
    },
    {
     "name": "stdout",
     "output_type": "stream",
     "text": [
      "localize peaks using monopolar_triangulation with n_jobs = 72 and chunk_size = 9765\n"
     ]
    },
    {
     "data": {
      "application/vnd.jupyter.widget-view+json": {
       "model_id": "62af1f5b145e4543b9d1dd4b57f23b69",
       "version_major": 2,
       "version_minor": 0
      },
      "text/plain": [
       "localize peaks using monopolar_triangulation:   0%|          | 0/33 [00:00<?, ?it/s]"
      ]
     },
     "metadata": {},
     "output_type": "display_data"
    },
    {
     "name": "stdout",
     "output_type": "stream",
     "text": [
      "localize peaks using monopolar_triangulation with n_jobs = 72 and chunk_size = 9765\n"
     ]
    },
    {
     "data": {
      "application/vnd.jupyter.widget-view+json": {
       "model_id": "db26f12b72d1432f88a7efbd71f9e4a2",
       "version_major": 2,
       "version_minor": 0
      },
      "text/plain": [
       "localize peaks using monopolar_triangulation:   0%|          | 0/33 [00:00<?, ?it/s]"
      ]
     },
     "metadata": {},
     "output_type": "display_data"
    },
    {
     "name": "stdout",
     "output_type": "stream",
     "text": [
      "localize peaks using center_of_mass with n_jobs = 72 and chunk_size = 9765\n"
     ]
    },
    {
     "data": {
      "application/vnd.jupyter.widget-view+json": {
       "model_id": "364c971c1dbe4f4daa965b11876da02c",
       "version_major": 2,
       "version_minor": 0
      },
      "text/plain": [
       "localize peaks using center_of_mass:   0%|          | 0/33 [00:00<?, ?it/s]"
      ]
     },
     "metadata": {},
     "output_type": "display_data"
    },
    {
     "name": "stdout",
     "output_type": "stream",
     "text": [
      "localize peaks using center_of_mass with n_jobs = 72 and chunk_size = 9765\n"
     ]
    },
    {
     "data": {
      "application/vnd.jupyter.widget-view+json": {
       "model_id": "17420ef4cc404e5dafec609e7a7dcb34",
       "version_major": 2,
       "version_minor": 0
      },
      "text/plain": [
       "localize peaks using center_of_mass:   0%|          | 0/33 [00:00<?, ?it/s]"
      ]
     },
     "metadata": {},
     "output_type": "display_data"
    },
    {
     "name": "stdout",
     "output_type": "stream",
     "text": [
      "localize peaks using center_of_mass with n_jobs = 72 and chunk_size = 9765\n"
     ]
    },
    {
     "data": {
      "application/vnd.jupyter.widget-view+json": {
       "model_id": "1b0578f5b40640c4bbc5ea798df04b67",
       "version_major": 2,
       "version_minor": 0
      },
      "text/plain": [
       "localize peaks using center_of_mass:   0%|          | 0/33 [00:00<?, ?it/s]"
      ]
     },
     "metadata": {},
     "output_type": "display_data"
    },
    {
     "name": "stdout",
     "output_type": "stream",
     "text": [
      "pipeline with n_jobs = 72 and chunk_size = 9765\n"
     ]
    },
    {
     "data": {
      "application/vnd.jupyter.widget-view+json": {
       "model_id": "328f194d0a0843da8a54ab89010ec070",
       "version_major": 2,
       "version_minor": 0
      },
      "text/plain": [
       "pipeline:   0%|          | 0/33 [00:00<?, ?it/s]"
      ]
     },
     "metadata": {},
     "output_type": "display_data"
    },
    {
     "name": "stdout",
     "output_type": "stream",
     "text": [
      "localize peaks using grid_convolution with n_jobs = 72 and chunk_size = 9765\n"
     ]
    },
    {
     "data": {
      "application/vnd.jupyter.widget-view+json": {
       "model_id": "e6a89135eca349bfb77c8d7ce595e9d2",
       "version_major": 2,
       "version_minor": 0
      },
      "text/plain": [
       "localize peaks using grid_convolution:   0%|          | 0/33 [00:00<?, ?it/s]"
      ]
     },
     "metadata": {},
     "output_type": "display_data"
    },
    {
     "name": "stdout",
     "output_type": "stream",
     "text": [
      "extract waveforms shared_memory multi buffer with n_jobs = 72 and chunk_size = 9765\n"
     ]
    },
    {
     "data": {
      "application/vnd.jupyter.widget-view+json": {
       "model_id": "03b4442ef45943538ab7a40470d43514",
       "version_major": 2,
       "version_minor": 0
      },
      "text/plain": [
       "extract waveforms shared_memory multi buffer:   0%|          | 0/33 [00:00<?, ?it/s]"
      ]
     },
     "metadata": {},
     "output_type": "display_data"
    },
    {
     "name": "stdout",
     "output_type": "stream",
     "text": [
      "extract waveforms shared_memory multi buffer with n_jobs = 72 and chunk_size = 9765\n"
     ]
    },
    {
     "data": {
      "application/vnd.jupyter.widget-view+json": {
       "model_id": "7e36cc8c8b064a818deede162a5c4a67",
       "version_major": 2,
       "version_minor": 0
      },
      "text/plain": [
       "extract waveforms shared_memory multi buffer:   0%|          | 0/33 [00:00<?, ?it/s]"
      ]
     },
     "metadata": {},
     "output_type": "display_data"
    },
    {
     "name": "stdout",
     "output_type": "stream",
     "text": [
      "extract waveforms memmap multi buffer with n_jobs = 72 and chunk_size = 9765\n"
     ]
    },
    {
     "data": {
      "application/vnd.jupyter.widget-view+json": {
       "model_id": "c852946bad5644798ab7faa3c32e14ea",
       "version_major": 2,
       "version_minor": 0
      },
      "text/plain": [
       "extract waveforms memmap multi buffer:   0%|          | 0/33 [00:00<?, ?it/s]"
      ]
     },
     "metadata": {},
     "output_type": "display_data"
    },
    {
     "name": "stdout",
     "output_type": "stream",
     "text": [
      "localize peaks using monopolar_triangulation with n_jobs = 72 and chunk_size = 9765\n"
     ]
    },
    {
     "data": {
      "application/vnd.jupyter.widget-view+json": {
       "model_id": "6b3705329a2e4abdb65bbdd989be87d4",
       "version_major": 2,
       "version_minor": 0
      },
      "text/plain": [
       "localize peaks using monopolar_triangulation:   0%|          | 0/33 [00:00<?, ?it/s]"
      ]
     },
     "metadata": {},
     "output_type": "display_data"
    },
    {
     "name": "stdout",
     "output_type": "stream",
     "text": [
      "localize peaks using monopolar_triangulation with n_jobs = 72 and chunk_size = 9765\n"
     ]
    },
    {
     "data": {
      "application/vnd.jupyter.widget-view+json": {
       "model_id": "f2dd18738af94fc1bfe2c0ec18f2fb96",
       "version_major": 2,
       "version_minor": 0
      },
      "text/plain": [
       "localize peaks using monopolar_triangulation:   0%|          | 0/33 [00:00<?, ?it/s]"
      ]
     },
     "metadata": {},
     "output_type": "display_data"
    },
    {
     "name": "stdout",
     "output_type": "stream",
     "text": [
      "localize peaks using monopolar_triangulation with n_jobs = 72 and chunk_size = 9765\n"
     ]
    },
    {
     "data": {
      "application/vnd.jupyter.widget-view+json": {
       "model_id": "b0c5731e32d14e6cbaf5595c1204403c",
       "version_major": 2,
       "version_minor": 0
      },
      "text/plain": [
       "localize peaks using monopolar_triangulation:   0%|          | 0/33 [00:00<?, ?it/s]"
      ]
     },
     "metadata": {},
     "output_type": "display_data"
    },
    {
     "name": "stdout",
     "output_type": "stream",
     "text": [
      "localize peaks using center_of_mass with n_jobs = 72 and chunk_size = 9765\n"
     ]
    },
    {
     "data": {
      "application/vnd.jupyter.widget-view+json": {
       "model_id": "0eadf6693992477daf46d7d5331d82d4",
       "version_major": 2,
       "version_minor": 0
      },
      "text/plain": [
       "localize peaks using center_of_mass:   0%|          | 0/33 [00:00<?, ?it/s]"
      ]
     },
     "metadata": {},
     "output_type": "display_data"
    },
    {
     "name": "stdout",
     "output_type": "stream",
     "text": [
      "localize peaks using center_of_mass with n_jobs = 72 and chunk_size = 9765\n"
     ]
    },
    {
     "data": {
      "application/vnd.jupyter.widget-view+json": {
       "model_id": "7e22fc7255cb4f2593d3a7e67cf6f15c",
       "version_major": 2,
       "version_minor": 0
      },
      "text/plain": [
       "localize peaks using center_of_mass:   0%|          | 0/33 [00:00<?, ?it/s]"
      ]
     },
     "metadata": {},
     "output_type": "display_data"
    },
    {
     "name": "stdout",
     "output_type": "stream",
     "text": [
      "localize peaks using center_of_mass with n_jobs = 72 and chunk_size = 9765\n"
     ]
    },
    {
     "data": {
      "application/vnd.jupyter.widget-view+json": {
       "model_id": "3d64fb76c4884a51aba55f25cae05717",
       "version_major": 2,
       "version_minor": 0
      },
      "text/plain": [
       "localize peaks using center_of_mass:   0%|          | 0/33 [00:00<?, ?it/s]"
      ]
     },
     "metadata": {},
     "output_type": "display_data"
    },
    {
     "name": "stdout",
     "output_type": "stream",
     "text": [
      "pipeline with n_jobs = 72 and chunk_size = 9765\n"
     ]
    },
    {
     "data": {
      "application/vnd.jupyter.widget-view+json": {
       "model_id": "29cb9b65d9bd4900ba994c6920e834ce",
       "version_major": 2,
       "version_minor": 0
      },
      "text/plain": [
       "pipeline:   0%|          | 0/33 [00:00<?, ?it/s]"
      ]
     },
     "metadata": {},
     "output_type": "display_data"
    },
    {
     "name": "stdout",
     "output_type": "stream",
     "text": [
      "localize peaks using grid_convolution with n_jobs = 72 and chunk_size = 9765\n"
     ]
    },
    {
     "data": {
      "application/vnd.jupyter.widget-view+json": {
       "model_id": "7b979b6cf8404eefa749f49363c9aa20",
       "version_major": 2,
       "version_minor": 0
      },
      "text/plain": [
       "localize peaks using grid_convolution:   0%|          | 0/33 [00:00<?, ?it/s]"
      ]
     },
     "metadata": {},
     "output_type": "display_data"
    },
    {
     "name": "stdout",
     "output_type": "stream",
     "text": [
      "extract waveforms shared_memory multi buffer with n_jobs = 72 and chunk_size = 9765\n"
     ]
    },
    {
     "data": {
      "application/vnd.jupyter.widget-view+json": {
       "model_id": "049a84694a1649469690d968cffb2aeb",
       "version_major": 2,
       "version_minor": 0
      },
      "text/plain": [
       "extract waveforms shared_memory multi buffer:   0%|          | 0/33 [00:00<?, ?it/s]"
      ]
     },
     "metadata": {},
     "output_type": "display_data"
    },
    {
     "name": "stdout",
     "output_type": "stream",
     "text": [
      "extract waveforms shared_memory multi buffer with n_jobs = 72 and chunk_size = 9765\n"
     ]
    },
    {
     "data": {
      "application/vnd.jupyter.widget-view+json": {
       "model_id": "dc05ad07dbfc40f6aac83abccea503ac",
       "version_major": 2,
       "version_minor": 0
      },
      "text/plain": [
       "extract waveforms shared_memory multi buffer:   0%|          | 0/33 [00:00<?, ?it/s]"
      ]
     },
     "metadata": {},
     "output_type": "display_data"
    },
    {
     "name": "stdout",
     "output_type": "stream",
     "text": [
      "extract waveforms memmap multi buffer with n_jobs = 72 and chunk_size = 9765\n"
     ]
    },
    {
     "data": {
      "application/vnd.jupyter.widget-view+json": {
       "model_id": "9cffefcd36a54f8f912cc76b9b02663f",
       "version_major": 2,
       "version_minor": 0
      },
      "text/plain": [
       "extract waveforms memmap multi buffer:   0%|          | 0/33 [00:00<?, ?it/s]"
      ]
     },
     "metadata": {},
     "output_type": "display_data"
    },
    {
     "name": "stdout",
     "output_type": "stream",
     "text": [
      "localize peaks using monopolar_triangulation with n_jobs = 72 and chunk_size = 9765\n"
     ]
    },
    {
     "data": {
      "application/vnd.jupyter.widget-view+json": {
       "model_id": "9d78e72396f740b399721ab64d83ab28",
       "version_major": 2,
       "version_minor": 0
      },
      "text/plain": [
       "localize peaks using monopolar_triangulation:   0%|          | 0/33 [00:00<?, ?it/s]"
      ]
     },
     "metadata": {},
     "output_type": "display_data"
    },
    {
     "name": "stdout",
     "output_type": "stream",
     "text": [
      "localize peaks using monopolar_triangulation with n_jobs = 72 and chunk_size = 9765\n"
     ]
    },
    {
     "data": {
      "application/vnd.jupyter.widget-view+json": {
       "model_id": "d8d3d0e0d5ac43e492ced1a36bed3b30",
       "version_major": 2,
       "version_minor": 0
      },
      "text/plain": [
       "localize peaks using monopolar_triangulation:   0%|          | 0/33 [00:00<?, ?it/s]"
      ]
     },
     "metadata": {},
     "output_type": "display_data"
    },
    {
     "name": "stdout",
     "output_type": "stream",
     "text": [
      "localize peaks using monopolar_triangulation with n_jobs = 72 and chunk_size = 9765\n"
     ]
    },
    {
     "data": {
      "application/vnd.jupyter.widget-view+json": {
       "model_id": "cd273436d83b48a2b5b29d5153d93cad",
       "version_major": 2,
       "version_minor": 0
      },
      "text/plain": [
       "localize peaks using monopolar_triangulation:   0%|          | 0/33 [00:00<?, ?it/s]"
      ]
     },
     "metadata": {},
     "output_type": "display_data"
    },
    {
     "name": "stdout",
     "output_type": "stream",
     "text": [
      "localize peaks using center_of_mass with n_jobs = 72 and chunk_size = 9765\n"
     ]
    },
    {
     "data": {
      "application/vnd.jupyter.widget-view+json": {
       "model_id": "a6bda2503718417883b48a6e0623f189",
       "version_major": 2,
       "version_minor": 0
      },
      "text/plain": [
       "localize peaks using center_of_mass:   0%|          | 0/33 [00:00<?, ?it/s]"
      ]
     },
     "metadata": {},
     "output_type": "display_data"
    },
    {
     "name": "stdout",
     "output_type": "stream",
     "text": [
      "localize peaks using center_of_mass with n_jobs = 72 and chunk_size = 9765\n"
     ]
    },
    {
     "data": {
      "application/vnd.jupyter.widget-view+json": {
       "model_id": "3de18f9df2b64729b3d8298ddf5e78fe",
       "version_major": 2,
       "version_minor": 0
      },
      "text/plain": [
       "localize peaks using center_of_mass:   0%|          | 0/33 [00:00<?, ?it/s]"
      ]
     },
     "metadata": {},
     "output_type": "display_data"
    },
    {
     "name": "stdout",
     "output_type": "stream",
     "text": [
      "localize peaks using center_of_mass with n_jobs = 72 and chunk_size = 9765\n"
     ]
    },
    {
     "data": {
      "application/vnd.jupyter.widget-view+json": {
       "model_id": "309e34ddc2034cd5a13a592902e12bdb",
       "version_major": 2,
       "version_minor": 0
      },
      "text/plain": [
       "localize peaks using center_of_mass:   0%|          | 0/33 [00:00<?, ?it/s]"
      ]
     },
     "metadata": {},
     "output_type": "display_data"
    },
    {
     "name": "stdout",
     "output_type": "stream",
     "text": [
      "pipeline with n_jobs = 72 and chunk_size = 9765\n"
     ]
    },
    {
     "data": {
      "application/vnd.jupyter.widget-view+json": {
       "model_id": "fb7e0d0867194e4995c56e2c10bcda96",
       "version_major": 2,
       "version_minor": 0
      },
      "text/plain": [
       "pipeline:   0%|          | 0/33 [00:00<?, ?it/s]"
      ]
     },
     "metadata": {},
     "output_type": "display_data"
    },
    {
     "name": "stdout",
     "output_type": "stream",
     "text": [
      "localize peaks using grid_convolution with n_jobs = 72 and chunk_size = 9765\n"
     ]
    },
    {
     "data": {
      "application/vnd.jupyter.widget-view+json": {
       "model_id": "1044cc997ebe499e9adf11661432a5a6",
       "version_major": 2,
       "version_minor": 0
      },
      "text/plain": [
       "localize peaks using grid_convolution:   0%|          | 0/33 [00:00<?, ?it/s]"
      ]
     },
     "metadata": {},
     "output_type": "display_data"
    },
    {
     "name": "stdout",
     "output_type": "stream",
     "text": [
      "extract waveforms shared_memory multi buffer with n_jobs = 72 and chunk_size = 9765\n"
     ]
    },
    {
     "data": {
      "application/vnd.jupyter.widget-view+json": {
       "model_id": "329afb6894da408abb697ad08455c6bd",
       "version_major": 2,
       "version_minor": 0
      },
      "text/plain": [
       "extract waveforms shared_memory multi buffer:   0%|          | 0/33 [00:00<?, ?it/s]"
      ]
     },
     "metadata": {},
     "output_type": "display_data"
    },
    {
     "name": "stdout",
     "output_type": "stream",
     "text": [
      "extract waveforms shared_memory multi buffer with n_jobs = 72 and chunk_size = 9765\n"
     ]
    },
    {
     "data": {
      "application/vnd.jupyter.widget-view+json": {
       "model_id": "3d71c919610a4e5394d073eaea127940",
       "version_major": 2,
       "version_minor": 0
      },
      "text/plain": [
       "extract waveforms shared_memory multi buffer:   0%|          | 0/33 [00:00<?, ?it/s]"
      ]
     },
     "metadata": {},
     "output_type": "display_data"
    },
    {
     "name": "stdout",
     "output_type": "stream",
     "text": [
      "extract waveforms memmap multi buffer with n_jobs = 72 and chunk_size = 9765\n"
     ]
    },
    {
     "data": {
      "application/vnd.jupyter.widget-view+json": {
       "model_id": "ec2cf00d328e46e384a42333ca9518de",
       "version_major": 2,
       "version_minor": 0
      },
      "text/plain": [
       "extract waveforms memmap multi buffer:   0%|          | 0/33 [00:00<?, ?it/s]"
      ]
     },
     "metadata": {},
     "output_type": "display_data"
    },
    {
     "name": "stdout",
     "output_type": "stream",
     "text": [
      "localize peaks using monopolar_triangulation with n_jobs = 72 and chunk_size = 9765\n"
     ]
    },
    {
     "data": {
      "application/vnd.jupyter.widget-view+json": {
       "model_id": "e137c1ac33284c0db18fc87bc6731795",
       "version_major": 2,
       "version_minor": 0
      },
      "text/plain": [
       "localize peaks using monopolar_triangulation:   0%|          | 0/33 [00:00<?, ?it/s]"
      ]
     },
     "metadata": {},
     "output_type": "display_data"
    },
    {
     "name": "stdout",
     "output_type": "stream",
     "text": [
      "localize peaks using monopolar_triangulation with n_jobs = 72 and chunk_size = 9765\n"
     ]
    },
    {
     "data": {
      "application/vnd.jupyter.widget-view+json": {
       "model_id": "6954c091cbce47f1b25aed33fe9e7401",
       "version_major": 2,
       "version_minor": 0
      },
      "text/plain": [
       "localize peaks using monopolar_triangulation:   0%|          | 0/33 [00:00<?, ?it/s]"
      ]
     },
     "metadata": {},
     "output_type": "display_data"
    },
    {
     "name": "stdout",
     "output_type": "stream",
     "text": [
      "localize peaks using monopolar_triangulation with n_jobs = 72 and chunk_size = 9765\n"
     ]
    },
    {
     "data": {
      "application/vnd.jupyter.widget-view+json": {
       "model_id": "6b7abdebeefc474db558ba6ef8ab3e96",
       "version_major": 2,
       "version_minor": 0
      },
      "text/plain": [
       "localize peaks using monopolar_triangulation:   0%|          | 0/33 [00:00<?, ?it/s]"
      ]
     },
     "metadata": {},
     "output_type": "display_data"
    },
    {
     "name": "stdout",
     "output_type": "stream",
     "text": [
      "localize peaks using center_of_mass with n_jobs = 72 and chunk_size = 9765\n"
     ]
    },
    {
     "data": {
      "application/vnd.jupyter.widget-view+json": {
       "model_id": "a8c44c12b05f4e6e95bcb89135308bab",
       "version_major": 2,
       "version_minor": 0
      },
      "text/plain": [
       "localize peaks using center_of_mass:   0%|          | 0/33 [00:00<?, ?it/s]"
      ]
     },
     "metadata": {},
     "output_type": "display_data"
    },
    {
     "name": "stdout",
     "output_type": "stream",
     "text": [
      "localize peaks using center_of_mass with n_jobs = 72 and chunk_size = 9765\n"
     ]
    },
    {
     "data": {
      "application/vnd.jupyter.widget-view+json": {
       "model_id": "4fbb3d2ecee24efb8563ee33f64f2ba0",
       "version_major": 2,
       "version_minor": 0
      },
      "text/plain": [
       "localize peaks using center_of_mass:   0%|          | 0/33 [00:00<?, ?it/s]"
      ]
     },
     "metadata": {},
     "output_type": "display_data"
    },
    {
     "name": "stdout",
     "output_type": "stream",
     "text": [
      "localize peaks using center_of_mass with n_jobs = 72 and chunk_size = 9765\n"
     ]
    },
    {
     "data": {
      "application/vnd.jupyter.widget-view+json": {
       "model_id": "2a31109acea240d2bdc8910e2ebcc7bc",
       "version_major": 2,
       "version_minor": 0
      },
      "text/plain": [
       "localize peaks using center_of_mass:   0%|          | 0/33 [00:00<?, ?it/s]"
      ]
     },
     "metadata": {},
     "output_type": "display_data"
    },
    {
     "name": "stdout",
     "output_type": "stream",
     "text": [
      "pipeline with n_jobs = 72 and chunk_size = 9765\n"
     ]
    },
    {
     "data": {
      "application/vnd.jupyter.widget-view+json": {
       "model_id": "ab1e13460df44835981ebce5f8531d9c",
       "version_major": 2,
       "version_minor": 0
      },
      "text/plain": [
       "pipeline:   0%|          | 0/33 [00:00<?, ?it/s]"
      ]
     },
     "metadata": {},
     "output_type": "display_data"
    },
    {
     "name": "stdout",
     "output_type": "stream",
     "text": [
      "localize peaks using grid_convolution with n_jobs = 72 and chunk_size = 9765\n"
     ]
    },
    {
     "data": {
      "application/vnd.jupyter.widget-view+json": {
       "model_id": "40cc423cad044327800131e45b124963",
       "version_major": 2,
       "version_minor": 0
      },
      "text/plain": [
       "localize peaks using grid_convolution:   0%|          | 0/33 [00:00<?, ?it/s]"
      ]
     },
     "metadata": {},
     "output_type": "display_data"
    }
   ],
   "source": [
    "benchmarks_cutoff = {}\n",
    "\n",
    "benchmarks_cutoff['xaxis'] = xaxis \n",
    "\n",
    "for cut_off in xaxis:\n",
    "    waveforms = None\n",
    "    for method in ['monopolar_triangulation', 'center_of_mass', 'grid_convolution']:\n",
    "    \n",
    "        if method == 'monopolar_triangulation':\n",
    "            for feature in ['ptp', 'energy', 'peak_voltage']:\n",
    "                title = f'Monopolar ({feature})'\n",
    "                params = {'enforce_decrease': True, 'feature' : feature}\n",
    "                bench = BenchmarkPeakLocalization(recordings[cut_off], gt_sorting, positions, job_kwargs=job_kwargs, title=title)\n",
    "                if waveforms is not None:\n",
    "                    bench.waveforms = waveforms    \n",
    "                bench.run(method, params)\n",
    "                waveforms = bench.waveforms\n",
    "                if title in benchmarks_cutoff:\n",
    "                    benchmarks_cutoff[title] += [bench]\n",
    "                else:\n",
    "                    benchmarks_cutoff[title] = [bench]\n",
    "        elif method == 'center_of_mass':\n",
    "            for feature in ['ptp', 'energy', 'peak_voltage']:\n",
    "                title = f'CoM ({feature})'\n",
    "                params = {'feature' : feature}\n",
    "                bench = BenchmarkPeakLocalization(recordings[cut_off], gt_sorting, positions, job_kwargs=job_kwargs, title=title)\n",
    "                if waveforms is not None:\n",
    "                    bench.waveforms = waveforms    \n",
    "                bench.run(method, params)\n",
    "                waveforms = bench.waveforms\n",
    "                if title in benchmarks_cutoff:\n",
    "                    benchmarks_cutoff[title] += [bench]\n",
    "                else:\n",
    "                    benchmarks_cutoff[title] = [bench]\n",
    "        elif method == 'grid_convolution':\n",
    "            title = f'Grid'\n",
    "            params = {'mode' : '3d'}\n",
    "            bench = BenchmarkPeakLocalization(recordings[cut_off], gt_sorting, positions, job_kwargs=job_kwargs, title=title)\n",
    "            if waveforms is not None:\n",
    "                bench.waveforms = waveforms    \n",
    "            bench.run(method, params)\n",
    "            waveforms = bench.waveforms\n",
    "            if title in benchmarks_cutoff:\n",
    "                benchmarks_cutoff[title] += [bench]\n",
    "            else:\n",
    "                benchmarks_cutoff[title] = [bench]"
   ]
  },
  {
   "cell_type": "code",
   "execution_count": 23,
   "metadata": {},
   "outputs": [],
   "source": [
    "from spikeinterface.sortingcomponents.benchmark.benchmark_tools import BenchmarkBase, _simpleaxis \n",
    "import pylab as plt\n",
    "import matplotlib\n",
    "\n",
    "def plot_comparison_precision_2(benchmarks, colors=None):\n",
    "\n",
    "    import pylab as plt\n",
    "    fig, axes = plt.subplots(nrows=3, ncols=len(benchmarks) + 1, figsize=(15, 7), squeeze=False)\n",
    "    \n",
    "    to_explore = list(benchmarks_ms.keys())\n",
    "    to_explore.remove('xaxis')\n",
    "    \n",
    "    for title in to_explore:\n",
    "        \n",
    "        \n",
    "        if title.find('Monopolar') > -1:\n",
    "            jcount = 1\n",
    "        elif title.find('CoM') > -1:\n",
    "            jcount = 0\n",
    "        elif title.find('Grid') > -1:\n",
    "            jcount = 2\n",
    "    \n",
    "        for icount, benchmark in enumerate(benchmarks):\n",
    "\n",
    "            bench = benchmark[title]\n",
    "            \n",
    "            #vrange = np.array(list(bench.keys()))\n",
    "            #v_min = np.min(vrange)\n",
    "            #v_max = np.max(vrange)\n",
    "\n",
    "            #my_cmap = plt.get_cmap(cmaps[jcount])\n",
    "            #cNorm  = matplotlib.colors.Normalize(vmin=v_min, vmax=v_max)\n",
    "            #scalarMap = plt.cm.ScalarMappable(norm=cNorm, cmap=my_cmap)\n",
    "\n",
    "            if icount == len(benchmarks) - 1:\n",
    "                b = bench[0]\n",
    "\n",
    "                spikes = b.spike_positions[0]\n",
    "                units = b.waveforms.sorting.unit_ids\n",
    "                all_x = np.concatenate([spikes[unit_id]['x'] for unit_id in units])\n",
    "                all_y = np.concatenate([spikes[unit_id]['y'] for unit_id in units])\n",
    "                try:\n",
    "                    all_z = np.concatenate([spikes[unit_id]['z'] for unit_id in units])\n",
    "                except Exception:\n",
    "                    all_z = np.nan * np.zeros(len(all_x))\n",
    "\n",
    "                gt_positions = b.gt_positions\n",
    "                real_x = np.concatenate([gt_positions[c, 0]*np.ones(len(spikes[i]['x'])) for c, i in enumerate(units)])\n",
    "                real_y = np.concatenate([gt_positions[c, 1]*np.ones(len(spikes[i]['y'])) for c, i in enumerate(units)])\n",
    "                try:\n",
    "                    real_z = np.concatenate([gt_positions[c, 2]*np.ones(len(spikes[i]['z'])) for c, i in enumerate(units)])\n",
    "                except Exception:\n",
    "                    real_z = np.nan * np.zeros(len(real_x))\n",
    "\n",
    "                dx = np.corrcoef(np.nan_to_num(all_x), real_x)[0, 1]\n",
    "                dy = np.corrcoef(np.nan_to_num(all_y), real_y)[0, 1]\n",
    "                dz = np.corrcoef(np.nan_to_num(all_z), real_z)[0, 1]\n",
    "                ax = axes[jcount, icount+1]\n",
    "                \n",
    "                #x_means = np.array([np.nanmean(dx), np.nanmean(dy), np.nanmean(dz)])\n",
    "                #y_means = np.array([np.nanstd(dx), np.nanstd(dy), np.nanstd(dz)])\n",
    "                x_means = np.array([dx, dy, dz])\n",
    "                \n",
    "                ax.plot(np.arange(3), x_means, c=colors[title], lw=2)\n",
    "                #ax.fill_between(np.arange(len(x_means)), x_means-y_means,x_means+y_means,\n",
    "                #            color=colors[title], alpha=0.05)\n",
    "                _simpleaxis(ax)\n",
    "                \n",
    "                ax.set_ylabel('corrcoef')\n",
    "                #if jcount == 0:\n",
    "                ax.set_xticks(np.arange(3), ['x', 'y', 'z'])\n",
    "               # ax.set_ylim(0, 45)\n",
    "            \n",
    "            ax = axes[jcount, icount]\n",
    "            \n",
    "            _simpleaxis(ax)\n",
    "\n",
    "            x_means = []\n",
    "            y_means = []\n",
    "            y_stds = []\n",
    "            labels = []\n",
    "            \n",
    "            for b in bench:\n",
    "                x_means += [np.mean(b.medians_over_templates)]\n",
    "                #x_stds += [np.std(b.medians_over_templates)]\n",
    "                y_means += [np.mean(b.mads_over_templates)]\n",
    "                #y_stds += [np.std(b.mads_over_templates)]\n",
    "                #colors += [scalarMap.to_rgba(key)]\n",
    "                #label = b.title.replace('Mononopolar', '')\n",
    "                #label = label.replace('CoM (ptp)', '')\n",
    "                #label = label.replace('Grid', '')\n",
    "                #label = label.replace('[', '')\n",
    "                #label = label.replace(']', '')\n",
    "                #labels += [label]\n",
    "                #title = b.title\n",
    "            xaxis = benchmark['xaxis']\n",
    "                #ax.scatter(x_means, y_means, c=colors, label=label, s=200, edgecolor='k')\n",
    "            \n",
    "            x_means = np.array(x_means)\n",
    "            y_means = np.array(y_means)\n",
    "            ax.plot(xaxis, x_means, color=colors[title], lw=2, label=title)\n",
    "            ax.fill_between(xaxis, x_means-y_means,x_means+y_means,\n",
    "                            color=colors[title], alpha=0.05)\n",
    "                \n",
    "            #ax.errorbar(x_means, y_means, xerr=x_stds, yerr=y_stds, fmt='.', c='0.5', alpha=0.5)\n",
    "                \n",
    "    \n",
    "            #ax.legend(loc='lower right')\n",
    "            \n",
    "            if icount == 0:\n",
    "                ax.set_ylabel('error medians (um)')\n",
    "            else:\n",
    "                ax.set_yticks([])\n",
    "            \n",
    "            if jcount == 2:\n",
    "                if icount == 0:\n",
    "                    ax.set_xlabel('Time (ms)')\n",
    "                elif icount == 1:\n",
    "                    ax.set_xlabel('Radius (um)')\n",
    "                elif icount == 2:\n",
    "                    ax.set_xlabel('Cutoff (Hz)')\n",
    "            else:\n",
    "                ax.set_xticks([])\n",
    "                #ax.set_xlim(7, 9)\n",
    "            #    ax.set_xticks([])\n",
    "            #else:\n",
    "            #    ax.set_xticks(np.arange(len(labels)), labels, rotation=45)\n",
    "                #ax.set_xlim(12, 14)\n",
    "            \n",
    "            #ymin, ymax = ax.get_ylim()\n",
    "            \n",
    "            ax.set_ylim(5, 35)\n",
    "            #else:\n",
    "            #    ax.set_ylim(0, 2)\n",
    "                #ax.set_xlim(5, 20)\n",
    "            \n",
    "            #ax.set_title(method)\n",
    "        axes[jcount, 0].legend()"
   ]
  },
  {
   "cell_type": "code",
   "execution_count": 24,
   "metadata": {},
   "outputs": [
    {
     "name": "stderr",
     "output_type": "stream",
     "text": [
      "/home/cure/anaconda3/envs/circus/lib/python3.10/site-packages/numpy/lib/function_base.py:2897: RuntimeWarning: invalid value encountered in divide\n",
      "  c /= stddev[:, None]\n",
      "/home/cure/anaconda3/envs/circus/lib/python3.10/site-packages/numpy/lib/function_base.py:2897: RuntimeWarning: invalid value encountered in divide\n",
      "  c /= stddev[:, None]\n",
      "/home/cure/anaconda3/envs/circus/lib/python3.10/site-packages/numpy/lib/function_base.py:2897: RuntimeWarning: invalid value encountered in divide\n",
      "  c /= stddev[:, None]\n"
     ]
    },
    {
     "data": {
      "image/png": "[encoded data removed]",
      "text/plain": [
       "<Figure size 1080x504 with 12 Axes>"
      ]
     },
     "metadata": {
      "needs_background": "light"
     },
     "output_type": "display_data"
    }
   ],
   "source": [
    "plot_comparison_precision_2([benchmarks_ms, benchmarks_radius, benchmarks_cutoff], colors=colors)\n",
    "plt.tight_layout()\n",
    "plt.savefig('influence.pdf')"
   ]
  },
  {
   "cell_type": "code",
   "execution_count": null,
   "metadata": {},
   "outputs": [],
   "source": [
    "benchmarks_cutoff['Monopolar (peak_voltage)'] = benchmarks_cutoff.pop('Mononopolar (peak_voltage)')"
   ]
  },
  {
   "cell_type": "code",
   "execution_count": null,
   "metadata": {},
   "outputs": [],
   "source": [
    "benchmarks_cutoff.keys()"
   ]
  },
  {
   "cell_type": "code",
   "execution_count": null,
   "metadata": {},
   "outputs": [],
   "source": [
    "tmp[0]"
   ]
  }
 ],
 "metadata": {
  "kernelspec": {
   "display_name": "Python 3 (ipykernel)",
   "language": "python",
   "name": "python3"
  },
  "language_info": {
   "codemirror_mode": {
    "name": "ipython",
    "version": 3
   },
   "file_extension": ".py",
   "mimetype": "text/x-python",
   "name": "python",
   "nbconvert_exporter": "python",
   "pygments_lexer": "ipython3",
   "version": "3.10.5"
  },
  "vscode": {
   "interpreter": {
    "hash": "b50c9e5c20b80a7fea53278e7b85976e5483a9191b272239eb7a6e566d7885cc"
   }
  }
 },
 "nbformat": 4,
 "nbformat_minor": 4
}
