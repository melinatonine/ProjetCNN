{
 "cells": [
  {
   "cell_type": "code",
   "execution_count": 1,
   "metadata": {},
   "outputs": [],
   "source": [
    "%load_ext autoreload\n",
    "%autoreload 2\n",
    "%matplotlib inline"
   ]
  },
  {
   "cell_type": "markdown",
   "metadata": {},
   "source": [
    "# Notebook to investigate the performance of spike interface in localizing neurons "
   ]
  },
  {
   "cell_type": "code",
   "execution_count": 2,
   "metadata": {},
   "outputs": [
    {
     "name": "stderr",
     "output_type": "stream",
     "text": [
      "hwloc/linux: Ignoring PCI device with non-16bit domain.\n",
      "Pass --enable-32bits-pci-domain to configure to support such devices\n",
      "(warning: it would break the library ABI, don't enable unless really needed).\n"
     ]
    }
   ],
   "source": [
    "import MEArec as mr # what we will use to create a synthetic recording\n",
    "import spikeinterface.full as si  # what we will use to sort the spikes\n",
    "\n",
    "import warnings\n",
    "from probeinterface.plotting import plot_probe\n",
    "from matplotlib import cm\n",
    "from probeinterface import read_prb\n",
    "\n",
    "import time\n",
    "import numpy as np\n",
    "\n",
    "job_kwargs = {'n_jobs' : -1, 'chunk_memory' : '10M', 'verbose': True, 'progress_bar': True}"
   ]
  },
  {
   "cell_type": "code",
   "execution_count": 3,
   "metadata": {},
   "outputs": [],
   "source": [
    "rec = mr.load_recordings('recordings.h5')\n",
    "positions = np.hstack((rec.template_locations[:, 1:3], rec.template_locations[:, 0][:, np.newaxis]))\n",
    "\n",
    "from spikeinterface.sortingcomponents.benchmark.benchmark_peak_localization import BenchmarkPeakLocalization, plot_comparison_positions\n",
    "recording, gt_sorting = si.read_mearec('recordings.h5')\n",
    "recording_f = si.bandpass_filter(recording)\n",
    "recording_f = si.common_reference(recording_f)\n",
    "recording_f = si.zscore(recording_f)"
   ]
  },
  {
   "cell_type": "code",
   "execution_count": 8,
   "metadata": {},
   "outputs": [
    {
     "name": "stderr",
     "output_type": "stream",
     "text": [
      "Exception ignored in: <function BenchmarkPeakLocalization.__del__ at 0x7f01671c45e0>\n",
      "Traceback (most recent call last):\n",
      "  File \"/home/pierre/github/spikeinterface/src/spikeinterface/sortingcomponents/benchmark/benchmark_peak_localization.py\", line 47, in __del__\n",
      "    shutil.rmtree(self.tmp_folder)\n",
      "  File \"/home/pierre/anaconda3/envs/si/lib/python3.9/shutil.py\", line 724, in rmtree\n",
      "    onerror(os.lstat, path, sys.exc_info())\n",
      "  File \"/home/pierre/anaconda3/envs/si/lib/python3.9/shutil.py\", line 722, in rmtree\n",
      "    orig_st = os.lstat(path)\n",
      "FileNotFoundError: [Errno 2] No such file or directory: './CV03K3B3'\n",
      "Exception ignored in: <function BenchmarkPeakLocalization.__del__ at 0x7f01671c45e0>\n",
      "Traceback (most recent call last):\n",
      "  File \"/home/pierre/github/spikeinterface/src/spikeinterface/sortingcomponents/benchmark/benchmark_peak_localization.py\", line 47, in __del__\n",
      "    shutil.rmtree(self.tmp_folder)\n",
      "  File \"/home/pierre/anaconda3/envs/si/lib/python3.9/shutil.py\", line 724, in rmtree\n",
      "    onerror(os.lstat, path, sys.exc_info())\n",
      "  File \"/home/pierre/anaconda3/envs/si/lib/python3.9/shutil.py\", line 722, in rmtree\n",
      "    orig_st = os.lstat(path)\n",
      "FileNotFoundError: [Errno 2] No such file or directory: './2CFXEUA1'\n",
      "Exception ignored in: <function BenchmarkPeakLocalization.__del__ at 0x7f01671c45e0>\n",
      "Traceback (most recent call last):\n",
      "  File \"/home/pierre/github/spikeinterface/src/spikeinterface/sortingcomponents/benchmark/benchmark_peak_localization.py\", line 47, in __del__\n",
      "    shutil.rmtree(self.tmp_folder)\n",
      "  File \"/home/pierre/anaconda3/envs/si/lib/python3.9/shutil.py\", line 724, in rmtree\n",
      "    onerror(os.lstat, path, sys.exc_info())\n",
      "  File \"/home/pierre/anaconda3/envs/si/lib/python3.9/shutil.py\", line 722, in rmtree\n",
      "    orig_st = os.lstat(path)\n",
      "FileNotFoundError: [Errno 2] No such file or directory: './A0LAFZ5C'\n",
      "Exception ignored in: <function BenchmarkPeakLocalization.__del__ at 0x7f01671c45e0>\n",
      "Traceback (most recent call last):\n",
      "  File \"/home/pierre/github/spikeinterface/src/spikeinterface/sortingcomponents/benchmark/benchmark_peak_localization.py\", line 47, in __del__\n",
      "    shutil.rmtree(self.tmp_folder)\n",
      "  File \"/home/pierre/anaconda3/envs/si/lib/python3.9/shutil.py\", line 724, in rmtree\n",
      "    onerror(os.lstat, path, sys.exc_info())\n",
      "  File \"/home/pierre/anaconda3/envs/si/lib/python3.9/shutil.py\", line 722, in rmtree\n",
      "    orig_st = os.lstat(path)\n",
      "FileNotFoundError: [Errno 2] No such file or directory: './09CE38VX'\n",
      "Exception ignored in: <function BenchmarkPeakLocalization.__del__ at 0x7f01671c45e0>\n",
      "Traceback (most recent call last):\n",
      "  File \"/home/pierre/github/spikeinterface/src/spikeinterface/sortingcomponents/benchmark/benchmark_peak_localization.py\", line 47, in __del__\n",
      "    shutil.rmtree(self.tmp_folder)\n",
      "  File \"/home/pierre/anaconda3/envs/si/lib/python3.9/shutil.py\", line 724, in rmtree\n",
      "    onerror(os.lstat, path, sys.exc_info())\n",
      "  File \"/home/pierre/anaconda3/envs/si/lib/python3.9/shutil.py\", line 722, in rmtree\n",
      "    orig_st = os.lstat(path)\n",
      "FileNotFoundError: [Errno 2] No such file or directory: './DMLIKFX1'\n",
      "Exception ignored in: <function BenchmarkPeakLocalization.__del__ at 0x7f01671c45e0>\n",
      "Traceback (most recent call last):\n",
      "  File \"/home/pierre/github/spikeinterface/src/spikeinterface/sortingcomponents/benchmark/benchmark_peak_localization.py\", line 47, in __del__\n",
      "    shutil.rmtree(self.tmp_folder)\n",
      "  File \"/home/pierre/anaconda3/envs/si/lib/python3.9/shutil.py\", line 724, in rmtree\n",
      "    onerror(os.lstat, path, sys.exc_info())\n",
      "  File \"/home/pierre/anaconda3/envs/si/lib/python3.9/shutil.py\", line 722, in rmtree\n",
      "    orig_st = os.lstat(path)\n",
      "FileNotFoundError: [Errno 2] No such file or directory: './J9A4EQ6G'\n"
     ]
    },
    {
     "name": "stdout",
     "output_type": "stream",
     "text": [
      "extract waveforms memmap with n_jobs = 20 and chunk_size = 9765\n"
     ]
    },
    {
     "data": {
      "application/vnd.jupyter.widget-view+json": {
       "model_id": "9b221342efa9490abd2af68064123385",
       "version_major": 2,
       "version_minor": 0
      },
      "text/plain": [
       "extract waveforms memmap:   0%|          | 0/33 [00:00<?, ?it/s]"
      ]
     },
     "metadata": {},
     "output_type": "display_data"
    },
    {
     "name": "stdout",
     "output_type": "stream",
     "text": [
      "localize peaks using center_of_mass with n_jobs = 20 and chunk_size = 9765\n"
     ]
    },
    {
     "data": {
      "application/vnd.jupyter.widget-view+json": {
       "model_id": "20e1d701a59040a8bceedb9eaa199be2",
       "version_major": 2,
       "version_minor": 0
      },
      "text/plain": [
       "localize peaks using center_of_mass:   0%|          | 0/33 [00:00<?, ?it/s]"
      ]
     },
     "metadata": {},
     "output_type": "display_data"
    },
    {
     "name": "stdout",
     "output_type": "stream",
     "text": [
      "localize peaks using center_of_mass with n_jobs = 20 and chunk_size = 9765\n"
     ]
    },
    {
     "data": {
      "application/vnd.jupyter.widget-view+json": {
       "model_id": "2c39a882ec1e4bd3b3a453f2661d7829",
       "version_major": 2,
       "version_minor": 0
      },
      "text/plain": [
       "localize peaks using center_of_mass:   0%|          | 0/33 [00:00<?, ?it/s]"
      ]
     },
     "metadata": {},
     "output_type": "display_data"
    },
    {
     "name": "stdout",
     "output_type": "stream",
     "text": [
      "localize peaks using center_of_mass with n_jobs = 20 and chunk_size = 9765\n"
     ]
    },
    {
     "data": {
      "application/vnd.jupyter.widget-view+json": {
       "model_id": "f236c9582bad40f5b7ab8a74b233b3f1",
       "version_major": 2,
       "version_minor": 0
      },
      "text/plain": [
       "localize peaks using center_of_mass:   0%|          | 0/33 [00:00<?, ?it/s]"
      ]
     },
     "metadata": {},
     "output_type": "display_data"
    },
    {
     "name": "stdout",
     "output_type": "stream",
     "text": [
      "localize peaks using monopolar_triangulation with n_jobs = 20 and chunk_size = 9765\n"
     ]
    },
    {
     "data": {
      "application/vnd.jupyter.widget-view+json": {
       "model_id": "bf532e188b644936bba92b7725bd4c27",
       "version_major": 2,
       "version_minor": 0
      },
      "text/plain": [
       "localize peaks using monopolar_triangulation:   0%|          | 0/33 [00:00<?, ?it/s]"
      ]
     },
     "metadata": {},
     "output_type": "display_data"
    },
    {
     "name": "stdout",
     "output_type": "stream",
     "text": [
      "localize peaks using monopolar_triangulation with n_jobs = 20 and chunk_size = 9765\n"
     ]
    },
    {
     "data": {
      "application/vnd.jupyter.widget-view+json": {
       "model_id": "3d403706ad654db087e3c30b09b9c626",
       "version_major": 2,
       "version_minor": 0
      },
      "text/plain": [
       "localize peaks using monopolar_triangulation:   0%|          | 0/33 [00:00<?, ?it/s]"
      ]
     },
     "metadata": {},
     "output_type": "display_data"
    },
    {
     "name": "stdout",
     "output_type": "stream",
     "text": [
      "localize peaks using monopolar_triangulation with n_jobs = 20 and chunk_size = 9765\n"
     ]
    },
    {
     "data": {
      "application/vnd.jupyter.widget-view+json": {
       "model_id": "a53ec79b9b114aa693320861314ffde3",
       "version_major": 2,
       "version_minor": 0
      },
      "text/plain": [
       "localize peaks using monopolar_triangulation:   0%|          | 0/33 [00:00<?, ?it/s]"
      ]
     },
     "metadata": {},
     "output_type": "display_data"
    },
    {
     "name": "stdout",
     "output_type": "stream",
     "text": [
      "pipeline with n_jobs = 20 and chunk_size = 9765\n"
     ]
    },
    {
     "data": {
      "application/vnd.jupyter.widget-view+json": {
       "model_id": "4f6dddc13da84f66928c672283d53f93",
       "version_major": 2,
       "version_minor": 0
      },
      "text/plain": [
       "pipeline:   0%|          | 0/33 [00:00<?, ?it/s]"
      ]
     },
     "metadata": {},
     "output_type": "display_data"
    },
    {
     "name": "stdout",
     "output_type": "stream",
     "text": [
      "localize peaks using grid_convolution with n_jobs = 20 and chunk_size = 9765\n"
     ]
    },
    {
     "data": {
      "application/vnd.jupyter.widget-view+json": {
       "model_id": "9c4d809f4c8f42429fd620eae35e64c1",
       "version_major": 2,
       "version_minor": 0
      },
      "text/plain": [
       "localize peaks using grid_convolution:   0%|          | 0/33 [00:00<?, ?it/s]"
      ]
     },
     "metadata": {},
     "output_type": "display_data"
    }
   ],
   "source": [
    "benchmarks = []\n",
    "waveforms = None\n",
    "for method in ['center_of_mass', 'monopolar_triangulation', 'grid_convolution']:\n",
    "    if method == 'center_of_mass':\n",
    "        for feature in ['ptp', 'energy', 'peak_voltage']:\n",
    "            title = f'CoM ({feature})'\n",
    "            params = {'feature' : feature}\n",
    "            bench = BenchmarkPeakLocalization(recording_f, gt_sorting, positions, job_kwargs=job_kwargs, title=title)\n",
    "            if waveforms is not None:\n",
    "                bench.waveforms = waveforms\n",
    "            bench.run(method, params)\n",
    "            waveforms = bench.waveforms\n",
    "            benchmarks.append(bench)\n",
    "    elif method == 'monopolar_triangulation':\n",
    "        for feature in ['ptp', 'energy', 'peak_voltage']:\n",
    "            title = f'Monopolar ({feature})'\n",
    "            params = {'enforce_decrease': True, 'feature' : feature}\n",
    "            bench = BenchmarkPeakLocalization(recording_f, gt_sorting, positions, job_kwargs=job_kwargs, title=title)\n",
    "            if waveforms is not None:\n",
    "                bench.waveforms = waveforms\n",
    "            bench.run(method, params)\n",
    "            waveforms = bench.waveforms\n",
    "            benchmarks.append(bench)\n",
    "    elif method == 'grid_convolution':\n",
    "        title = 'Grid'\n",
    "        params = {}\n",
    "        bench = BenchmarkPeakLocalization(recording_f, gt_sorting, positions, job_kwargs=job_kwargs, title=title)\n",
    "        if waveforms is not None:\n",
    "            bench.waveforms = waveforms\n",
    "        bench.run(method, params)\n",
    "        waveforms = bench.waveforms\n",
    "        benchmarks.append(bench)\n",
    "    \n",
    "    "
   ]
  },
  {
   "cell_type": "code",
   "execution_count": 10,
   "metadata": {
    "scrolled": true
   },
   "outputs": [
    {
     "name": "stdout",
     "output_type": "stream",
     "text": [
      "GridSpec(4, 3)\n"
     ]
    },
    {
     "data": {
      "image/png": "[encoded data removed]",
      "text/plain": [
       "<Figure size 1500x1000 with 8 Axes>"
      ]
     },
     "metadata": {},
     "output_type": "display_data"
    }
   ],
   "source": [
    "colors = {}\n",
    "\n",
    "import matplotlib as mpl\n",
    "\n",
    "cmap = mpl.cm.tab20c\n",
    "norm = mpl.colors.Normalize(vmin=0, vmax=1)\n",
    "\n",
    "\n",
    "\n",
    "for value, bench in zip([0,0.05,0.1,0.4,0.45,0.5,0.8], benchmarks):    \n",
    "    colors[bench.title] = mpl.cm.ScalarMappable(norm=norm, cmap=cmap).to_rgba(value)\n",
    "    \n",
    "plot_comparison_positions(benchmarks, colors=colors)\n",
    "import pylab as plt\n",
    "plt.savefig('comparison.pdf')"
   ]
  },
  {
   "cell_type": "code",
   "execution_count": 182,
   "metadata": {},
   "outputs": [
    {
     "name": "stdout",
     "output_type": "stream",
     "text": [
      "ZScoreRecording: 256 channels - 32.0kHz - 1 segments - 320,000 samples - 10.00s - float32 dtype \n",
      "                 312.50 MiB\n",
      "extract waveforms shared_memory with n_jobs = 72 and chunk_size = 9765\n"
     ]
    },
    {
     "data": {
      "application/vnd.jupyter.widget-view+json": {
       "model_id": "bc8b9be70e434158b8120abbd1b9fe54",
       "version_major": 2,
       "version_minor": 0
      },
      "text/plain": [
       "extract waveforms shared_memory:   0%|          | 0/33 [00:00<?, ?it/s]"
      ]
     },
     "metadata": {},
     "output_type": "display_data"
    },
    {
     "name": "stdout",
     "output_type": "stream",
     "text": [
      "extract waveforms shared_memory with n_jobs = 72 and chunk_size = 9765\n"
     ]
    },
    {
     "data": {
      "application/vnd.jupyter.widget-view+json": {
       "model_id": "bb5955d41dba445a91b6819da4323e73",
       "version_major": 2,
       "version_minor": 0
      },
      "text/plain": [
       "extract waveforms shared_memory:   0%|          | 0/33 [00:00<?, ?it/s]"
      ]
     },
     "metadata": {},
     "output_type": "display_data"
    },
    {
     "name": "stdout",
     "output_type": "stream",
     "text": [
      "extract waveforms shared_memory with n_jobs = 72 and chunk_size = 9765\n"
     ]
    },
    {
     "data": {
      "application/vnd.jupyter.widget-view+json": {
       "model_id": "0ff59e20cdfb445290012816311220a1",
       "version_major": 2,
       "version_minor": 0
      },
      "text/plain": [
       "extract waveforms shared_memory:   0%|          | 0/33 [00:00<?, ?it/s]"
      ]
     },
     "metadata": {},
     "output_type": "display_data"
    },
    {
     "data": {
      "image/png": "[encoded data removed]",
      "text/plain": [
       "<Figure size 1080x720 with 4 Axes>"
      ]
     },
     "metadata": {
      "needs_background": "light"
     },
     "output_type": "display_data"
    }
   ],
   "source": [
    "plot_figure_1(benchmarks[0])\n",
    "plt.savefig('illustation_bis.pdf')"
   ]
  },
  {
   "cell_type": "code",
   "execution_count": 179,
   "metadata": {},
   "outputs": [
    {
     "data": {
      "text/plain": [
       "<Figure size 432x288 with 0 Axes>"
      ]
     },
     "metadata": {},
     "output_type": "display_data"
    }
   ],
   "source": [
    "plt.savefig('illustation.pdf')"
   ]
  },
  {
   "cell_type": "code",
   "execution_count": 11,
   "metadata": {},
   "outputs": [],
   "source": [
    "from spikeinterface.sortingcomponents.benchmark.benchmark_peak_localization import BenchmarkPeakLocalization, plot_figure_1"
   ]
  },
  {
   "cell_type": "code",
   "execution_count": 12,
   "metadata": {},
   "outputs": [],
   "source": [
    "from spikeinterface.sortingcomponents.benchmark.benchmark_peak_localization import plot_comparison_precision"
   ]
  },
  {
   "cell_type": "code",
   "execution_count": 13,
   "metadata": {
    "scrolled": true
   },
   "outputs": [
    {
     "name": "stdout",
     "output_type": "stream",
     "text": [
      "extract waveforms memmap with n_jobs = 20 and chunk_size = 9765\n"
     ]
    },
    {
     "data": {
      "application/vnd.jupyter.widget-view+json": {
       "model_id": "3861da7dea4c45da8e8e36fab6b2a0e3",
       "version_major": 2,
       "version_minor": 0
      },
      "text/plain": [
       "extract waveforms memmap:   0%|          | 0/33 [00:00<?, ?it/s]"
      ]
     },
     "metadata": {},
     "output_type": "display_data"
    },
    {
     "name": "stdout",
     "output_type": "stream",
     "text": [
      "localize peaks using monopolar_triangulation with n_jobs = 20 and chunk_size = 9765\n"
     ]
    },
    {
     "data": {
      "application/vnd.jupyter.widget-view+json": {
       "model_id": "8440bf4cb5ae4e0e9b0f0a64cc188aa0",
       "version_major": 2,
       "version_minor": 0
      },
      "text/plain": [
       "localize peaks using monopolar_triangulation:   0%|          | 0/33 [00:00<?, ?it/s]"
      ]
     },
     "metadata": {},
     "output_type": "display_data"
    },
    {
     "name": "stdout",
     "output_type": "stream",
     "text": [
      "localize peaks using monopolar_triangulation with n_jobs = 20 and chunk_size = 9765\n"
     ]
    },
    {
     "data": {
      "application/vnd.jupyter.widget-view+json": {
       "model_id": "9225a6908ff14c6b814d4f916c4d5a38",
       "version_major": 2,
       "version_minor": 0
      },
      "text/plain": [
       "localize peaks using monopolar_triangulation:   0%|          | 0/33 [00:00<?, ?it/s]"
      ]
     },
     "metadata": {},
     "output_type": "display_data"
    },
    {
     "name": "stdout",
     "output_type": "stream",
     "text": [
      "localize peaks using monopolar_triangulation with n_jobs = 20 and chunk_size = 9765\n"
     ]
    },
    {
     "data": {
      "application/vnd.jupyter.widget-view+json": {
       "model_id": "eb414378d25d4557ac09a494f212a603",
       "version_major": 2,
       "version_minor": 0
      },
      "text/plain": [
       "localize peaks using monopolar_triangulation:   0%|          | 0/33 [00:00<?, ?it/s]"
      ]
     },
     "metadata": {},
     "output_type": "display_data"
    },
    {
     "name": "stdout",
     "output_type": "stream",
     "text": [
      "localize peaks using monopolar_triangulation with n_jobs = 20 and chunk_size = 9765\n"
     ]
    },
    {
     "data": {
      "application/vnd.jupyter.widget-view+json": {
       "model_id": "a38ada2bee094b25ad28485cef8ff769",
       "version_major": 2,
       "version_minor": 0
      },
      "text/plain": [
       "localize peaks using monopolar_triangulation:   0%|          | 0/33 [00:00<?, ?it/s]"
      ]
     },
     "metadata": {},
     "output_type": "display_data"
    },
    {
     "name": "stdout",
     "output_type": "stream",
     "text": [
      "localize peaks using monopolar_triangulation with n_jobs = 20 and chunk_size = 9765\n"
     ]
    },
    {
     "data": {
      "application/vnd.jupyter.widget-view+json": {
       "model_id": "2119a6f4868b4d8099dedd4936cb4b22",
       "version_major": 2,
       "version_minor": 0
      },
      "text/plain": [
       "localize peaks using monopolar_triangulation:   0%|          | 0/33 [00:00<?, ?it/s]"
      ]
     },
     "metadata": {},
     "output_type": "display_data"
    },
    {
     "name": "stdout",
     "output_type": "stream",
     "text": [
      "localize peaks using monopolar_triangulation with n_jobs = 20 and chunk_size = 9765\n"
     ]
    },
    {
     "data": {
      "application/vnd.jupyter.widget-view+json": {
       "model_id": "1a8d6b07dc1e424ba6b5fe0641164457",
       "version_major": 2,
       "version_minor": 0
      },
      "text/plain": [
       "localize peaks using monopolar_triangulation:   0%|          | 0/33 [00:00<?, ?it/s]"
      ]
     },
     "metadata": {},
     "output_type": "display_data"
    },
    {
     "name": "stdout",
     "output_type": "stream",
     "text": [
      "localize peaks using monopolar_triangulation with n_jobs = 20 and chunk_size = 9765\n"
     ]
    },
    {
     "data": {
      "application/vnd.jupyter.widget-view+json": {
       "model_id": "8011a0f99adc4b09943f13b208dd1ffd",
       "version_major": 2,
       "version_minor": 0
      },
      "text/plain": [
       "localize peaks using monopolar_triangulation:   0%|          | 0/33 [00:00<?, ?it/s]"
      ]
     },
     "metadata": {},
     "output_type": "display_data"
    },
    {
     "name": "stdout",
     "output_type": "stream",
     "text": [
      "localize peaks using monopolar_triangulation with n_jobs = 20 and chunk_size = 9765\n"
     ]
    },
    {
     "data": {
      "application/vnd.jupyter.widget-view+json": {
       "model_id": "db895302dac24e08b75aa9e25fd27ea3",
       "version_major": 2,
       "version_minor": 0
      },
      "text/plain": [
       "localize peaks using monopolar_triangulation:   0%|          | 0/33 [00:00<?, ?it/s]"
      ]
     },
     "metadata": {},
     "output_type": "display_data"
    },
    {
     "name": "stdout",
     "output_type": "stream",
     "text": [
      "localize peaks using monopolar_triangulation with n_jobs = 20 and chunk_size = 9765\n"
     ]
    },
    {
     "data": {
      "application/vnd.jupyter.widget-view+json": {
       "model_id": "8de2f21fdf4d4a7d873ac50062b0b324",
       "version_major": 2,
       "version_minor": 0
      },
      "text/plain": [
       "localize peaks using monopolar_triangulation:   0%|          | 0/33 [00:00<?, ?it/s]"
      ]
     },
     "metadata": {},
     "output_type": "display_data"
    },
    {
     "name": "stdout",
     "output_type": "stream",
     "text": [
      "localize peaks using monopolar_triangulation with n_jobs = 20 and chunk_size = 9765\n"
     ]
    },
    {
     "data": {
      "application/vnd.jupyter.widget-view+json": {
       "model_id": "e6c5a34a10894cc689e5741988179892",
       "version_major": 2,
       "version_minor": 0
      },
      "text/plain": [
       "localize peaks using monopolar_triangulation:   0%|          | 0/33 [00:00<?, ?it/s]"
      ]
     },
     "metadata": {},
     "output_type": "display_data"
    },
    {
     "name": "stdout",
     "output_type": "stream",
     "text": [
      "localize peaks using monopolar_triangulation with n_jobs = 20 and chunk_size = 9765\n"
     ]
    },
    {
     "data": {
      "application/vnd.jupyter.widget-view+json": {
       "model_id": "4d8e227ab05b47c78c7011c1fb5d3a78",
       "version_major": 2,
       "version_minor": 0
      },
      "text/plain": [
       "localize peaks using monopolar_triangulation:   0%|          | 0/33 [00:00<?, ?it/s]"
      ]
     },
     "metadata": {},
     "output_type": "display_data"
    },
    {
     "name": "stdout",
     "output_type": "stream",
     "text": [
      "localize peaks using monopolar_triangulation with n_jobs = 20 and chunk_size = 9765\n"
     ]
    },
    {
     "data": {
      "application/vnd.jupyter.widget-view+json": {
       "model_id": "7df8e775304e443f8e81fb5dcc4a1dfb",
       "version_major": 2,
       "version_minor": 0
      },
      "text/plain": [
       "localize peaks using monopolar_triangulation:   0%|          | 0/33 [00:00<?, ?it/s]"
      ]
     },
     "metadata": {},
     "output_type": "display_data"
    },
    {
     "name": "stdout",
     "output_type": "stream",
     "text": [
      "localize peaks using monopolar_triangulation with n_jobs = 20 and chunk_size = 9765\n"
     ]
    },
    {
     "data": {
      "application/vnd.jupyter.widget-view+json": {
       "model_id": "e3063e86affc48129bcbf86a2749c248",
       "version_major": 2,
       "version_minor": 0
      },
      "text/plain": [
       "localize peaks using monopolar_triangulation:   0%|          | 0/33 [00:00<?, ?it/s]"
      ]
     },
     "metadata": {},
     "output_type": "display_data"
    },
    {
     "name": "stdout",
     "output_type": "stream",
     "text": [
      "localize peaks using monopolar_triangulation with n_jobs = 20 and chunk_size = 9765\n"
     ]
    },
    {
     "data": {
      "application/vnd.jupyter.widget-view+json": {
       "model_id": "441c95cf22ca42aaa72e3899ef133137",
       "version_major": 2,
       "version_minor": 0
      },
      "text/plain": [
       "localize peaks using monopolar_triangulation:   0%|          | 0/33 [00:00<?, ?it/s]"
      ]
     },
     "metadata": {},
     "output_type": "display_data"
    },
    {
     "name": "stdout",
     "output_type": "stream",
     "text": [
      "localize peaks using monopolar_triangulation with n_jobs = 20 and chunk_size = 9765\n"
     ]
    },
    {
     "data": {
      "application/vnd.jupyter.widget-view+json": {
       "model_id": "e35bab7b9155453b98c288e7d698c24a",
       "version_major": 2,
       "version_minor": 0
      },
      "text/plain": [
       "localize peaks using monopolar_triangulation:   0%|          | 0/33 [00:00<?, ?it/s]"
      ]
     },
     "metadata": {},
     "output_type": "display_data"
    },
    {
     "name": "stdout",
     "output_type": "stream",
     "text": [
      "localize peaks using monopolar_triangulation with n_jobs = 20 and chunk_size = 9765\n"
     ]
    },
    {
     "data": {
      "application/vnd.jupyter.widget-view+json": {
       "model_id": "3b96ee45ae0d4b09b7a144c2c3cf43d5",
       "version_major": 2,
       "version_minor": 0
      },
      "text/plain": [
       "localize peaks using monopolar_triangulation:   0%|          | 0/33 [00:00<?, ?it/s]"
      ]
     },
     "metadata": {},
     "output_type": "display_data"
    },
    {
     "name": "stdout",
     "output_type": "stream",
     "text": [
      "localize peaks using monopolar_triangulation with n_jobs = 20 and chunk_size = 9765\n"
     ]
    },
    {
     "data": {
      "application/vnd.jupyter.widget-view+json": {
       "model_id": "a61fe79125304030b9e445591db196f2",
       "version_major": 2,
       "version_minor": 0
      },
      "text/plain": [
       "localize peaks using monopolar_triangulation:   0%|          | 0/33 [00:00<?, ?it/s]"
      ]
     },
     "metadata": {},
     "output_type": "display_data"
    },
    {
     "name": "stdout",
     "output_type": "stream",
     "text": [
      "localize peaks using monopolar_triangulation with n_jobs = 20 and chunk_size = 9765\n"
     ]
    },
    {
     "data": {
      "application/vnd.jupyter.widget-view+json": {
       "model_id": "5eb8268d4a204f1a902fe72595bfdf51",
       "version_major": 2,
       "version_minor": 0
      },
      "text/plain": [
       "localize peaks using monopolar_triangulation:   0%|          | 0/33 [00:00<?, ?it/s]"
      ]
     },
     "metadata": {},
     "output_type": "display_data"
    },
    {
     "name": "stdout",
     "output_type": "stream",
     "text": [
      "localize peaks using center_of_mass with n_jobs = 20 and chunk_size = 9765\n"
     ]
    },
    {
     "data": {
      "application/vnd.jupyter.widget-view+json": {
       "model_id": "09fe88546c9443e59acd1b3ef221617e",
       "version_major": 2,
       "version_minor": 0
      },
      "text/plain": [
       "localize peaks using center_of_mass:   0%|          | 0/33 [00:00<?, ?it/s]"
      ]
     },
     "metadata": {},
     "output_type": "display_data"
    },
    {
     "name": "stdout",
     "output_type": "stream",
     "text": [
      "localize peaks using center_of_mass with n_jobs = 20 and chunk_size = 9765\n"
     ]
    },
    {
     "data": {
      "application/vnd.jupyter.widget-view+json": {
       "model_id": "b2fed986deea48c293313724691b7896",
       "version_major": 2,
       "version_minor": 0
      },
      "text/plain": [
       "localize peaks using center_of_mass:   0%|          | 0/33 [00:00<?, ?it/s]"
      ]
     },
     "metadata": {},
     "output_type": "display_data"
    },
    {
     "name": "stdout",
     "output_type": "stream",
     "text": [
      "localize peaks using center_of_mass with n_jobs = 20 and chunk_size = 9765\n"
     ]
    },
    {
     "data": {
      "application/vnd.jupyter.widget-view+json": {
       "model_id": "b57f700d92ba41be810c20872328b4f0",
       "version_major": 2,
       "version_minor": 0
      },
      "text/plain": [
       "localize peaks using center_of_mass:   0%|          | 0/33 [00:00<?, ?it/s]"
      ]
     },
     "metadata": {},
     "output_type": "display_data"
    },
    {
     "name": "stdout",
     "output_type": "stream",
     "text": [
      "localize peaks using center_of_mass with n_jobs = 20 and chunk_size = 9765\n"
     ]
    },
    {
     "data": {
      "application/vnd.jupyter.widget-view+json": {
       "model_id": "0a6fb2d4aeba464dab879fbb42d83982",
       "version_major": 2,
       "version_minor": 0
      },
      "text/plain": [
       "localize peaks using center_of_mass:   0%|          | 0/33 [00:00<?, ?it/s]"
      ]
     },
     "metadata": {},
     "output_type": "display_data"
    },
    {
     "name": "stdout",
     "output_type": "stream",
     "text": [
      "localize peaks using center_of_mass with n_jobs = 20 and chunk_size = 9765\n"
     ]
    },
    {
     "data": {
      "application/vnd.jupyter.widget-view+json": {
       "model_id": "bdb33edf19544e36a7e8da017fb7a1c2",
       "version_major": 2,
       "version_minor": 0
      },
      "text/plain": [
       "localize peaks using center_of_mass:   0%|          | 0/33 [00:00<?, ?it/s]"
      ]
     },
     "metadata": {},
     "output_type": "display_data"
    },
    {
     "name": "stdout",
     "output_type": "stream",
     "text": [
      "localize peaks using center_of_mass with n_jobs = 20 and chunk_size = 9765\n"
     ]
    },
    {
     "data": {
      "application/vnd.jupyter.widget-view+json": {
       "model_id": "a55fd2f4cb1741c39b0125a09b691205",
       "version_major": 2,
       "version_minor": 0
      },
      "text/plain": [
       "localize peaks using center_of_mass:   0%|          | 0/33 [00:00<?, ?it/s]"
      ]
     },
     "metadata": {},
     "output_type": "display_data"
    },
    {
     "name": "stdout",
     "output_type": "stream",
     "text": [
      "localize peaks using center_of_mass with n_jobs = 20 and chunk_size = 9765\n"
     ]
    },
    {
     "data": {
      "application/vnd.jupyter.widget-view+json": {
       "model_id": "9be043cee1dc4a55a6d016b631fa644c",
       "version_major": 2,
       "version_minor": 0
      },
      "text/plain": [
       "localize peaks using center_of_mass:   0%|          | 0/33 [00:00<?, ?it/s]"
      ]
     },
     "metadata": {},
     "output_type": "display_data"
    },
    {
     "name": "stdout",
     "output_type": "stream",
     "text": [
      "localize peaks using center_of_mass with n_jobs = 20 and chunk_size = 9765\n"
     ]
    },
    {
     "data": {
      "application/vnd.jupyter.widget-view+json": {
       "model_id": "66e9625f644542d59cbd4c9bb29296ad",
       "version_major": 2,
       "version_minor": 0
      },
      "text/plain": [
       "localize peaks using center_of_mass:   0%|          | 0/33 [00:00<?, ?it/s]"
      ]
     },
     "metadata": {},
     "output_type": "display_data"
    },
    {
     "name": "stdout",
     "output_type": "stream",
     "text": [
      "localize peaks using center_of_mass with n_jobs = 20 and chunk_size = 9765\n"
     ]
    },
    {
     "data": {
      "application/vnd.jupyter.widget-view+json": {
       "model_id": "3bfba240dd754fdaa1856aecd6316f41",
       "version_major": 2,
       "version_minor": 0
      },
      "text/plain": [
       "localize peaks using center_of_mass:   0%|          | 0/33 [00:00<?, ?it/s]"
      ]
     },
     "metadata": {},
     "output_type": "display_data"
    },
    {
     "name": "stdout",
     "output_type": "stream",
     "text": [
      "localize peaks using center_of_mass with n_jobs = 20 and chunk_size = 9765\n"
     ]
    },
    {
     "data": {
      "application/vnd.jupyter.widget-view+json": {
       "model_id": "bdcd2959fd0f47bca45c888b9a7d5640",
       "version_major": 2,
       "version_minor": 0
      },
      "text/plain": [
       "localize peaks using center_of_mass:   0%|          | 0/33 [00:00<?, ?it/s]"
      ]
     },
     "metadata": {},
     "output_type": "display_data"
    },
    {
     "name": "stdout",
     "output_type": "stream",
     "text": [
      "localize peaks using center_of_mass with n_jobs = 20 and chunk_size = 9765\n"
     ]
    },
    {
     "data": {
      "application/vnd.jupyter.widget-view+json": {
       "model_id": "2e75df9d557b4b699dd9aa7a4874b139",
       "version_major": 2,
       "version_minor": 0
      },
      "text/plain": [
       "localize peaks using center_of_mass:   0%|          | 0/33 [00:00<?, ?it/s]"
      ]
     },
     "metadata": {},
     "output_type": "display_data"
    },
    {
     "name": "stdout",
     "output_type": "stream",
     "text": [
      "localize peaks using center_of_mass with n_jobs = 20 and chunk_size = 9765\n"
     ]
    },
    {
     "data": {
      "application/vnd.jupyter.widget-view+json": {
       "model_id": "009c653498dc4f8788db9a1ca6329b79",
       "version_major": 2,
       "version_minor": 0
      },
      "text/plain": [
       "localize peaks using center_of_mass:   0%|          | 0/33 [00:00<?, ?it/s]"
      ]
     },
     "metadata": {},
     "output_type": "display_data"
    },
    {
     "name": "stdout",
     "output_type": "stream",
     "text": [
      "localize peaks using center_of_mass with n_jobs = 20 and chunk_size = 9765\n"
     ]
    },
    {
     "data": {
      "application/vnd.jupyter.widget-view+json": {
       "model_id": "dd7092dcc58f4b2bafad64ec8d0ab22f",
       "version_major": 2,
       "version_minor": 0
      },
      "text/plain": [
       "localize peaks using center_of_mass:   0%|          | 0/33 [00:00<?, ?it/s]"
      ]
     },
     "metadata": {},
     "output_type": "display_data"
    },
    {
     "name": "stdout",
     "output_type": "stream",
     "text": [
      "localize peaks using center_of_mass with n_jobs = 20 and chunk_size = 9765\n"
     ]
    },
    {
     "data": {
      "application/vnd.jupyter.widget-view+json": {
       "model_id": "5bc173d65dbb45dfa2249ab0a55d3795",
       "version_major": 2,
       "version_minor": 0
      },
      "text/plain": [
       "localize peaks using center_of_mass:   0%|          | 0/33 [00:00<?, ?it/s]"
      ]
     },
     "metadata": {},
     "output_type": "display_data"
    },
    {
     "name": "stdout",
     "output_type": "stream",
     "text": [
      "localize peaks using center_of_mass with n_jobs = 20 and chunk_size = 9765\n"
     ]
    },
    {
     "data": {
      "application/vnd.jupyter.widget-view+json": {
       "model_id": "42e358d1406f4f7bba99ba61fd2c72a8",
       "version_major": 2,
       "version_minor": 0
      },
      "text/plain": [
       "localize peaks using center_of_mass:   0%|          | 0/33 [00:00<?, ?it/s]"
      ]
     },
     "metadata": {},
     "output_type": "display_data"
    },
    {
     "name": "stdout",
     "output_type": "stream",
     "text": [
      "localize peaks using center_of_mass with n_jobs = 20 and chunk_size = 9765\n"
     ]
    },
    {
     "data": {
      "application/vnd.jupyter.widget-view+json": {
       "model_id": "54e50f245f054712b402bb2976f204cc",
       "version_major": 2,
       "version_minor": 0
      },
      "text/plain": [
       "localize peaks using center_of_mass:   0%|          | 0/33 [00:00<?, ?it/s]"
      ]
     },
     "metadata": {},
     "output_type": "display_data"
    },
    {
     "name": "stdout",
     "output_type": "stream",
     "text": [
      "localize peaks using center_of_mass with n_jobs = 20 and chunk_size = 9765\n"
     ]
    },
    {
     "data": {
      "application/vnd.jupyter.widget-view+json": {
       "model_id": "e74a56784f534b2db40a36f97ec06ad3",
       "version_major": 2,
       "version_minor": 0
      },
      "text/plain": [
       "localize peaks using center_of_mass:   0%|          | 0/33 [00:00<?, ?it/s]"
      ]
     },
     "metadata": {},
     "output_type": "display_data"
    },
    {
     "name": "stdout",
     "output_type": "stream",
     "text": [
      "localize peaks using center_of_mass with n_jobs = 20 and chunk_size = 9765\n"
     ]
    },
    {
     "data": {
      "application/vnd.jupyter.widget-view+json": {
       "model_id": "cc782b24d9ff48c29275908eb9a71fd6",
       "version_major": 2,
       "version_minor": 0
      },
      "text/plain": [
       "localize peaks using center_of_mass:   0%|          | 0/33 [00:00<?, ?it/s]"
      ]
     },
     "metadata": {},
     "output_type": "display_data"
    },
    {
     "name": "stdout",
     "output_type": "stream",
     "text": [
      "pipeline with n_jobs = 20 and chunk_size = 9765\n"
     ]
    },
    {
     "data": {
      "application/vnd.jupyter.widget-view+json": {
       "model_id": "c1e0a534b8274db58549158e0a4e70b9",
       "version_major": 2,
       "version_minor": 0
      },
      "text/plain": [
       "pipeline:   0%|          | 0/33 [00:00<?, ?it/s]"
      ]
     },
     "metadata": {},
     "output_type": "display_data"
    },
    {
     "name": "stdout",
     "output_type": "stream",
     "text": [
      "localize peaks using grid_convolution with n_jobs = 20 and chunk_size = 9765\n"
     ]
    },
    {
     "data": {
      "application/vnd.jupyter.widget-view+json": {
       "model_id": "239e9f7429cb4d92a552495e7c70115c",
       "version_major": 2,
       "version_minor": 0
      },
      "text/plain": [
       "localize peaks using grid_convolution:   0%|          | 0/33 [00:00<?, ?it/s]"
      ]
     },
     "metadata": {},
     "output_type": "display_data"
    },
    {
     "name": "stdout",
     "output_type": "stream",
     "text": [
      "pipeline with n_jobs = 20 and chunk_size = 9765\n"
     ]
    },
    {
     "data": {
      "application/vnd.jupyter.widget-view+json": {
       "model_id": "06e49ae3b0684c70ab7196f9def4a52e",
       "version_major": 2,
       "version_minor": 0
      },
      "text/plain": [
       "pipeline:   0%|          | 0/33 [00:00<?, ?it/s]"
      ]
     },
     "metadata": {},
     "output_type": "display_data"
    },
    {
     "name": "stdout",
     "output_type": "stream",
     "text": [
      "localize peaks using grid_convolution with n_jobs = 20 and chunk_size = 9765\n"
     ]
    },
    {
     "data": {
      "application/vnd.jupyter.widget-view+json": {
       "model_id": "78f68f895c214dd0b9f9aab2d4addee1",
       "version_major": 2,
       "version_minor": 0
      },
      "text/plain": [
       "localize peaks using grid_convolution:   0%|          | 0/33 [00:00<?, ?it/s]"
      ]
     },
     "metadata": {},
     "output_type": "display_data"
    },
    {
     "name": "stdout",
     "output_type": "stream",
     "text": [
      "pipeline with n_jobs = 20 and chunk_size = 9765\n"
     ]
    },
    {
     "data": {
      "application/vnd.jupyter.widget-view+json": {
       "model_id": "f9263bd68157438fab354348f31767a5",
       "version_major": 2,
       "version_minor": 0
      },
      "text/plain": [
       "pipeline:   0%|          | 0/33 [00:00<?, ?it/s]"
      ]
     },
     "metadata": {},
     "output_type": "display_data"
    },
    {
     "name": "stdout",
     "output_type": "stream",
     "text": [
      "localize peaks using grid_convolution with n_jobs = 20 and chunk_size = 9765\n"
     ]
    },
    {
     "data": {
      "application/vnd.jupyter.widget-view+json": {
       "model_id": "9e850d76874c4f50857455310da3b718",
       "version_major": 2,
       "version_minor": 0
      },
      "text/plain": [
       "localize peaks using grid_convolution:   0%|          | 0/33 [00:00<?, ?it/s]"
      ]
     },
     "metadata": {},
     "output_type": "display_data"
    },
    {
     "name": "stdout",
     "output_type": "stream",
     "text": [
      "pipeline with n_jobs = 20 and chunk_size = 9765\n"
     ]
    },
    {
     "data": {
      "application/vnd.jupyter.widget-view+json": {
       "model_id": "fde9b1e34978421a94dbe7a8e59debf1",
       "version_major": 2,
       "version_minor": 0
      },
      "text/plain": [
       "pipeline:   0%|          | 0/33 [00:00<?, ?it/s]"
      ]
     },
     "metadata": {},
     "output_type": "display_data"
    },
    {
     "name": "stdout",
     "output_type": "stream",
     "text": [
      "localize peaks using grid_convolution with n_jobs = 20 and chunk_size = 9765\n"
     ]
    },
    {
     "data": {
      "application/vnd.jupyter.widget-view+json": {
       "model_id": "4fdb474cb9974066863aa18f66ab498f",
       "version_major": 2,
       "version_minor": 0
      },
      "text/plain": [
       "localize peaks using grid_convolution:   0%|          | 0/33 [00:00<?, ?it/s]"
      ]
     },
     "metadata": {},
     "output_type": "display_data"
    },
    {
     "name": "stdout",
     "output_type": "stream",
     "text": [
      "pipeline with n_jobs = 20 and chunk_size = 9765\n"
     ]
    },
    {
     "data": {
      "application/vnd.jupyter.widget-view+json": {
       "model_id": "2176cba7a0714ff4b4bef3b26069ee96",
       "version_major": 2,
       "version_minor": 0
      },
      "text/plain": [
       "pipeline:   0%|          | 0/33 [00:00<?, ?it/s]"
      ]
     },
     "metadata": {},
     "output_type": "display_data"
    },
    {
     "name": "stdout",
     "output_type": "stream",
     "text": [
      "localize peaks using grid_convolution with n_jobs = 20 and chunk_size = 9765\n"
     ]
    },
    {
     "data": {
      "application/vnd.jupyter.widget-view+json": {
       "model_id": "c62c054373c7480eb7ec6f1deb2878a7",
       "version_major": 2,
       "version_minor": 0
      },
      "text/plain": [
       "localize peaks using grid_convolution:   0%|          | 0/33 [00:00<?, ?it/s]"
      ]
     },
     "metadata": {},
     "output_type": "display_data"
    },
    {
     "name": "stdout",
     "output_type": "stream",
     "text": [
      "pipeline with n_jobs = 20 and chunk_size = 9765\n"
     ]
    },
    {
     "data": {
      "application/vnd.jupyter.widget-view+json": {
       "model_id": "2b2480ca811b43288b297251ab7b3302",
       "version_major": 2,
       "version_minor": 0
      },
      "text/plain": [
       "pipeline:   0%|          | 0/33 [00:00<?, ?it/s]"
      ]
     },
     "metadata": {},
     "output_type": "display_data"
    },
    {
     "name": "stdout",
     "output_type": "stream",
     "text": [
      "localize peaks using grid_convolution with n_jobs = 20 and chunk_size = 9765\n"
     ]
    },
    {
     "data": {
      "application/vnd.jupyter.widget-view+json": {
       "model_id": "f3941b292fe9455d94f99944ee4bd661",
       "version_major": 2,
       "version_minor": 0
      },
      "text/plain": [
       "localize peaks using grid_convolution:   0%|          | 0/33 [00:00<?, ?it/s]"
      ]
     },
     "metadata": {},
     "output_type": "display_data"
    }
   ],
   "source": [
    "benchmarks_ms = {}\n",
    "waveforms = None\n",
    "xaxis = [0.25, 0.5, 0.75, 1, 1.25, 1.5]\n",
    "benchmarks_ms['xaxis'] = xaxis\n",
    "\n",
    "for method in ['monopolar_triangulation', 'center_of_mass', 'grid_convolution']:\n",
    "    for t_range in xaxis:\n",
    "        if method == 'monopolar_triangulation':\n",
    "            for feature in ['ptp', 'energy', 'peak_voltage']:\n",
    "                title = f'Monopolar ({feature})'\n",
    "                params = {'enforce_decrease': True, 'ms_before' : t_range, 'ms_after' : t_range, 'feature' : feature}\n",
    "                bench = BenchmarkPeakLocalization(recording_f, gt_sorting, positions, job_kwargs=job_kwargs, title=title)\n",
    "                if waveforms is not None:\n",
    "                    bench.waveforms = waveforms    \n",
    "                bench.run(method, params)\n",
    "                waveforms = bench.waveforms\n",
    "                if title in benchmarks_ms:\n",
    "                    benchmarks_ms[title] += [bench]\n",
    "                else:\n",
    "                    benchmarks_ms[title] = [bench]\n",
    "        elif method == 'center_of_mass':\n",
    "            for feature in ['ptp', 'energy', 'peak_voltage']:\n",
    "                params = {'ms_before' : t_range, 'ms_after' : t_range, 'feature' : feature}\n",
    "                title = f'CoM ({feature})'\n",
    "                bench = BenchmarkPeakLocalization(recording_f, gt_sorting, positions, job_kwargs=job_kwargs, title=title)\n",
    "                if waveforms is not None:\n",
    "                    bench.waveforms = waveforms    \n",
    "                bench.run(method, params)\n",
    "                waveforms = bench.waveforms\n",
    "                if title in benchmarks_ms:\n",
    "                    benchmarks_ms[title] += [bench]\n",
    "                else:\n",
    "                    benchmarks_ms[title] = [bench]\n",
    "        elif method == 'grid_convolution':\n",
    "            params = {'ms_before' : t_range, 'ms_after' : t_range}\n",
    "            title = f'Grid'\n",
    "            bench = BenchmarkPeakLocalization(recording_f, gt_sorting, positions, job_kwargs=job_kwargs, title=title)\n",
    "            if waveforms is not None:\n",
    "                bench.waveforms = waveforms    \n",
    "            bench.run(method, params)\n",
    "            waveforms = bench.waveforms\n",
    "            if title in benchmarks_ms:\n",
    "                benchmarks_ms[title] += [bench]\n",
    "            else:\n",
    "                benchmarks_ms[title] = [bench]\n",
    "\n"
   ]
  },
  {
   "cell_type": "code",
   "execution_count": 15,
   "metadata": {},
   "outputs": [
    {
     "name": "stdout",
     "output_type": "stream",
     "text": [
      "extract waveforms memmap with n_jobs = 20 and chunk_size = 9765\n"
     ]
    },
    {
     "data": {
      "application/vnd.jupyter.widget-view+json": {
       "model_id": "8a0b389804c0460e85547156e8391293",
       "version_major": 2,
       "version_minor": 0
      },
      "text/plain": [
       "extract waveforms memmap:   0%|          | 0/33 [00:00<?, ?it/s]"
      ]
     },
     "metadata": {},
     "output_type": "display_data"
    },
    {
     "name": "stdout",
     "output_type": "stream",
     "text": [
      "localize peaks using monopolar_triangulation with n_jobs = 20 and chunk_size = 9765\n"
     ]
    },
    {
     "data": {
      "application/vnd.jupyter.widget-view+json": {
       "model_id": "dced66faed874718ba53f68d2435538e",
       "version_major": 2,
       "version_minor": 0
      },
      "text/plain": [
       "localize peaks using monopolar_triangulation:   0%|          | 0/33 [00:00<?, ?it/s]"
      ]
     },
     "metadata": {},
     "output_type": "display_data"
    },
    {
     "name": "stdout",
     "output_type": "stream",
     "text": [
      "localize peaks using monopolar_triangulation with n_jobs = 20 and chunk_size = 9765\n"
     ]
    },
    {
     "data": {
      "application/vnd.jupyter.widget-view+json": {
       "model_id": "c40edafd7e594cf69f4546be66926698",
       "version_major": 2,
       "version_minor": 0
      },
      "text/plain": [
       "localize peaks using monopolar_triangulation:   0%|          | 0/33 [00:00<?, ?it/s]"
      ]
     },
     "metadata": {},
     "output_type": "display_data"
    },
    {
     "name": "stdout",
     "output_type": "stream",
     "text": [
      "localize peaks using monopolar_triangulation with n_jobs = 20 and chunk_size = 9765\n"
     ]
    },
    {
     "data": {
      "application/vnd.jupyter.widget-view+json": {
       "model_id": "119c52c8110f4067aee99a20e8af9cf7",
       "version_major": 2,
       "version_minor": 0
      },
      "text/plain": [
       "localize peaks using monopolar_triangulation:   0%|          | 0/33 [00:00<?, ?it/s]"
      ]
     },
     "metadata": {},
     "output_type": "display_data"
    },
    {
     "name": "stdout",
     "output_type": "stream",
     "text": [
      "localize peaks using monopolar_triangulation with n_jobs = 20 and chunk_size = 9765\n"
     ]
    },
    {
     "data": {
      "application/vnd.jupyter.widget-view+json": {
       "model_id": "b900e0d79a784ed58e370ade3250ce34",
       "version_major": 2,
       "version_minor": 0
      },
      "text/plain": [
       "localize peaks using monopolar_triangulation:   0%|          | 0/33 [00:00<?, ?it/s]"
      ]
     },
     "metadata": {},
     "output_type": "display_data"
    },
    {
     "name": "stdout",
     "output_type": "stream",
     "text": [
      "localize peaks using monopolar_triangulation with n_jobs = 20 and chunk_size = 9765\n"
     ]
    },
    {
     "data": {
      "application/vnd.jupyter.widget-view+json": {
       "model_id": "723f797d52aa4093b3c9ecea7f91ec86",
       "version_major": 2,
       "version_minor": 0
      },
      "text/plain": [
       "localize peaks using monopolar_triangulation:   0%|          | 0/33 [00:00<?, ?it/s]"
      ]
     },
     "metadata": {},
     "output_type": "display_data"
    },
    {
     "name": "stdout",
     "output_type": "stream",
     "text": [
      "localize peaks using monopolar_triangulation with n_jobs = 20 and chunk_size = 9765\n"
     ]
    },
    {
     "data": {
      "application/vnd.jupyter.widget-view+json": {
       "model_id": "dcbb864618f6467ca084fe5dff209df6",
       "version_major": 2,
       "version_minor": 0
      },
      "text/plain": [
       "localize peaks using monopolar_triangulation:   0%|          | 0/33 [00:00<?, ?it/s]"
      ]
     },
     "metadata": {},
     "output_type": "display_data"
    },
    {
     "name": "stdout",
     "output_type": "stream",
     "text": [
      "localize peaks using monopolar_triangulation with n_jobs = 20 and chunk_size = 9765\n"
     ]
    },
    {
     "data": {
      "application/vnd.jupyter.widget-view+json": {
       "model_id": "ed6bb7a4e39a4f3b81d481bf39d989d9",
       "version_major": 2,
       "version_minor": 0
      },
      "text/plain": [
       "localize peaks using monopolar_triangulation:   0%|          | 0/33 [00:00<?, ?it/s]"
      ]
     },
     "metadata": {},
     "output_type": "display_data"
    },
    {
     "name": "stdout",
     "output_type": "stream",
     "text": [
      "localize peaks using monopolar_triangulation with n_jobs = 20 and chunk_size = 9765\n"
     ]
    },
    {
     "data": {
      "application/vnd.jupyter.widget-view+json": {
       "model_id": "c7eb659c55be44ce939fa523cdd913b5",
       "version_major": 2,
       "version_minor": 0
      },
      "text/plain": [
       "localize peaks using monopolar_triangulation:   0%|          | 0/33 [00:00<?, ?it/s]"
      ]
     },
     "metadata": {},
     "output_type": "display_data"
    },
    {
     "name": "stdout",
     "output_type": "stream",
     "text": [
      "localize peaks using monopolar_triangulation with n_jobs = 20 and chunk_size = 9765\n"
     ]
    },
    {
     "data": {
      "application/vnd.jupyter.widget-view+json": {
       "model_id": "76f08a1e2b54421c8a47d7e44657a2cf",
       "version_major": 2,
       "version_minor": 0
      },
      "text/plain": [
       "localize peaks using monopolar_triangulation:   0%|          | 0/33 [00:00<?, ?it/s]"
      ]
     },
     "metadata": {},
     "output_type": "display_data"
    },
    {
     "name": "stdout",
     "output_type": "stream",
     "text": [
      "localize peaks using monopolar_triangulation with n_jobs = 20 and chunk_size = 9765\n"
     ]
    },
    {
     "data": {
      "application/vnd.jupyter.widget-view+json": {
       "model_id": "39d31e5da4944387bd357c7824486c15",
       "version_major": 2,
       "version_minor": 0
      },
      "text/plain": [
       "localize peaks using monopolar_triangulation:   0%|          | 0/33 [00:00<?, ?it/s]"
      ]
     },
     "metadata": {},
     "output_type": "display_data"
    },
    {
     "name": "stdout",
     "output_type": "stream",
     "text": [
      "localize peaks using monopolar_triangulation with n_jobs = 20 and chunk_size = 9765\n"
     ]
    },
    {
     "data": {
      "application/vnd.jupyter.widget-view+json": {
       "model_id": "f3e049b1cc7d4460a7cb1705f1b50301",
       "version_major": 2,
       "version_minor": 0
      },
      "text/plain": [
       "localize peaks using monopolar_triangulation:   0%|          | 0/33 [00:00<?, ?it/s]"
      ]
     },
     "metadata": {},
     "output_type": "display_data"
    },
    {
     "name": "stdout",
     "output_type": "stream",
     "text": [
      "localize peaks using monopolar_triangulation with n_jobs = 20 and chunk_size = 9765\n"
     ]
    },
    {
     "data": {
      "application/vnd.jupyter.widget-view+json": {
       "model_id": "aad5f5459a1541ec9d3d87ca04e84a66",
       "version_major": 2,
       "version_minor": 0
      },
      "text/plain": [
       "localize peaks using monopolar_triangulation:   0%|          | 0/33 [00:00<?, ?it/s]"
      ]
     },
     "metadata": {},
     "output_type": "display_data"
    },
    {
     "name": "stdout",
     "output_type": "stream",
     "text": [
      "localize peaks using monopolar_triangulation with n_jobs = 20 and chunk_size = 9765\n"
     ]
    },
    {
     "data": {
      "application/vnd.jupyter.widget-view+json": {
       "model_id": "10be57f3fb934781a6b9519fccfbe037",
       "version_major": 2,
       "version_minor": 0
      },
      "text/plain": [
       "localize peaks using monopolar_triangulation:   0%|          | 0/33 [00:00<?, ?it/s]"
      ]
     },
     "metadata": {},
     "output_type": "display_data"
    },
    {
     "name": "stdout",
     "output_type": "stream",
     "text": [
      "localize peaks using monopolar_triangulation with n_jobs = 20 and chunk_size = 9765\n"
     ]
    },
    {
     "data": {
      "application/vnd.jupyter.widget-view+json": {
       "model_id": "ed4587a5856041398d1088b8ef8297b5",
       "version_major": 2,
       "version_minor": 0
      },
      "text/plain": [
       "localize peaks using monopolar_triangulation:   0%|          | 0/33 [00:00<?, ?it/s]"
      ]
     },
     "metadata": {},
     "output_type": "display_data"
    },
    {
     "name": "stdout",
     "output_type": "stream",
     "text": [
      "localize peaks using monopolar_triangulation with n_jobs = 20 and chunk_size = 9765\n"
     ]
    },
    {
     "data": {
      "application/vnd.jupyter.widget-view+json": {
       "model_id": "aea83e6156e448578e6478c9b0bfb367",
       "version_major": 2,
       "version_minor": 0
      },
      "text/plain": [
       "localize peaks using monopolar_triangulation:   0%|          | 0/33 [00:00<?, ?it/s]"
      ]
     },
     "metadata": {},
     "output_type": "display_data"
    },
    {
     "name": "stdout",
     "output_type": "stream",
     "text": [
      "localize peaks using monopolar_triangulation with n_jobs = 20 and chunk_size = 9765\n"
     ]
    },
    {
     "data": {
      "application/vnd.jupyter.widget-view+json": {
       "model_id": "5316bb8ad9814231aea7a1776f2b2c64",
       "version_major": 2,
       "version_minor": 0
      },
      "text/plain": [
       "localize peaks using monopolar_triangulation:   0%|          | 0/33 [00:00<?, ?it/s]"
      ]
     },
     "metadata": {},
     "output_type": "display_data"
    },
    {
     "name": "stdout",
     "output_type": "stream",
     "text": [
      "localize peaks using monopolar_triangulation with n_jobs = 20 and chunk_size = 9765\n"
     ]
    },
    {
     "data": {
      "application/vnd.jupyter.widget-view+json": {
       "model_id": "f24e631b63184c94a3a5ddbf9bfc0a8a",
       "version_major": 2,
       "version_minor": 0
      },
      "text/plain": [
       "localize peaks using monopolar_triangulation:   0%|          | 0/33 [00:00<?, ?it/s]"
      ]
     },
     "metadata": {},
     "output_type": "display_data"
    },
    {
     "name": "stdout",
     "output_type": "stream",
     "text": [
      "localize peaks using monopolar_triangulation with n_jobs = 20 and chunk_size = 9765\n"
     ]
    },
    {
     "data": {
      "application/vnd.jupyter.widget-view+json": {
       "model_id": "d8a18354c6954f92934d20f9517b7cc3",
       "version_major": 2,
       "version_minor": 0
      },
      "text/plain": [
       "localize peaks using monopolar_triangulation:   0%|          | 0/33 [00:00<?, ?it/s]"
      ]
     },
     "metadata": {},
     "output_type": "display_data"
    },
    {
     "name": "stdout",
     "output_type": "stream",
     "text": [
      "localize peaks using center_of_mass with n_jobs = 20 and chunk_size = 9765\n"
     ]
    },
    {
     "data": {
      "application/vnd.jupyter.widget-view+json": {
       "model_id": "b2f3221d0fb645fe9de52ef435a965ac",
       "version_major": 2,
       "version_minor": 0
      },
      "text/plain": [
       "localize peaks using center_of_mass:   0%|          | 0/33 [00:00<?, ?it/s]"
      ]
     },
     "metadata": {},
     "output_type": "display_data"
    },
    {
     "name": "stdout",
     "output_type": "stream",
     "text": [
      "localize peaks using center_of_mass with n_jobs = 20 and chunk_size = 9765\n"
     ]
    },
    {
     "data": {
      "application/vnd.jupyter.widget-view+json": {
       "model_id": "89ad79f2b4d841b8aba5b70b6b6541bb",
       "version_major": 2,
       "version_minor": 0
      },
      "text/plain": [
       "localize peaks using center_of_mass:   0%|          | 0/33 [00:00<?, ?it/s]"
      ]
     },
     "metadata": {},
     "output_type": "display_data"
    },
    {
     "name": "stdout",
     "output_type": "stream",
     "text": [
      "localize peaks using center_of_mass with n_jobs = 20 and chunk_size = 9765\n"
     ]
    },
    {
     "data": {
      "application/vnd.jupyter.widget-view+json": {
       "model_id": "fac68d0e2b6c46c4bf1a6930818c4c56",
       "version_major": 2,
       "version_minor": 0
      },
      "text/plain": [
       "localize peaks using center_of_mass:   0%|          | 0/33 [00:00<?, ?it/s]"
      ]
     },
     "metadata": {},
     "output_type": "display_data"
    },
    {
     "name": "stdout",
     "output_type": "stream",
     "text": [
      "localize peaks using center_of_mass with n_jobs = 20 and chunk_size = 9765\n"
     ]
    },
    {
     "data": {
      "application/vnd.jupyter.widget-view+json": {
       "model_id": "4e740f537af94b28944d9739f6a967be",
       "version_major": 2,
       "version_minor": 0
      },
      "text/plain": [
       "localize peaks using center_of_mass:   0%|          | 0/33 [00:00<?, ?it/s]"
      ]
     },
     "metadata": {},
     "output_type": "display_data"
    },
    {
     "name": "stdout",
     "output_type": "stream",
     "text": [
      "localize peaks using center_of_mass with n_jobs = 20 and chunk_size = 9765\n"
     ]
    },
    {
     "data": {
      "application/vnd.jupyter.widget-view+json": {
       "model_id": "bec8115d01bc4f8b83d5aa281d87273e",
       "version_major": 2,
       "version_minor": 0
      },
      "text/plain": [
       "localize peaks using center_of_mass:   0%|          | 0/33 [00:00<?, ?it/s]"
      ]
     },
     "metadata": {},
     "output_type": "display_data"
    },
    {
     "name": "stdout",
     "output_type": "stream",
     "text": [
      "localize peaks using center_of_mass with n_jobs = 20 and chunk_size = 9765\n"
     ]
    },
    {
     "data": {
      "application/vnd.jupyter.widget-view+json": {
       "model_id": "9030d7c7df88479c96a94f176ebf2ded",
       "version_major": 2,
       "version_minor": 0
      },
      "text/plain": [
       "localize peaks using center_of_mass:   0%|          | 0/33 [00:00<?, ?it/s]"
      ]
     },
     "metadata": {},
     "output_type": "display_data"
    },
    {
     "name": "stdout",
     "output_type": "stream",
     "text": [
      "localize peaks using center_of_mass with n_jobs = 20 and chunk_size = 9765\n"
     ]
    },
    {
     "data": {
      "application/vnd.jupyter.widget-view+json": {
       "model_id": "01364a95a9484d0f8425b00d32ed6634",
       "version_major": 2,
       "version_minor": 0
      },
      "text/plain": [
       "localize peaks using center_of_mass:   0%|          | 0/33 [00:00<?, ?it/s]"
      ]
     },
     "metadata": {},
     "output_type": "display_data"
    },
    {
     "name": "stdout",
     "output_type": "stream",
     "text": [
      "localize peaks using center_of_mass with n_jobs = 20 and chunk_size = 9765\n"
     ]
    },
    {
     "data": {
      "application/vnd.jupyter.widget-view+json": {
       "model_id": "3428b65e43054e14b46ef89f16d79046",
       "version_major": 2,
       "version_minor": 0
      },
      "text/plain": [
       "localize peaks using center_of_mass:   0%|          | 0/33 [00:00<?, ?it/s]"
      ]
     },
     "metadata": {},
     "output_type": "display_data"
    },
    {
     "name": "stdout",
     "output_type": "stream",
     "text": [
      "localize peaks using center_of_mass with n_jobs = 20 and chunk_size = 9765\n"
     ]
    },
    {
     "data": {
      "application/vnd.jupyter.widget-view+json": {
       "model_id": "30d4e3d9d6bd4f959a5fab78904704f1",
       "version_major": 2,
       "version_minor": 0
      },
      "text/plain": [
       "localize peaks using center_of_mass:   0%|          | 0/33 [00:00<?, ?it/s]"
      ]
     },
     "metadata": {},
     "output_type": "display_data"
    },
    {
     "name": "stdout",
     "output_type": "stream",
     "text": [
      "localize peaks using center_of_mass with n_jobs = 20 and chunk_size = 9765\n"
     ]
    },
    {
     "data": {
      "application/vnd.jupyter.widget-view+json": {
       "model_id": "d0b5e9dfb5214392bc343dc65fa9f491",
       "version_major": 2,
       "version_minor": 0
      },
      "text/plain": [
       "localize peaks using center_of_mass:   0%|          | 0/33 [00:00<?, ?it/s]"
      ]
     },
     "metadata": {},
     "output_type": "display_data"
    },
    {
     "name": "stdout",
     "output_type": "stream",
     "text": [
      "localize peaks using center_of_mass with n_jobs = 20 and chunk_size = 9765\n"
     ]
    },
    {
     "data": {
      "application/vnd.jupyter.widget-view+json": {
       "model_id": "7596e664c7f14a49b9b5b0d736a2259b",
       "version_major": 2,
       "version_minor": 0
      },
      "text/plain": [
       "localize peaks using center_of_mass:   0%|          | 0/33 [00:00<?, ?it/s]"
      ]
     },
     "metadata": {},
     "output_type": "display_data"
    },
    {
     "name": "stdout",
     "output_type": "stream",
     "text": [
      "localize peaks using center_of_mass with n_jobs = 20 and chunk_size = 9765\n"
     ]
    },
    {
     "data": {
      "application/vnd.jupyter.widget-view+json": {
       "model_id": "c1b97458beb54e84821f932375ca6774",
       "version_major": 2,
       "version_minor": 0
      },
      "text/plain": [
       "localize peaks using center_of_mass:   0%|          | 0/33 [00:00<?, ?it/s]"
      ]
     },
     "metadata": {},
     "output_type": "display_data"
    },
    {
     "name": "stdout",
     "output_type": "stream",
     "text": [
      "localize peaks using center_of_mass with n_jobs = 20 and chunk_size = 9765\n"
     ]
    },
    {
     "data": {
      "application/vnd.jupyter.widget-view+json": {
       "model_id": "1a4487f76537492e84bb1703bda13417",
       "version_major": 2,
       "version_minor": 0
      },
      "text/plain": [
       "localize peaks using center_of_mass:   0%|          | 0/33 [00:00<?, ?it/s]"
      ]
     },
     "metadata": {},
     "output_type": "display_data"
    },
    {
     "name": "stdout",
     "output_type": "stream",
     "text": [
      "localize peaks using center_of_mass with n_jobs = 20 and chunk_size = 9765\n"
     ]
    },
    {
     "data": {
      "application/vnd.jupyter.widget-view+json": {
       "model_id": "01191ec655054203967bbd314c8d9ce0",
       "version_major": 2,
       "version_minor": 0
      },
      "text/plain": [
       "localize peaks using center_of_mass:   0%|          | 0/33 [00:00<?, ?it/s]"
      ]
     },
     "metadata": {},
     "output_type": "display_data"
    },
    {
     "name": "stdout",
     "output_type": "stream",
     "text": [
      "localize peaks using center_of_mass with n_jobs = 20 and chunk_size = 9765\n"
     ]
    },
    {
     "data": {
      "application/vnd.jupyter.widget-view+json": {
       "model_id": "922a350a836f429087c07459ad6030b1",
       "version_major": 2,
       "version_minor": 0
      },
      "text/plain": [
       "localize peaks using center_of_mass:   0%|          | 0/33 [00:00<?, ?it/s]"
      ]
     },
     "metadata": {},
     "output_type": "display_data"
    },
    {
     "name": "stdout",
     "output_type": "stream",
     "text": [
      "localize peaks using center_of_mass with n_jobs = 20 and chunk_size = 9765\n"
     ]
    },
    {
     "data": {
      "application/vnd.jupyter.widget-view+json": {
       "model_id": "ac48a191efe943eb8abff457b93cc43e",
       "version_major": 2,
       "version_minor": 0
      },
      "text/plain": [
       "localize peaks using center_of_mass:   0%|          | 0/33 [00:00<?, ?it/s]"
      ]
     },
     "metadata": {},
     "output_type": "display_data"
    },
    {
     "name": "stdout",
     "output_type": "stream",
     "text": [
      "localize peaks using center_of_mass with n_jobs = 20 and chunk_size = 9765\n"
     ]
    },
    {
     "data": {
      "application/vnd.jupyter.widget-view+json": {
       "model_id": "ba2c55b24bff4facafa39f1e02dce514",
       "version_major": 2,
       "version_minor": 0
      },
      "text/plain": [
       "localize peaks using center_of_mass:   0%|          | 0/33 [00:00<?, ?it/s]"
      ]
     },
     "metadata": {},
     "output_type": "display_data"
    },
    {
     "name": "stdout",
     "output_type": "stream",
     "text": [
      "localize peaks using center_of_mass with n_jobs = 20 and chunk_size = 9765\n"
     ]
    },
    {
     "data": {
      "application/vnd.jupyter.widget-view+json": {
       "model_id": "c5c8d9af6c6e4966a4ea76d28b4e8360",
       "version_major": 2,
       "version_minor": 0
      },
      "text/plain": [
       "localize peaks using center_of_mass:   0%|          | 0/33 [00:00<?, ?it/s]"
      ]
     },
     "metadata": {},
     "output_type": "display_data"
    },
    {
     "name": "stdout",
     "output_type": "stream",
     "text": [
      "pipeline with n_jobs = 20 and chunk_size = 9765\n"
     ]
    },
    {
     "data": {
      "application/vnd.jupyter.widget-view+json": {
       "model_id": "4c22ded2691d40c295f7bc7d7bd20740",
       "version_major": 2,
       "version_minor": 0
      },
      "text/plain": [
       "pipeline:   0%|          | 0/33 [00:00<?, ?it/s]"
      ]
     },
     "metadata": {},
     "output_type": "display_data"
    },
    {
     "name": "stdout",
     "output_type": "stream",
     "text": [
      "localize peaks using grid_convolution with n_jobs = 20 and chunk_size = 9765\n"
     ]
    },
    {
     "data": {
      "application/vnd.jupyter.widget-view+json": {
       "model_id": "ba6a3d8c24da4a48b5ecb02ad77669fa",
       "version_major": 2,
       "version_minor": 0
      },
      "text/plain": [
       "localize peaks using grid_convolution:   0%|          | 0/33 [00:00<?, ?it/s]"
      ]
     },
     "metadata": {},
     "output_type": "display_data"
    },
    {
     "name": "stdout",
     "output_type": "stream",
     "text": [
      "pipeline with n_jobs = 20 and chunk_size = 9765\n"
     ]
    },
    {
     "data": {
      "application/vnd.jupyter.widget-view+json": {
       "model_id": "fb2c41ca650047a39ee4e0475ea944cc",
       "version_major": 2,
       "version_minor": 0
      },
      "text/plain": [
       "pipeline:   0%|          | 0/33 [00:00<?, ?it/s]"
      ]
     },
     "metadata": {},
     "output_type": "display_data"
    },
    {
     "name": "stdout",
     "output_type": "stream",
     "text": [
      "localize peaks using grid_convolution with n_jobs = 20 and chunk_size = 9765\n"
     ]
    },
    {
     "data": {
      "application/vnd.jupyter.widget-view+json": {
       "model_id": "f315152b86d64887a9220e9d7b6fb8e1",
       "version_major": 2,
       "version_minor": 0
      },
      "text/plain": [
       "localize peaks using grid_convolution:   0%|          | 0/33 [00:00<?, ?it/s]"
      ]
     },
     "metadata": {},
     "output_type": "display_data"
    },
    {
     "name": "stdout",
     "output_type": "stream",
     "text": [
      "pipeline with n_jobs = 20 and chunk_size = 9765\n"
     ]
    },
    {
     "data": {
      "application/vnd.jupyter.widget-view+json": {
       "model_id": "50d036c6762c4d7f8328df4643fc2389",
       "version_major": 2,
       "version_minor": 0
      },
      "text/plain": [
       "pipeline:   0%|          | 0/33 [00:00<?, ?it/s]"
      ]
     },
     "metadata": {},
     "output_type": "display_data"
    },
    {
     "name": "stdout",
     "output_type": "stream",
     "text": [
      "localize peaks using grid_convolution with n_jobs = 20 and chunk_size = 9765\n"
     ]
    },
    {
     "data": {
      "application/vnd.jupyter.widget-view+json": {
       "model_id": "c9daaf8817404d3095ecd3b76f2849f9",
       "version_major": 2,
       "version_minor": 0
      },
      "text/plain": [
       "localize peaks using grid_convolution:   0%|          | 0/33 [00:00<?, ?it/s]"
      ]
     },
     "metadata": {},
     "output_type": "display_data"
    },
    {
     "name": "stderr",
     "output_type": "stream",
     "text": [
      "/home/pierre/anaconda3/envs/si/lib/python3.9/site-packages/numpy/lib/nanfunctions.py:1217: RuntimeWarning: All-NaN slice encountered\n",
      "  return function_base._ureduce(a, func=_nanmedian, keepdims=keepdims,\n"
     ]
    },
    {
     "name": "stdout",
     "output_type": "stream",
     "text": [
      "pipeline with n_jobs = 20 and chunk_size = 9765\n"
     ]
    },
    {
     "data": {
      "application/vnd.jupyter.widget-view+json": {
       "model_id": "4b5c8dd94fe0484986b95ca56637fe00",
       "version_major": 2,
       "version_minor": 0
      },
      "text/plain": [
       "pipeline:   0%|          | 0/33 [00:00<?, ?it/s]"
      ]
     },
     "metadata": {},
     "output_type": "display_data"
    },
    {
     "name": "stdout",
     "output_type": "stream",
     "text": [
      "localize peaks using grid_convolution with n_jobs = 20 and chunk_size = 9765\n"
     ]
    },
    {
     "data": {
      "application/vnd.jupyter.widget-view+json": {
       "model_id": "d70d11259abc4bbe83783b76ebb4b485",
       "version_major": 2,
       "version_minor": 0
      },
      "text/plain": [
       "localize peaks using grid_convolution:   0%|          | 0/33 [00:00<?, ?it/s]"
      ]
     },
     "metadata": {},
     "output_type": "display_data"
    },
    {
     "name": "stderr",
     "output_type": "stream",
     "text": [
      "/home/pierre/anaconda3/envs/si/lib/python3.9/site-packages/numpy/lib/nanfunctions.py:1217: RuntimeWarning: All-NaN slice encountered\n",
      "  return function_base._ureduce(a, func=_nanmedian, keepdims=keepdims,\n"
     ]
    },
    {
     "name": "stdout",
     "output_type": "stream",
     "text": [
      "pipeline with n_jobs = 20 and chunk_size = 9765\n"
     ]
    },
    {
     "data": {
      "application/vnd.jupyter.widget-view+json": {
       "model_id": "28c179aaf1564346bab2a16dc3745329",
       "version_major": 2,
       "version_minor": 0
      },
      "text/plain": [
       "pipeline:   0%|          | 0/33 [00:00<?, ?it/s]"
      ]
     },
     "metadata": {},
     "output_type": "display_data"
    },
    {
     "name": "stdout",
     "output_type": "stream",
     "text": [
      "localize peaks using grid_convolution with n_jobs = 20 and chunk_size = 9765\n"
     ]
    },
    {
     "data": {
      "application/vnd.jupyter.widget-view+json": {
       "model_id": "c54671c822444d36ae103b112a25e11a",
       "version_major": 2,
       "version_minor": 0
      },
      "text/plain": [
       "localize peaks using grid_convolution:   0%|          | 0/33 [00:00<?, ?it/s]"
      ]
     },
     "metadata": {},
     "output_type": "display_data"
    },
    {
     "name": "stderr",
     "output_type": "stream",
     "text": [
      "/home/pierre/anaconda3/envs/si/lib/python3.9/site-packages/numpy/lib/nanfunctions.py:1217: RuntimeWarning: All-NaN slice encountered\n",
      "  return function_base._ureduce(a, func=_nanmedian, keepdims=keepdims,\n"
     ]
    },
    {
     "name": "stdout",
     "output_type": "stream",
     "text": [
      "pipeline with n_jobs = 20 and chunk_size = 9765\n"
     ]
    },
    {
     "data": {
      "application/vnd.jupyter.widget-view+json": {
       "model_id": "074278528fbc40498226a1553ea17c8b",
       "version_major": 2,
       "version_minor": 0
      },
      "text/plain": [
       "pipeline:   0%|          | 0/33 [00:00<?, ?it/s]"
      ]
     },
     "metadata": {},
     "output_type": "display_data"
    },
    {
     "name": "stdout",
     "output_type": "stream",
     "text": [
      "localize peaks using grid_convolution with n_jobs = 20 and chunk_size = 9765\n"
     ]
    },
    {
     "data": {
      "application/vnd.jupyter.widget-view+json": {
       "model_id": "f0bbb66d98e1427893b6bff40a76ebab",
       "version_major": 2,
       "version_minor": 0
      },
      "text/plain": [
       "localize peaks using grid_convolution:   0%|          | 0/33 [00:00<?, ?it/s]"
      ]
     },
     "metadata": {},
     "output_type": "display_data"
    },
    {
     "name": "stderr",
     "output_type": "stream",
     "text": [
      "/home/pierre/anaconda3/envs/si/lib/python3.9/site-packages/numpy/lib/nanfunctions.py:1217: RuntimeWarning: All-NaN slice encountered\n",
      "  return function_base._ureduce(a, func=_nanmedian, keepdims=keepdims,\n"
     ]
    }
   ],
   "source": [
    "benchmarks_radius = {}\n",
    "waveforms = None\n",
    "xaxis = [25, 50, 75, 100, 125, 150]\n",
    "benchmarks_radius['xaxis'] = xaxis \n",
    "\n",
    "for method in ['monopolar_triangulation', 'center_of_mass', 'grid_convolution']:\n",
    "    for r_range in xaxis:\n",
    "        if method == 'monopolar_triangulation':\n",
    "            for feature in ['ptp', 'energy', 'peak_voltage']:\n",
    "                title = f'Monopolar ({feature})'\n",
    "                params = {'enforce_decrease': True, 'radius_um' : r_range, 'feature' : feature}\n",
    "                bench = BenchmarkPeakLocalization(recording_f, gt_sorting, positions, job_kwargs=job_kwargs, title=title)\n",
    "                if waveforms is not None:\n",
    "                    bench.waveforms = waveforms    \n",
    "                bench.run(method, params)\n",
    "                waveforms = bench.waveforms\n",
    "                if title in benchmarks_radius:\n",
    "                    benchmarks_radius[title] += [bench]\n",
    "                else:\n",
    "                    benchmarks_radius[title] = [bench]\n",
    "        elif method == 'center_of_mass':\n",
    "            for feature in ['ptp', 'energy', 'peak_voltage']:\n",
    "                params = {'radius_um' : r_range, 'feature' : feature}\n",
    "                title = f'CoM ({feature})'\n",
    "                bench = BenchmarkPeakLocalization(recording_f, gt_sorting, positions, job_kwargs=job_kwargs, title=title)\n",
    "                if waveforms is not None:\n",
    "                    bench.waveforms = waveforms    \n",
    "                bench.run(method, params)\n",
    "                waveforms = bench.waveforms\n",
    "                if title in benchmarks_radius:\n",
    "                    benchmarks_radius[title] += [bench]\n",
    "                else:\n",
    "                    benchmarks_radius[title] = [bench]\n",
    "        elif method == 'grid_convolution':\n",
    "            params = {'radius_um' : r_range}\n",
    "            title = f'Grid'\n",
    "            bench = BenchmarkPeakLocalization(recording_f, gt_sorting, positions, job_kwargs=job_kwargs, title=title)\n",
    "            if waveforms is not None:\n",
    "                bench.waveforms = waveforms    \n",
    "            bench.run(method, params)\n",
    "            waveforms = bench.waveforms\n",
    "            if title in benchmarks_radius:\n",
    "                benchmarks_radius[title] += [bench]\n",
    "            else:\n",
    "                benchmarks_radius[title] = [bench]\n",
    "    "
   ]
  },
  {
   "cell_type": "code",
   "execution_count": 16,
   "metadata": {},
   "outputs": [],
   "source": [
    "recordings = {}\n",
    "\n",
    "xaxis = [100, 300, 500, 700, 900]\n",
    "\n",
    "for cut_off in xaxis :\n",
    "    recordings[cut_off] = si.bandpass_filter(recording, freq_min=cut_off)\n",
    "    recordings[cut_off] = si.common_reference(recordings[cut_off])\n",
    "    recordings[cut_off] = si.zscore(recordings[cut_off])"
   ]
  },
  {
   "cell_type": "code",
   "execution_count": 17,
   "metadata": {},
   "outputs": [
    {
     "name": "stdout",
     "output_type": "stream",
     "text": [
      "extract waveforms memmap with n_jobs = 20 and chunk_size = 9765\n"
     ]
    },
    {
     "data": {
      "application/vnd.jupyter.widget-view+json": {
       "model_id": "76ebd84924804028a40d9e268d3861bb",
       "version_major": 2,
       "version_minor": 0
      },
      "text/plain": [
       "extract waveforms memmap:   0%|          | 0/33 [00:00<?, ?it/s]"
      ]
     },
     "metadata": {},
     "output_type": "display_data"
    },
    {
     "name": "stdout",
     "output_type": "stream",
     "text": [
      "localize peaks using monopolar_triangulation with n_jobs = 20 and chunk_size = 9765\n"
     ]
    },
    {
     "data": {
      "application/vnd.jupyter.widget-view+json": {
       "model_id": "633615cf2cbd42e0949b3e5cfe52c8d9",
       "version_major": 2,
       "version_minor": 0
      },
      "text/plain": [
       "localize peaks using monopolar_triangulation:   0%|          | 0/33 [00:00<?, ?it/s]"
      ]
     },
     "metadata": {},
     "output_type": "display_data"
    },
    {
     "name": "stdout",
     "output_type": "stream",
     "text": [
      "localize peaks using monopolar_triangulation with n_jobs = 20 and chunk_size = 9765\n"
     ]
    },
    {
     "data": {
      "application/vnd.jupyter.widget-view+json": {
       "model_id": "ed6c92c0c9cf45bea78fec9f5fd53927",
       "version_major": 2,
       "version_minor": 0
      },
      "text/plain": [
       "localize peaks using monopolar_triangulation:   0%|          | 0/33 [00:00<?, ?it/s]"
      ]
     },
     "metadata": {},
     "output_type": "display_data"
    },
    {
     "name": "stdout",
     "output_type": "stream",
     "text": [
      "localize peaks using monopolar_triangulation with n_jobs = 20 and chunk_size = 9765\n"
     ]
    },
    {
     "data": {
      "application/vnd.jupyter.widget-view+json": {
       "model_id": "00cf513e9d7c42eeb71e4fbe702104ca",
       "version_major": 2,
       "version_minor": 0
      },
      "text/plain": [
       "localize peaks using monopolar_triangulation:   0%|          | 0/33 [00:00<?, ?it/s]"
      ]
     },
     "metadata": {},
     "output_type": "display_data"
    },
    {
     "name": "stdout",
     "output_type": "stream",
     "text": [
      "localize peaks using center_of_mass with n_jobs = 20 and chunk_size = 9765\n"
     ]
    },
    {
     "data": {
      "application/vnd.jupyter.widget-view+json": {
       "model_id": "0d4728507219438ab17b14b157b01479",
       "version_major": 2,
       "version_minor": 0
      },
      "text/plain": [
       "localize peaks using center_of_mass:   0%|          | 0/33 [00:00<?, ?it/s]"
      ]
     },
     "metadata": {},
     "output_type": "display_data"
    },
    {
     "name": "stdout",
     "output_type": "stream",
     "text": [
      "localize peaks using center_of_mass with n_jobs = 20 and chunk_size = 9765\n"
     ]
    },
    {
     "data": {
      "application/vnd.jupyter.widget-view+json": {
       "model_id": "8360d8bde9ea4e5ba5b60d1c65f2a41b",
       "version_major": 2,
       "version_minor": 0
      },
      "text/plain": [
       "localize peaks using center_of_mass:   0%|          | 0/33 [00:00<?, ?it/s]"
      ]
     },
     "metadata": {},
     "output_type": "display_data"
    },
    {
     "name": "stdout",
     "output_type": "stream",
     "text": [
      "localize peaks using center_of_mass with n_jobs = 20 and chunk_size = 9765\n"
     ]
    },
    {
     "data": {
      "application/vnd.jupyter.widget-view+json": {
       "model_id": "96ffb3caf50747e585fe0618650201e5",
       "version_major": 2,
       "version_minor": 0
      },
      "text/plain": [
       "localize peaks using center_of_mass:   0%|          | 0/33 [00:00<?, ?it/s]"
      ]
     },
     "metadata": {},
     "output_type": "display_data"
    },
    {
     "name": "stdout",
     "output_type": "stream",
     "text": [
      "pipeline with n_jobs = 20 and chunk_size = 9765\n"
     ]
    },
    {
     "data": {
      "application/vnd.jupyter.widget-view+json": {
       "model_id": "d821683562e347319b01bc68edffb54e",
       "version_major": 2,
       "version_minor": 0
      },
      "text/plain": [
       "pipeline:   0%|          | 0/33 [00:00<?, ?it/s]"
      ]
     },
     "metadata": {},
     "output_type": "display_data"
    },
    {
     "name": "stdout",
     "output_type": "stream",
     "text": [
      "localize peaks using grid_convolution with n_jobs = 20 and chunk_size = 9765\n"
     ]
    },
    {
     "data": {
      "application/vnd.jupyter.widget-view+json": {
       "model_id": "e3490128c1ba456197c1fa5988e1ab15",
       "version_major": 2,
       "version_minor": 0
      },
      "text/plain": [
       "localize peaks using grid_convolution:   0%|          | 0/33 [00:00<?, ?it/s]"
      ]
     },
     "metadata": {},
     "output_type": "display_data"
    },
    {
     "name": "stdout",
     "output_type": "stream",
     "text": [
      "extract waveforms memmap with n_jobs = 20 and chunk_size = 9765\n"
     ]
    },
    {
     "data": {
      "application/vnd.jupyter.widget-view+json": {
       "model_id": "11f10005ae004f2f8aac81f38ae3a377",
       "version_major": 2,
       "version_minor": 0
      },
      "text/plain": [
       "extract waveforms memmap:   0%|          | 0/33 [00:00<?, ?it/s]"
      ]
     },
     "metadata": {},
     "output_type": "display_data"
    },
    {
     "name": "stdout",
     "output_type": "stream",
     "text": [
      "localize peaks using monopolar_triangulation with n_jobs = 20 and chunk_size = 9765\n"
     ]
    },
    {
     "data": {
      "application/vnd.jupyter.widget-view+json": {
       "model_id": "ad95654202cc43f8bdbfb3773deb5112",
       "version_major": 2,
       "version_minor": 0
      },
      "text/plain": [
       "localize peaks using monopolar_triangulation:   0%|          | 0/33 [00:00<?, ?it/s]"
      ]
     },
     "metadata": {},
     "output_type": "display_data"
    },
    {
     "name": "stdout",
     "output_type": "stream",
     "text": [
      "localize peaks using monopolar_triangulation with n_jobs = 20 and chunk_size = 9765\n"
     ]
    },
    {
     "data": {
      "application/vnd.jupyter.widget-view+json": {
       "model_id": "443930b36176449cb7bcc27c06ca8222",
       "version_major": 2,
       "version_minor": 0
      },
      "text/plain": [
       "localize peaks using monopolar_triangulation:   0%|          | 0/33 [00:00<?, ?it/s]"
      ]
     },
     "metadata": {},
     "output_type": "display_data"
    },
    {
     "name": "stdout",
     "output_type": "stream",
     "text": [
      "localize peaks using monopolar_triangulation with n_jobs = 20 and chunk_size = 9765\n"
     ]
    },
    {
     "data": {
      "application/vnd.jupyter.widget-view+json": {
       "model_id": "efa8a3a2f58b43c39477797cea9727af",
       "version_major": 2,
       "version_minor": 0
      },
      "text/plain": [
       "localize peaks using monopolar_triangulation:   0%|          | 0/33 [00:00<?, ?it/s]"
      ]
     },
     "metadata": {},
     "output_type": "display_data"
    },
    {
     "name": "stdout",
     "output_type": "stream",
     "text": [
      "localize peaks using center_of_mass with n_jobs = 20 and chunk_size = 9765\n"
     ]
    },
    {
     "data": {
      "application/vnd.jupyter.widget-view+json": {
       "model_id": "e8928a7b3c62485ab951b455750171da",
       "version_major": 2,
       "version_minor": 0
      },
      "text/plain": [
       "localize peaks using center_of_mass:   0%|          | 0/33 [00:00<?, ?it/s]"
      ]
     },
     "metadata": {},
     "output_type": "display_data"
    },
    {
     "name": "stdout",
     "output_type": "stream",
     "text": [
      "localize peaks using center_of_mass with n_jobs = 20 and chunk_size = 9765\n"
     ]
    },
    {
     "data": {
      "application/vnd.jupyter.widget-view+json": {
       "model_id": "d09f31a1b0ed4ac9a5964979f0bb469a",
       "version_major": 2,
       "version_minor": 0
      },
      "text/plain": [
       "localize peaks using center_of_mass:   0%|          | 0/33 [00:00<?, ?it/s]"
      ]
     },
     "metadata": {},
     "output_type": "display_data"
    },
    {
     "name": "stdout",
     "output_type": "stream",
     "text": [
      "localize peaks using center_of_mass with n_jobs = 20 and chunk_size = 9765\n"
     ]
    },
    {
     "data": {
      "application/vnd.jupyter.widget-view+json": {
       "model_id": "731812930e2d4565bedc20fe10e5670f",
       "version_major": 2,
       "version_minor": 0
      },
      "text/plain": [
       "localize peaks using center_of_mass:   0%|          | 0/33 [00:00<?, ?it/s]"
      ]
     },
     "metadata": {},
     "output_type": "display_data"
    },
    {
     "name": "stdout",
     "output_type": "stream",
     "text": [
      "pipeline with n_jobs = 20 and chunk_size = 9765\n"
     ]
    },
    {
     "data": {
      "application/vnd.jupyter.widget-view+json": {
       "model_id": "19dceb7f59d94a5e987cebad974e48bf",
       "version_major": 2,
       "version_minor": 0
      },
      "text/plain": [
       "pipeline:   0%|          | 0/33 [00:00<?, ?it/s]"
      ]
     },
     "metadata": {},
     "output_type": "display_data"
    },
    {
     "name": "stdout",
     "output_type": "stream",
     "text": [
      "localize peaks using grid_convolution with n_jobs = 20 and chunk_size = 9765\n"
     ]
    },
    {
     "data": {
      "application/vnd.jupyter.widget-view+json": {
       "model_id": "2bf446ad37da41a8a75f5b3258d3cb87",
       "version_major": 2,
       "version_minor": 0
      },
      "text/plain": [
       "localize peaks using grid_convolution:   0%|          | 0/33 [00:00<?, ?it/s]"
      ]
     },
     "metadata": {},
     "output_type": "display_data"
    },
    {
     "name": "stdout",
     "output_type": "stream",
     "text": [
      "extract waveforms memmap with n_jobs = 20 and chunk_size = 9765\n"
     ]
    },
    {
     "data": {
      "application/vnd.jupyter.widget-view+json": {
       "model_id": "7de95a6effc84007a27560cffc124c52",
       "version_major": 2,
       "version_minor": 0
      },
      "text/plain": [
       "extract waveforms memmap:   0%|          | 0/33 [00:00<?, ?it/s]"
      ]
     },
     "metadata": {},
     "output_type": "display_data"
    },
    {
     "name": "stdout",
     "output_type": "stream",
     "text": [
      "localize peaks using monopolar_triangulation with n_jobs = 20 and chunk_size = 9765\n"
     ]
    },
    {
     "data": {
      "application/vnd.jupyter.widget-view+json": {
       "model_id": "cddfaeee49c54700aaa46b7df6389d0c",
       "version_major": 2,
       "version_minor": 0
      },
      "text/plain": [
       "localize peaks using monopolar_triangulation:   0%|          | 0/33 [00:00<?, ?it/s]"
      ]
     },
     "metadata": {},
     "output_type": "display_data"
    },
    {
     "name": "stdout",
     "output_type": "stream",
     "text": [
      "localize peaks using monopolar_triangulation with n_jobs = 20 and chunk_size = 9765\n"
     ]
    },
    {
     "data": {
      "application/vnd.jupyter.widget-view+json": {
       "model_id": "a09c7d1b35e745e3b20bda5e9e24ccf9",
       "version_major": 2,
       "version_minor": 0
      },
      "text/plain": [
       "localize peaks using monopolar_triangulation:   0%|          | 0/33 [00:00<?, ?it/s]"
      ]
     },
     "metadata": {},
     "output_type": "display_data"
    },
    {
     "name": "stdout",
     "output_type": "stream",
     "text": [
      "localize peaks using monopolar_triangulation with n_jobs = 20 and chunk_size = 9765\n"
     ]
    },
    {
     "data": {
      "application/vnd.jupyter.widget-view+json": {
       "model_id": "f83f9992a49e4763bacec375320e634e",
       "version_major": 2,
       "version_minor": 0
      },
      "text/plain": [
       "localize peaks using monopolar_triangulation:   0%|          | 0/33 [00:00<?, ?it/s]"
      ]
     },
     "metadata": {},
     "output_type": "display_data"
    },
    {
     "name": "stdout",
     "output_type": "stream",
     "text": [
      "localize peaks using center_of_mass with n_jobs = 20 and chunk_size = 9765\n"
     ]
    },
    {
     "data": {
      "application/vnd.jupyter.widget-view+json": {
       "model_id": "dd7e801ab3f2420e89f59a483665bd0c",
       "version_major": 2,
       "version_minor": 0
      },
      "text/plain": [
       "localize peaks using center_of_mass:   0%|          | 0/33 [00:00<?, ?it/s]"
      ]
     },
     "metadata": {},
     "output_type": "display_data"
    },
    {
     "name": "stdout",
     "output_type": "stream",
     "text": [
      "localize peaks using center_of_mass with n_jobs = 20 and chunk_size = 9765\n"
     ]
    },
    {
     "data": {
      "application/vnd.jupyter.widget-view+json": {
       "model_id": "46eadb2cc3e64a29bf90e664fcbbe975",
       "version_major": 2,
       "version_minor": 0
      },
      "text/plain": [
       "localize peaks using center_of_mass:   0%|          | 0/33 [00:00<?, ?it/s]"
      ]
     },
     "metadata": {},
     "output_type": "display_data"
    },
    {
     "name": "stdout",
     "output_type": "stream",
     "text": [
      "localize peaks using center_of_mass with n_jobs = 20 and chunk_size = 9765\n"
     ]
    },
    {
     "data": {
      "application/vnd.jupyter.widget-view+json": {
       "model_id": "b16e0159d8b34ad88038be301255924d",
       "version_major": 2,
       "version_minor": 0
      },
      "text/plain": [
       "localize peaks using center_of_mass:   0%|          | 0/33 [00:00<?, ?it/s]"
      ]
     },
     "metadata": {},
     "output_type": "display_data"
    },
    {
     "name": "stdout",
     "output_type": "stream",
     "text": [
      "pipeline with n_jobs = 20 and chunk_size = 9765\n"
     ]
    },
    {
     "data": {
      "application/vnd.jupyter.widget-view+json": {
       "model_id": "1a5226fa90374932a9843fc433da7792",
       "version_major": 2,
       "version_minor": 0
      },
      "text/plain": [
       "pipeline:   0%|          | 0/33 [00:00<?, ?it/s]"
      ]
     },
     "metadata": {},
     "output_type": "display_data"
    },
    {
     "name": "stdout",
     "output_type": "stream",
     "text": [
      "localize peaks using grid_convolution with n_jobs = 20 and chunk_size = 9765\n"
     ]
    },
    {
     "data": {
      "application/vnd.jupyter.widget-view+json": {
       "model_id": "ff4b599e63dc447a9819f9cd53661ad9",
       "version_major": 2,
       "version_minor": 0
      },
      "text/plain": [
       "localize peaks using grid_convolution:   0%|          | 0/33 [00:00<?, ?it/s]"
      ]
     },
     "metadata": {},
     "output_type": "display_data"
    },
    {
     "name": "stdout",
     "output_type": "stream",
     "text": [
      "extract waveforms memmap with n_jobs = 20 and chunk_size = 9765\n"
     ]
    },
    {
     "data": {
      "application/vnd.jupyter.widget-view+json": {
       "model_id": "215f9b19d90848089b8c37eb736130e2",
       "version_major": 2,
       "version_minor": 0
      },
      "text/plain": [
       "extract waveforms memmap:   0%|          | 0/33 [00:00<?, ?it/s]"
      ]
     },
     "metadata": {},
     "output_type": "display_data"
    },
    {
     "name": "stdout",
     "output_type": "stream",
     "text": [
      "localize peaks using monopolar_triangulation with n_jobs = 20 and chunk_size = 9765\n"
     ]
    },
    {
     "data": {
      "application/vnd.jupyter.widget-view+json": {
       "model_id": "bf4d5bc593d44c9f956f9fc20f4b92d0",
       "version_major": 2,
       "version_minor": 0
      },
      "text/plain": [
       "localize peaks using monopolar_triangulation:   0%|          | 0/33 [00:00<?, ?it/s]"
      ]
     },
     "metadata": {},
     "output_type": "display_data"
    },
    {
     "name": "stdout",
     "output_type": "stream",
     "text": [
      "localize peaks using monopolar_triangulation with n_jobs = 20 and chunk_size = 9765\n"
     ]
    },
    {
     "data": {
      "application/vnd.jupyter.widget-view+json": {
       "model_id": "56c731badf5e4417b7ff63688df8eb9c",
       "version_major": 2,
       "version_minor": 0
      },
      "text/plain": [
       "localize peaks using monopolar_triangulation:   0%|          | 0/33 [00:00<?, ?it/s]"
      ]
     },
     "metadata": {},
     "output_type": "display_data"
    },
    {
     "name": "stdout",
     "output_type": "stream",
     "text": [
      "localize peaks using monopolar_triangulation with n_jobs = 20 and chunk_size = 9765\n"
     ]
    },
    {
     "data": {
      "application/vnd.jupyter.widget-view+json": {
       "model_id": "63577fcca2824e5493f6547efc1372c2",
       "version_major": 2,
       "version_minor": 0
      },
      "text/plain": [
       "localize peaks using monopolar_triangulation:   0%|          | 0/33 [00:00<?, ?it/s]"
      ]
     },
     "metadata": {},
     "output_type": "display_data"
    },
    {
     "name": "stdout",
     "output_type": "stream",
     "text": [
      "localize peaks using center_of_mass with n_jobs = 20 and chunk_size = 9765\n"
     ]
    },
    {
     "data": {
      "application/vnd.jupyter.widget-view+json": {
       "model_id": "acb447ece45e43ecae5f206f8931b16b",
       "version_major": 2,
       "version_minor": 0
      },
      "text/plain": [
       "localize peaks using center_of_mass:   0%|          | 0/33 [00:00<?, ?it/s]"
      ]
     },
     "metadata": {},
     "output_type": "display_data"
    },
    {
     "name": "stdout",
     "output_type": "stream",
     "text": [
      "localize peaks using center_of_mass with n_jobs = 20 and chunk_size = 9765\n"
     ]
    },
    {
     "data": {
      "application/vnd.jupyter.widget-view+json": {
       "model_id": "0b5f09705cde45a2ab9cab636b99ab73",
       "version_major": 2,
       "version_minor": 0
      },
      "text/plain": [
       "localize peaks using center_of_mass:   0%|          | 0/33 [00:00<?, ?it/s]"
      ]
     },
     "metadata": {},
     "output_type": "display_data"
    },
    {
     "name": "stdout",
     "output_type": "stream",
     "text": [
      "localize peaks using center_of_mass with n_jobs = 20 and chunk_size = 9765\n"
     ]
    },
    {
     "data": {
      "application/vnd.jupyter.widget-view+json": {
       "model_id": "42e53cedfe774463bf34cc0da5876be0",
       "version_major": 2,
       "version_minor": 0
      },
      "text/plain": [
       "localize peaks using center_of_mass:   0%|          | 0/33 [00:00<?, ?it/s]"
      ]
     },
     "metadata": {},
     "output_type": "display_data"
    },
    {
     "name": "stdout",
     "output_type": "stream",
     "text": [
      "pipeline with n_jobs = 20 and chunk_size = 9765\n"
     ]
    },
    {
     "data": {
      "application/vnd.jupyter.widget-view+json": {
       "model_id": "1d52f6a9260c4a67bcba2401fe3703ea",
       "version_major": 2,
       "version_minor": 0
      },
      "text/plain": [
       "pipeline:   0%|          | 0/33 [00:00<?, ?it/s]"
      ]
     },
     "metadata": {},
     "output_type": "display_data"
    },
    {
     "name": "stdout",
     "output_type": "stream",
     "text": [
      "localize peaks using grid_convolution with n_jobs = 20 and chunk_size = 9765\n"
     ]
    },
    {
     "data": {
      "application/vnd.jupyter.widget-view+json": {
       "model_id": "9416fb991e3a467fb4b2703df8cb1425",
       "version_major": 2,
       "version_minor": 0
      },
      "text/plain": [
       "localize peaks using grid_convolution:   0%|          | 0/33 [00:00<?, ?it/s]"
      ]
     },
     "metadata": {},
     "output_type": "display_data"
    },
    {
     "name": "stdout",
     "output_type": "stream",
     "text": [
      "extract waveforms memmap with n_jobs = 20 and chunk_size = 9765\n"
     ]
    },
    {
     "data": {
      "application/vnd.jupyter.widget-view+json": {
       "model_id": "130fe41927514fd085ae109e7bbb2587",
       "version_major": 2,
       "version_minor": 0
      },
      "text/plain": [
       "extract waveforms memmap:   0%|          | 0/33 [00:00<?, ?it/s]"
      ]
     },
     "metadata": {},
     "output_type": "display_data"
    },
    {
     "name": "stdout",
     "output_type": "stream",
     "text": [
      "localize peaks using monopolar_triangulation with n_jobs = 20 and chunk_size = 9765\n"
     ]
    },
    {
     "data": {
      "application/vnd.jupyter.widget-view+json": {
       "model_id": "155bc121ccb44b2db8f94d5baf3b1a66",
       "version_major": 2,
       "version_minor": 0
      },
      "text/plain": [
       "localize peaks using monopolar_triangulation:   0%|          | 0/33 [00:00<?, ?it/s]"
      ]
     },
     "metadata": {},
     "output_type": "display_data"
    },
    {
     "name": "stdout",
     "output_type": "stream",
     "text": [
      "localize peaks using monopolar_triangulation with n_jobs = 20 and chunk_size = 9765\n"
     ]
    },
    {
     "data": {
      "application/vnd.jupyter.widget-view+json": {
       "model_id": "39997c1b255149b990be8bbede61af02",
       "version_major": 2,
       "version_minor": 0
      },
      "text/plain": [
       "localize peaks using monopolar_triangulation:   0%|          | 0/33 [00:00<?, ?it/s]"
      ]
     },
     "metadata": {},
     "output_type": "display_data"
    },
    {
     "name": "stdout",
     "output_type": "stream",
     "text": [
      "localize peaks using monopolar_triangulation with n_jobs = 20 and chunk_size = 9765\n"
     ]
    },
    {
     "data": {
      "application/vnd.jupyter.widget-view+json": {
       "model_id": "ec7cb6b6ed6e44b2a3511ea3c348b7f5",
       "version_major": 2,
       "version_minor": 0
      },
      "text/plain": [
       "localize peaks using monopolar_triangulation:   0%|          | 0/33 [00:00<?, ?it/s]"
      ]
     },
     "metadata": {},
     "output_type": "display_data"
    },
    {
     "name": "stdout",
     "output_type": "stream",
     "text": [
      "localize peaks using center_of_mass with n_jobs = 20 and chunk_size = 9765\n"
     ]
    },
    {
     "data": {
      "application/vnd.jupyter.widget-view+json": {
       "model_id": "45e14f65724046f7bc842a9054182f62",
       "version_major": 2,
       "version_minor": 0
      },
      "text/plain": [
       "localize peaks using center_of_mass:   0%|          | 0/33 [00:00<?, ?it/s]"
      ]
     },
     "metadata": {},
     "output_type": "display_data"
    },
    {
     "name": "stdout",
     "output_type": "stream",
     "text": [
      "localize peaks using center_of_mass with n_jobs = 20 and chunk_size = 9765\n"
     ]
    },
    {
     "data": {
      "application/vnd.jupyter.widget-view+json": {
       "model_id": "5b40ca817ffa4c948d2fb72e68716a69",
       "version_major": 2,
       "version_minor": 0
      },
      "text/plain": [
       "localize peaks using center_of_mass:   0%|          | 0/33 [00:00<?, ?it/s]"
      ]
     },
     "metadata": {},
     "output_type": "display_data"
    },
    {
     "name": "stdout",
     "output_type": "stream",
     "text": [
      "localize peaks using center_of_mass with n_jobs = 20 and chunk_size = 9765\n"
     ]
    },
    {
     "data": {
      "application/vnd.jupyter.widget-view+json": {
       "model_id": "d6eb870f35154122b7454df94e6b32e1",
       "version_major": 2,
       "version_minor": 0
      },
      "text/plain": [
       "localize peaks using center_of_mass:   0%|          | 0/33 [00:00<?, ?it/s]"
      ]
     },
     "metadata": {},
     "output_type": "display_data"
    },
    {
     "name": "stdout",
     "output_type": "stream",
     "text": [
      "pipeline with n_jobs = 20 and chunk_size = 9765\n"
     ]
    },
    {
     "data": {
      "application/vnd.jupyter.widget-view+json": {
       "model_id": "4f93101fdf3c4e3ab770670d2b7ee6a6",
       "version_major": 2,
       "version_minor": 0
      },
      "text/plain": [
       "pipeline:   0%|          | 0/33 [00:00<?, ?it/s]"
      ]
     },
     "metadata": {},
     "output_type": "display_data"
    },
    {
     "name": "stdout",
     "output_type": "stream",
     "text": [
      "localize peaks using grid_convolution with n_jobs = 20 and chunk_size = 9765\n"
     ]
    },
    {
     "data": {
      "application/vnd.jupyter.widget-view+json": {
       "model_id": "87a7fbb4158d430f948e1730755981b3",
       "version_major": 2,
       "version_minor": 0
      },
      "text/plain": [
       "localize peaks using grid_convolution:   0%|          | 0/33 [00:00<?, ?it/s]"
      ]
     },
     "metadata": {},
     "output_type": "display_data"
    }
   ],
   "source": [
    "benchmarks_cutoff = {}\n",
    "\n",
    "benchmarks_cutoff['xaxis'] = xaxis \n",
    "\n",
    "for cut_off in xaxis:\n",
    "    waveforms = None\n",
    "    for method in ['monopolar_triangulation', 'center_of_mass', 'grid_convolution']:\n",
    "    \n",
    "        if method == 'monopolar_triangulation':\n",
    "            for feature in ['ptp', 'energy', 'peak_voltage']:\n",
    "                title = f'Monopolar ({feature})'\n",
    "                params = {'enforce_decrease': True, 'feature' : feature}\n",
    "                bench = BenchmarkPeakLocalization(recordings[cut_off], gt_sorting, positions, job_kwargs=job_kwargs, title=title)\n",
    "                if waveforms is not None:\n",
    "                    bench.waveforms = waveforms    \n",
    "                bench.run(method, params)\n",
    "                waveforms = bench.waveforms\n",
    "                if title in benchmarks_cutoff:\n",
    "                    benchmarks_cutoff[title] += [bench]\n",
    "                else:\n",
    "                    benchmarks_cutoff[title] = [bench]\n",
    "        elif method == 'center_of_mass':\n",
    "            for feature in ['ptp', 'energy', 'peak_voltage']:\n",
    "                title = f'CoM ({feature})'\n",
    "                params = {'feature' : feature}\n",
    "                bench = BenchmarkPeakLocalization(recordings[cut_off], gt_sorting, positions, job_kwargs=job_kwargs, title=title)\n",
    "                if waveforms is not None:\n",
    "                    bench.waveforms = waveforms    \n",
    "                bench.run(method, params)\n",
    "                waveforms = bench.waveforms\n",
    "                if title in benchmarks_cutoff:\n",
    "                    benchmarks_cutoff[title] += [bench]\n",
    "                else:\n",
    "                    benchmarks_cutoff[title] = [bench]\n",
    "        elif method == 'grid_convolution':\n",
    "            title = f'Grid'\n",
    "            params = {}\n",
    "            bench = BenchmarkPeakLocalization(recordings[cut_off], gt_sorting, positions, job_kwargs=job_kwargs, title=title)\n",
    "            if waveforms is not None:\n",
    "                bench.waveforms = waveforms    \n",
    "            bench.run(method, params)\n",
    "            waveforms = bench.waveforms\n",
    "            if title in benchmarks_cutoff:\n",
    "                benchmarks_cutoff[title] += [bench]\n",
    "            else:\n",
    "                benchmarks_cutoff[title] = [bench]"
   ]
  },
  {
   "cell_type": "code",
   "execution_count": null,
   "metadata": {},
   "outputs": [],
   "source": [
    "from spikeinterface.sortingcomponents.benchmark.benchmark_tools import BenchmarkBase, _simpleaxis \n",
    "import pylab as plt\n",
    "import matplotlib\n",
    "\n",
    "\n",
    "def plot_comparison_precision(benchmarks, cmap='winter'):\n",
    "\n",
    "    import pylab as plt\n",
    "    fig, axes = plt.subplots(ncols=2, nrows=len(benchmarks), figsize=(15, 10), squeeze=False)\n",
    "    \n",
    "    for icount, benchmark in enumerate(benchmarks):\n",
    "    \n",
    "        vrange = np.array(list(benchmark.keys()))\n",
    "        v_min = np.min(vrange)\n",
    "        v_max = np.max(vrange)\n",
    "        \n",
    "        my_cmap = plt.get_cmap(cmap)\n",
    "        cNorm  = matplotlib.colors.Normalize(vmin=v_min, vmax=v_max)\n",
    "        scalarMap = plt.cm.ScalarMappable(norm=cNorm, cmap=my_cmap)\n",
    "        \n",
    "        for key, bench in benchmark.items():\n",
    "\n",
    "            spikes = bench.spike_positions[0]\n",
    "            units = bench.waveforms.sorting.unit_ids\n",
    "            all_x = np.concatenate([spikes[unit_id]['x'] for unit_id in units])\n",
    "            all_y = np.concatenate([spikes[unit_id]['y'] for unit_id in units])\n",
    "            try:\n",
    "                all_z = np.concatenate([spikes[unit_id]['z'] for unit_id in units])\n",
    "            except Exception:\n",
    "                all_z = np.zeros(len(all_x))\n",
    "                \n",
    "            gt_positions = bench.gt_positions\n",
    "            real_x = np.concatenate([gt_positions[c, 0]*np.ones(len(spikes[i]['x'])) for c, i in enumerate(units)])\n",
    "            real_y = np.concatenate([gt_positions[c, 1]*np.ones(len(spikes[i]['y'])) for c, i in enumerate(units)])\n",
    "            try:\n",
    "                real_z = np.concatenate([gt_positions[c, 2]*np.ones(len(spikes[i]['z'])) for c, i in enumerate(units)])\n",
    "            except Exception:\n",
    "                real_z = np.zeros(len(real_x))\n",
    "                \n",
    "            dx = np.abs(all_x - real_x)\n",
    "            dy = np.abs(all_y - real_y)\n",
    "            dz = np.abs(all_z - real_z)\n",
    "            ax = axes[icount, 0]\n",
    "            \n",
    "            colorVal = scalarMap.to_rgba(key)\n",
    "            \n",
    "            ax.errorbar(np.arange(3), [dx.mean(), dy.mean(), dz.mean()], \n",
    "                        yerr=[dx.std(), dy.std(), dz.std()], label=bench.title, c=colorVal)\n",
    "        ax.legend()\n",
    "        ax.set_ylabel('error (um)')\n",
    "        ax.set_xticks(np.arange(3), ['x', 'y', 'z'])\n",
    "        _simpleaxis(ax)\n",
    "\n",
    "        x_means = []\n",
    "        x_stds = []\n",
    "        for bench in benchmark.values():\n",
    "            x_means += [np.mean(bench.medians_over_templates)]\n",
    "            x_stds += [np.std(bench.medians_over_templates)]\n",
    "\n",
    "        #ax.set_yticks([])\n",
    "        #ax.set_ylim(ymin, ymax)\n",
    "\n",
    "        ax = axes[icount, 1]\n",
    "        _simpleaxis(ax)\n",
    "\n",
    "        y_means = []\n",
    "        y_stds = []\n",
    "        colors = []\n",
    "        for key, bench in benchmark.items():\n",
    "            y_means += [np.mean(bench.mads_over_templates)]\n",
    "            y_stds += [np.std(bench.mads_over_templates)]\n",
    "            colors += [scalarMap.to_rgba(key)]\n",
    "\n",
    "        ax.errorbar(x_means, y_means, xerr=x_stds, yerr=y_stds, fmt='.', c='0.5', alpha=0.5)\n",
    "        ax.scatter(x_means, y_means, c=colors, s=200)\n",
    "\n",
    "        ax.set_ylabel('error variances (um)')\n",
    "        ax.set_xlabel('error means (um)')\n",
    "      #ax.set_yticks([]\n",
    "        ymin, ymax = ax.get_ylim()\n",
    "        #ax.set_ylim(0, 25)\n",
    "        ax.legend()"
   ]
  },
  {
   "cell_type": "code",
   "execution_count": 18,
   "metadata": {},
   "outputs": [],
   "source": [
    "from spikeinterface.sortingcomponents.benchmark.benchmark_tools import BenchmarkBase, _simpleaxis \n",
    "import pylab as plt\n",
    "import matplotlib\n",
    "\n",
    "def plot_comparison_precision_2(benchmarks, colors=None):\n",
    "\n",
    "    import pylab as plt\n",
    "    fig, axes = plt.subplots(nrows=3, ncols=len(benchmarks) + 1, figsize=(15, 7), squeeze=False)\n",
    "    \n",
    "    to_explore = list(benchmarks_ms.keys())\n",
    "    to_explore.remove('xaxis')\n",
    "    \n",
    "    for title in to_explore:\n",
    "        \n",
    "        \n",
    "        if title.find('Monopolar') > -1:\n",
    "            jcount = 1\n",
    "        elif title.find('CoM') > -1:\n",
    "            jcount = 0\n",
    "        elif title.find('Grid') > -1:\n",
    "            jcount = 2\n",
    "    \n",
    "        for icount, benchmark in enumerate(benchmarks):\n",
    "\n",
    "            bench = benchmark[title]\n",
    "            \n",
    "            #vrange = np.array(list(bench.keys()))\n",
    "            #v_min = np.min(vrange)\n",
    "            #v_max = np.max(vrange)\n",
    "\n",
    "            #my_cmap = plt.get_cmap(cmaps[jcount])\n",
    "            #cNorm  = matplotlib.colors.Normalize(vmin=v_min, vmax=v_max)\n",
    "            #scalarMap = plt.cm.ScalarMappable(norm=cNorm, cmap=my_cmap)\n",
    "\n",
    "            if icount == len(benchmarks) - 1:\n",
    "                b = bench[0]\n",
    "\n",
    "                spikes = b.spike_positions[0]\n",
    "                units = b.waveforms.sorting.unit_ids\n",
    "                all_x = np.concatenate([spikes[unit_id]['x'] for unit_id in units])\n",
    "                all_y = np.concatenate([spikes[unit_id]['y'] for unit_id in units])\n",
    "                try:\n",
    "                    all_z = np.concatenate([spikes[unit_id]['z'] for unit_id in units])\n",
    "                except Exception:\n",
    "                    all_z = np.nan * np.zeros(len(all_x))\n",
    "\n",
    "                gt_positions = b.gt_positions\n",
    "                real_x = np.concatenate([gt_positions[c, 0]*np.ones(len(spikes[i]['x'])) for c, i in enumerate(units)])\n",
    "                real_y = np.concatenate([gt_positions[c, 1]*np.ones(len(spikes[i]['y'])) for c, i in enumerate(units)])\n",
    "                try:\n",
    "                    real_z = np.concatenate([gt_positions[c, 2]*np.ones(len(spikes[i]['z'])) for c, i in enumerate(units)])\n",
    "                except Exception:\n",
    "                    real_z = np.nan * np.zeros(len(real_x))\n",
    "\n",
    "                dx = np.abs(all_x - real_x)\n",
    "                dy = np.abs(all_y - real_y)\n",
    "                dz = np.abs(all_z - real_z)\n",
    "                ax = axes[jcount, icount+1]\n",
    "                \n",
    "                x_means = np.array([np.nanmean(dx), np.nanmean(dy), np.nanmean(dz)])\n",
    "                y_means = np.array([np.nanstd(dx), np.nanstd(dy), np.nanstd(dz)])\n",
    "                \n",
    "                ax.plot(np.arange(3), x_means, c=colors[title], lw=2)\n",
    "                ax.fill_between(np.arange(len(x_means)), x_means-y_means,x_means+y_means,\n",
    "                            color=colors[title], alpha=0.05)\n",
    "                _simpleaxis(ax)\n",
    "                \n",
    "                ax.set_ylabel('error (um)')\n",
    "                #if jcount == 0:\n",
    "                ax.set_xticks(np.arange(3), ['x', 'y', 'z'])\n",
    "                ax.set_ylim(0, 45)\n",
    "            \n",
    "            ax = axes[jcount, icount]\n",
    "            \n",
    "            _simpleaxis(ax)\n",
    "\n",
    "            x_means = []\n",
    "            y_means = []\n",
    "            y_stds = []\n",
    "            labels = []\n",
    "            \n",
    "            for b in bench:\n",
    "                x_means += [np.mean(b.medians_over_templates)]\n",
    "                #x_stds += [np.std(b.medians_over_templates)]\n",
    "                y_means += [np.mean(b.mads_over_templates)]\n",
    "                #y_stds += [np.std(b.mads_over_templates)]\n",
    "                #colors += [scalarMap.to_rgba(key)]\n",
    "                #label = b.title.replace('Mononopolar', '')\n",
    "                #label = label.replace('CoM (ptp)', '')\n",
    "                #label = label.replace('Grid', '')\n",
    "                #label = label.replace('[', '')\n",
    "                #label = label.replace(']', '')\n",
    "                #labels += [label]\n",
    "                #title = b.title\n",
    "            xaxis = benchmark['xaxis']\n",
    "                #ax.scatter(x_means, y_means, c=colors, label=label, s=200, edgecolor='k')\n",
    "            \n",
    "            x_means = np.array(x_means)\n",
    "            y_means = np.array(y_means)\n",
    "            ax.plot(xaxis, x_means, color=colors[title], lw=2, label=title)\n",
    "            ax.fill_between(xaxis, x_means-y_means,x_means+y_means,\n",
    "                            color=colors[title], alpha=0.05)\n",
    "                \n",
    "            #ax.errorbar(x_means, y_means, xerr=x_stds, yerr=y_stds, fmt='.', c='0.5', alpha=0.5)\n",
    "                \n",
    "    \n",
    "            #ax.legend(loc='lower right')\n",
    "            \n",
    "            if icount == 0:\n",
    "                ax.set_ylabel('error medians (um)')\n",
    "            else:\n",
    "                ax.set_yticks([])\n",
    "            \n",
    "            if jcount == 2:\n",
    "                if icount == 0:\n",
    "                    ax.set_xlabel('Time (ms)')\n",
    "                elif icount == 1:\n",
    "                    ax.set_xlabel('Radius (um)')\n",
    "                elif icount == 2:\n",
    "                    ax.set_xlabel('Cutoff (Hz)')\n",
    "            else:\n",
    "                ax.set_xticks([])\n",
    "                #ax.set_xlim(7, 9)\n",
    "            #    ax.set_xticks([])\n",
    "            #else:\n",
    "            #    ax.set_xticks(np.arange(len(labels)), labels, rotation=45)\n",
    "                #ax.set_xlim(12, 14)\n",
    "            \n",
    "            #ymin, ymax = ax.get_ylim()\n",
    "            \n",
    "            ax.set_ylim(5, 35)\n",
    "            #else:\n",
    "            #    ax.set_ylim(0, 2)\n",
    "                #ax.set_xlim(5, 20)\n",
    "            \n",
    "            #ax.set_title(method)\n",
    "        axes[jcount, 0].legend()"
   ]
  },
  {
   "cell_type": "code",
   "execution_count": 19,
   "metadata": {},
   "outputs": [
    {
     "name": "stderr",
     "output_type": "stream",
     "text": [
      "/tmp/ipykernel_509438/1069357214.py:60: RuntimeWarning: Mean of empty slice\n",
      "  x_means = np.array([np.nanmean(dx), np.nanmean(dy), np.nanmean(dz)])\n",
      "/home/pierre/anaconda3/envs/si/lib/python3.9/site-packages/numpy/lib/nanfunctions.py:1872: RuntimeWarning: Degrees of freedom <= 0 for slice.\n",
      "  var = nanvar(a, axis=axis, dtype=dtype, out=out, ddof=ddof,\n"
     ]
    },
    {
     "data": {
      "image/png": "[encoded data removed]",
      "text/plain": [
       "<Figure size 1500x700 with 12 Axes>"
      ]
     },
     "metadata": {},
     "output_type": "display_data"
    }
   ],
   "source": [
    "plot_comparison_precision_2([benchmarks_ms, benchmarks_radius, benchmarks_cutoff], colors=colors)\n",
    "plt.tight_layout()\n",
    "plt.savefig('influence.pdf')"
   ]
  },
  {
   "cell_type": "code",
   "execution_count": 134,
   "metadata": {},
   "outputs": [],
   "source": [
    "benchmarks_cutoff['Monopolar (peak_voltage)'] = benchmarks_cutoff.pop('Mononopolar (peak_voltage)')"
   ]
  },
  {
   "cell_type": "code",
   "execution_count": 131,
   "metadata": {},
   "outputs": [
    {
     "data": {
      "text/plain": [
       "dict_keys(['xaxis', 'Mononopolar (ptp)', 'Mononopolar (energy)', 'Mononopolar (peak_voltage)', 'CoM (ptp)', 'CoM (energy)', 'CoM (peak_voltage)', 'Grid'])"
      ]
     },
     "execution_count": 131,
     "metadata": {},
     "output_type": "execute_result"
    }
   ],
   "source": [
    "benchmarks_cutoff.keys()"
   ]
  },
  {
   "cell_type": "code",
   "execution_count": 82,
   "metadata": {},
   "outputs": [
    {
     "data": {
      "text/plain": [
       "'Mononopolar (ptp)'"
      ]
     },
     "execution_count": 82,
     "metadata": {},
     "output_type": "execute_result"
    }
   ],
   "source": [
    "tmp[0]"
   ]
  }
 ],
 "metadata": {
  "kernelspec": {
   "display_name": "Python 3 (ipykernel)",
   "language": "python",
   "name": "python3"
  },
  "language_info": {
   "codemirror_mode": {
    "name": "ipython",
    "version": 3
   },
   "file_extension": ".py",
   "mimetype": "text/x-python",
   "name": "python",
   "nbconvert_exporter": "python",
   "pygments_lexer": "ipython3",
   "version": "3.9.16"
  },
  "vscode": {
   "interpreter": {
    "hash": "b50c9e5c20b80a7fea53278e7b85976e5483a9191b272239eb7a6e566d7885cc"
   }
  }
 },
 "nbformat": 4,
 "nbformat_minor": 4
}
